{
  "nbformat": 4,
  "nbformat_minor": 0,
  "metadata": {
    "colab": {
      "provenance": [],
      "toc_visible": true,
      "gpuType": "T4"
    },
    "kernelspec": {
      "name": "python3",
      "display_name": "Python 3"
    },
    "language_info": {
      "name": "python"
    },
    "accelerator": "GPU",
    "widgets": {
      "application/vnd.jupyter.widget-state+json": {
        "a1b2819a95324c3f84d8fc3daf7ece3d": {
          "model_module": "@jupyter-widgets/controls",
          "model_name": "HBoxModel",
          "model_module_version": "1.5.0",
          "state": {
            "_dom_classes": [],
            "_model_module": "@jupyter-widgets/controls",
            "_model_module_version": "1.5.0",
            "_model_name": "HBoxModel",
            "_view_count": null,
            "_view_module": "@jupyter-widgets/controls",
            "_view_module_version": "1.5.0",
            "_view_name": "HBoxView",
            "box_style": "",
            "children": [
              "IPY_MODEL_405cca4414e549d7becb175908365c35",
              "IPY_MODEL_ea9ea3415f7f439c8ad444bfc17ecf0a",
              "IPY_MODEL_822f1e7a63fd4f36909b2c21ea04c16f"
            ],
            "layout": "IPY_MODEL_2c67dfe4933046c78cac268f37a05a11"
          }
        },
        "405cca4414e549d7becb175908365c35": {
          "model_module": "@jupyter-widgets/controls",
          "model_name": "HTMLModel",
          "model_module_version": "1.5.0",
          "state": {
            "_dom_classes": [],
            "_model_module": "@jupyter-widgets/controls",
            "_model_module_version": "1.5.0",
            "_model_name": "HTMLModel",
            "_view_count": null,
            "_view_module": "@jupyter-widgets/controls",
            "_view_module_version": "1.5.0",
            "_view_name": "HTMLView",
            "description": "",
            "description_tooltip": null,
            "layout": "IPY_MODEL_f83ce936c64448e18be16a05d645ce60",
            "placeholder": "​",
            "style": "IPY_MODEL_53cf5912597249a2ae3c131ab267e32b",
            "value": "Downloading (…)lve/main/config.json: 100%"
          }
        },
        "ea9ea3415f7f439c8ad444bfc17ecf0a": {
          "model_module": "@jupyter-widgets/controls",
          "model_name": "FloatProgressModel",
          "model_module_version": "1.5.0",
          "state": {
            "_dom_classes": [],
            "_model_module": "@jupyter-widgets/controls",
            "_model_module_version": "1.5.0",
            "_model_name": "FloatProgressModel",
            "_view_count": null,
            "_view_module": "@jupyter-widgets/controls",
            "_view_module_version": "1.5.0",
            "_view_name": "ProgressView",
            "bar_style": "success",
            "description": "",
            "description_tooltip": null,
            "layout": "IPY_MODEL_ad1e25d151024324b763b188db063bed",
            "max": 480,
            "min": 0,
            "orientation": "horizontal",
            "style": "IPY_MODEL_f77b6ba46673457dab970d48e6bde308",
            "value": 480
          }
        },
        "822f1e7a63fd4f36909b2c21ea04c16f": {
          "model_module": "@jupyter-widgets/controls",
          "model_name": "HTMLModel",
          "model_module_version": "1.5.0",
          "state": {
            "_dom_classes": [],
            "_model_module": "@jupyter-widgets/controls",
            "_model_module_version": "1.5.0",
            "_model_name": "HTMLModel",
            "_view_count": null,
            "_view_module": "@jupyter-widgets/controls",
            "_view_module_version": "1.5.0",
            "_view_name": "HTMLView",
            "description": "",
            "description_tooltip": null,
            "layout": "IPY_MODEL_72791d90c7c042d5ab5783fa81fa01a2",
            "placeholder": "​",
            "style": "IPY_MODEL_791460e7b350434eae1992fb8315c24e",
            "value": " 480/480 [00:00&lt;00:00, 27.0kB/s]"
          }
        },
        "2c67dfe4933046c78cac268f37a05a11": {
          "model_module": "@jupyter-widgets/base",
          "model_name": "LayoutModel",
          "model_module_version": "1.2.0",
          "state": {
            "_model_module": "@jupyter-widgets/base",
            "_model_module_version": "1.2.0",
            "_model_name": "LayoutModel",
            "_view_count": null,
            "_view_module": "@jupyter-widgets/base",
            "_view_module_version": "1.2.0",
            "_view_name": "LayoutView",
            "align_content": null,
            "align_items": null,
            "align_self": null,
            "border": null,
            "bottom": null,
            "display": null,
            "flex": null,
            "flex_flow": null,
            "grid_area": null,
            "grid_auto_columns": null,
            "grid_auto_flow": null,
            "grid_auto_rows": null,
            "grid_column": null,
            "grid_gap": null,
            "grid_row": null,
            "grid_template_areas": null,
            "grid_template_columns": null,
            "grid_template_rows": null,
            "height": null,
            "justify_content": null,
            "justify_items": null,
            "left": null,
            "margin": null,
            "max_height": null,
            "max_width": null,
            "min_height": null,
            "min_width": null,
            "object_fit": null,
            "object_position": null,
            "order": null,
            "overflow": null,
            "overflow_x": null,
            "overflow_y": null,
            "padding": null,
            "right": null,
            "top": null,
            "visibility": null,
            "width": null
          }
        },
        "f83ce936c64448e18be16a05d645ce60": {
          "model_module": "@jupyter-widgets/base",
          "model_name": "LayoutModel",
          "model_module_version": "1.2.0",
          "state": {
            "_model_module": "@jupyter-widgets/base",
            "_model_module_version": "1.2.0",
            "_model_name": "LayoutModel",
            "_view_count": null,
            "_view_module": "@jupyter-widgets/base",
            "_view_module_version": "1.2.0",
            "_view_name": "LayoutView",
            "align_content": null,
            "align_items": null,
            "align_self": null,
            "border": null,
            "bottom": null,
            "display": null,
            "flex": null,
            "flex_flow": null,
            "grid_area": null,
            "grid_auto_columns": null,
            "grid_auto_flow": null,
            "grid_auto_rows": null,
            "grid_column": null,
            "grid_gap": null,
            "grid_row": null,
            "grid_template_areas": null,
            "grid_template_columns": null,
            "grid_template_rows": null,
            "height": null,
            "justify_content": null,
            "justify_items": null,
            "left": null,
            "margin": null,
            "max_height": null,
            "max_width": null,
            "min_height": null,
            "min_width": null,
            "object_fit": null,
            "object_position": null,
            "order": null,
            "overflow": null,
            "overflow_x": null,
            "overflow_y": null,
            "padding": null,
            "right": null,
            "top": null,
            "visibility": null,
            "width": null
          }
        },
        "53cf5912597249a2ae3c131ab267e32b": {
          "model_module": "@jupyter-widgets/controls",
          "model_name": "DescriptionStyleModel",
          "model_module_version": "1.5.0",
          "state": {
            "_model_module": "@jupyter-widgets/controls",
            "_model_module_version": "1.5.0",
            "_model_name": "DescriptionStyleModel",
            "_view_count": null,
            "_view_module": "@jupyter-widgets/base",
            "_view_module_version": "1.2.0",
            "_view_name": "StyleView",
            "description_width": ""
          }
        },
        "ad1e25d151024324b763b188db063bed": {
          "model_module": "@jupyter-widgets/base",
          "model_name": "LayoutModel",
          "model_module_version": "1.2.0",
          "state": {
            "_model_module": "@jupyter-widgets/base",
            "_model_module_version": "1.2.0",
            "_model_name": "LayoutModel",
            "_view_count": null,
            "_view_module": "@jupyter-widgets/base",
            "_view_module_version": "1.2.0",
            "_view_name": "LayoutView",
            "align_content": null,
            "align_items": null,
            "align_self": null,
            "border": null,
            "bottom": null,
            "display": null,
            "flex": null,
            "flex_flow": null,
            "grid_area": null,
            "grid_auto_columns": null,
            "grid_auto_flow": null,
            "grid_auto_rows": null,
            "grid_column": null,
            "grid_gap": null,
            "grid_row": null,
            "grid_template_areas": null,
            "grid_template_columns": null,
            "grid_template_rows": null,
            "height": null,
            "justify_content": null,
            "justify_items": null,
            "left": null,
            "margin": null,
            "max_height": null,
            "max_width": null,
            "min_height": null,
            "min_width": null,
            "object_fit": null,
            "object_position": null,
            "order": null,
            "overflow": null,
            "overflow_x": null,
            "overflow_y": null,
            "padding": null,
            "right": null,
            "top": null,
            "visibility": null,
            "width": null
          }
        },
        "f77b6ba46673457dab970d48e6bde308": {
          "model_module": "@jupyter-widgets/controls",
          "model_name": "ProgressStyleModel",
          "model_module_version": "1.5.0",
          "state": {
            "_model_module": "@jupyter-widgets/controls",
            "_model_module_version": "1.5.0",
            "_model_name": "ProgressStyleModel",
            "_view_count": null,
            "_view_module": "@jupyter-widgets/base",
            "_view_module_version": "1.2.0",
            "_view_name": "StyleView",
            "bar_color": null,
            "description_width": ""
          }
        },
        "72791d90c7c042d5ab5783fa81fa01a2": {
          "model_module": "@jupyter-widgets/base",
          "model_name": "LayoutModel",
          "model_module_version": "1.2.0",
          "state": {
            "_model_module": "@jupyter-widgets/base",
            "_model_module_version": "1.2.0",
            "_model_name": "LayoutModel",
            "_view_count": null,
            "_view_module": "@jupyter-widgets/base",
            "_view_module_version": "1.2.0",
            "_view_name": "LayoutView",
            "align_content": null,
            "align_items": null,
            "align_self": null,
            "border": null,
            "bottom": null,
            "display": null,
            "flex": null,
            "flex_flow": null,
            "grid_area": null,
            "grid_auto_columns": null,
            "grid_auto_flow": null,
            "grid_auto_rows": null,
            "grid_column": null,
            "grid_gap": null,
            "grid_row": null,
            "grid_template_areas": null,
            "grid_template_columns": null,
            "grid_template_rows": null,
            "height": null,
            "justify_content": null,
            "justify_items": null,
            "left": null,
            "margin": null,
            "max_height": null,
            "max_width": null,
            "min_height": null,
            "min_width": null,
            "object_fit": null,
            "object_position": null,
            "order": null,
            "overflow": null,
            "overflow_x": null,
            "overflow_y": null,
            "padding": null,
            "right": null,
            "top": null,
            "visibility": null,
            "width": null
          }
        },
        "791460e7b350434eae1992fb8315c24e": {
          "model_module": "@jupyter-widgets/controls",
          "model_name": "DescriptionStyleModel",
          "model_module_version": "1.5.0",
          "state": {
            "_model_module": "@jupyter-widgets/controls",
            "_model_module_version": "1.5.0",
            "_model_name": "DescriptionStyleModel",
            "_view_count": null,
            "_view_module": "@jupyter-widgets/base",
            "_view_module_version": "1.2.0",
            "_view_name": "StyleView",
            "description_width": ""
          }
        },
        "e2fb65372da84d05bcde1559f455b9f8": {
          "model_module": "@jupyter-widgets/controls",
          "model_name": "HBoxModel",
          "model_module_version": "1.5.0",
          "state": {
            "_dom_classes": [],
            "_model_module": "@jupyter-widgets/controls",
            "_model_module_version": "1.5.0",
            "_model_name": "HBoxModel",
            "_view_count": null,
            "_view_module": "@jupyter-widgets/controls",
            "_view_module_version": "1.5.0",
            "_view_name": "HBoxView",
            "box_style": "",
            "children": [
              "IPY_MODEL_069b9aa7244f44e79f697c43f659ac02",
              "IPY_MODEL_dc0da435f1884b58bc1ab3d5288edc43",
              "IPY_MODEL_2b97ecfc65a94d238c20f34a2032b934"
            ],
            "layout": "IPY_MODEL_de44df3444d644bf9866a26aaba1dae8"
          }
        },
        "069b9aa7244f44e79f697c43f659ac02": {
          "model_module": "@jupyter-widgets/controls",
          "model_name": "HTMLModel",
          "model_module_version": "1.5.0",
          "state": {
            "_dom_classes": [],
            "_model_module": "@jupyter-widgets/controls",
            "_model_module_version": "1.5.0",
            "_model_name": "HTMLModel",
            "_view_count": null,
            "_view_module": "@jupyter-widgets/controls",
            "_view_module_version": "1.5.0",
            "_view_name": "HTMLView",
            "description": "",
            "description_tooltip": null,
            "layout": "IPY_MODEL_93a2530b6869478f935bdc5e88770a0b",
            "placeholder": "​",
            "style": "IPY_MODEL_c8d8433bc4fa4de08620155a6c800104",
            "value": "Downloading model.safetensors: 100%"
          }
        },
        "dc0da435f1884b58bc1ab3d5288edc43": {
          "model_module": "@jupyter-widgets/controls",
          "model_name": "FloatProgressModel",
          "model_module_version": "1.5.0",
          "state": {
            "_dom_classes": [],
            "_model_module": "@jupyter-widgets/controls",
            "_model_module_version": "1.5.0",
            "_model_name": "FloatProgressModel",
            "_view_count": null,
            "_view_module": "@jupyter-widgets/controls",
            "_view_module_version": "1.5.0",
            "_view_name": "ProgressView",
            "bar_style": "success",
            "description": "",
            "description_tooltip": null,
            "layout": "IPY_MODEL_63a7870f2b9f41cd856c1babec1d1786",
            "max": 331055963,
            "min": 0,
            "orientation": "horizontal",
            "style": "IPY_MODEL_dfb0109064f14dc5a63ba3e0a9e82708",
            "value": 331055963
          }
        },
        "2b97ecfc65a94d238c20f34a2032b934": {
          "model_module": "@jupyter-widgets/controls",
          "model_name": "HTMLModel",
          "model_module_version": "1.5.0",
          "state": {
            "_dom_classes": [],
            "_model_module": "@jupyter-widgets/controls",
            "_model_module_version": "1.5.0",
            "_model_name": "HTMLModel",
            "_view_count": null,
            "_view_module": "@jupyter-widgets/controls",
            "_view_module_version": "1.5.0",
            "_view_name": "HTMLView",
            "description": "",
            "description_tooltip": null,
            "layout": "IPY_MODEL_199ed359321040209499fde111248fee",
            "placeholder": "​",
            "style": "IPY_MODEL_86b03fc31b4145aa86b9695e482b61b1",
            "value": " 331M/331M [00:01&lt;00:00, 337MB/s]"
          }
        },
        "de44df3444d644bf9866a26aaba1dae8": {
          "model_module": "@jupyter-widgets/base",
          "model_name": "LayoutModel",
          "model_module_version": "1.2.0",
          "state": {
            "_model_module": "@jupyter-widgets/base",
            "_model_module_version": "1.2.0",
            "_model_name": "LayoutModel",
            "_view_count": null,
            "_view_module": "@jupyter-widgets/base",
            "_view_module_version": "1.2.0",
            "_view_name": "LayoutView",
            "align_content": null,
            "align_items": null,
            "align_self": null,
            "border": null,
            "bottom": null,
            "display": null,
            "flex": null,
            "flex_flow": null,
            "grid_area": null,
            "grid_auto_columns": null,
            "grid_auto_flow": null,
            "grid_auto_rows": null,
            "grid_column": null,
            "grid_gap": null,
            "grid_row": null,
            "grid_template_areas": null,
            "grid_template_columns": null,
            "grid_template_rows": null,
            "height": null,
            "justify_content": null,
            "justify_items": null,
            "left": null,
            "margin": null,
            "max_height": null,
            "max_width": null,
            "min_height": null,
            "min_width": null,
            "object_fit": null,
            "object_position": null,
            "order": null,
            "overflow": null,
            "overflow_x": null,
            "overflow_y": null,
            "padding": null,
            "right": null,
            "top": null,
            "visibility": null,
            "width": null
          }
        },
        "93a2530b6869478f935bdc5e88770a0b": {
          "model_module": "@jupyter-widgets/base",
          "model_name": "LayoutModel",
          "model_module_version": "1.2.0",
          "state": {
            "_model_module": "@jupyter-widgets/base",
            "_model_module_version": "1.2.0",
            "_model_name": "LayoutModel",
            "_view_count": null,
            "_view_module": "@jupyter-widgets/base",
            "_view_module_version": "1.2.0",
            "_view_name": "LayoutView",
            "align_content": null,
            "align_items": null,
            "align_self": null,
            "border": null,
            "bottom": null,
            "display": null,
            "flex": null,
            "flex_flow": null,
            "grid_area": null,
            "grid_auto_columns": null,
            "grid_auto_flow": null,
            "grid_auto_rows": null,
            "grid_column": null,
            "grid_gap": null,
            "grid_row": null,
            "grid_template_areas": null,
            "grid_template_columns": null,
            "grid_template_rows": null,
            "height": null,
            "justify_content": null,
            "justify_items": null,
            "left": null,
            "margin": null,
            "max_height": null,
            "max_width": null,
            "min_height": null,
            "min_width": null,
            "object_fit": null,
            "object_position": null,
            "order": null,
            "overflow": null,
            "overflow_x": null,
            "overflow_y": null,
            "padding": null,
            "right": null,
            "top": null,
            "visibility": null,
            "width": null
          }
        },
        "c8d8433bc4fa4de08620155a6c800104": {
          "model_module": "@jupyter-widgets/controls",
          "model_name": "DescriptionStyleModel",
          "model_module_version": "1.5.0",
          "state": {
            "_model_module": "@jupyter-widgets/controls",
            "_model_module_version": "1.5.0",
            "_model_name": "DescriptionStyleModel",
            "_view_count": null,
            "_view_module": "@jupyter-widgets/base",
            "_view_module_version": "1.2.0",
            "_view_name": "StyleView",
            "description_width": ""
          }
        },
        "63a7870f2b9f41cd856c1babec1d1786": {
          "model_module": "@jupyter-widgets/base",
          "model_name": "LayoutModel",
          "model_module_version": "1.2.0",
          "state": {
            "_model_module": "@jupyter-widgets/base",
            "_model_module_version": "1.2.0",
            "_model_name": "LayoutModel",
            "_view_count": null,
            "_view_module": "@jupyter-widgets/base",
            "_view_module_version": "1.2.0",
            "_view_name": "LayoutView",
            "align_content": null,
            "align_items": null,
            "align_self": null,
            "border": null,
            "bottom": null,
            "display": null,
            "flex": null,
            "flex_flow": null,
            "grid_area": null,
            "grid_auto_columns": null,
            "grid_auto_flow": null,
            "grid_auto_rows": null,
            "grid_column": null,
            "grid_gap": null,
            "grid_row": null,
            "grid_template_areas": null,
            "grid_template_columns": null,
            "grid_template_rows": null,
            "height": null,
            "justify_content": null,
            "justify_items": null,
            "left": null,
            "margin": null,
            "max_height": null,
            "max_width": null,
            "min_height": null,
            "min_width": null,
            "object_fit": null,
            "object_position": null,
            "order": null,
            "overflow": null,
            "overflow_x": null,
            "overflow_y": null,
            "padding": null,
            "right": null,
            "top": null,
            "visibility": null,
            "width": null
          }
        },
        "dfb0109064f14dc5a63ba3e0a9e82708": {
          "model_module": "@jupyter-widgets/controls",
          "model_name": "ProgressStyleModel",
          "model_module_version": "1.5.0",
          "state": {
            "_model_module": "@jupyter-widgets/controls",
            "_model_module_version": "1.5.0",
            "_model_name": "ProgressStyleModel",
            "_view_count": null,
            "_view_module": "@jupyter-widgets/base",
            "_view_module_version": "1.2.0",
            "_view_name": "StyleView",
            "bar_color": null,
            "description_width": ""
          }
        },
        "199ed359321040209499fde111248fee": {
          "model_module": "@jupyter-widgets/base",
          "model_name": "LayoutModel",
          "model_module_version": "1.2.0",
          "state": {
            "_model_module": "@jupyter-widgets/base",
            "_model_module_version": "1.2.0",
            "_model_name": "LayoutModel",
            "_view_count": null,
            "_view_module": "@jupyter-widgets/base",
            "_view_module_version": "1.2.0",
            "_view_name": "LayoutView",
            "align_content": null,
            "align_items": null,
            "align_self": null,
            "border": null,
            "bottom": null,
            "display": null,
            "flex": null,
            "flex_flow": null,
            "grid_area": null,
            "grid_auto_columns": null,
            "grid_auto_flow": null,
            "grid_auto_rows": null,
            "grid_column": null,
            "grid_gap": null,
            "grid_row": null,
            "grid_template_areas": null,
            "grid_template_columns": null,
            "grid_template_rows": null,
            "height": null,
            "justify_content": null,
            "justify_items": null,
            "left": null,
            "margin": null,
            "max_height": null,
            "max_width": null,
            "min_height": null,
            "min_width": null,
            "object_fit": null,
            "object_position": null,
            "order": null,
            "overflow": null,
            "overflow_x": null,
            "overflow_y": null,
            "padding": null,
            "right": null,
            "top": null,
            "visibility": null,
            "width": null
          }
        },
        "86b03fc31b4145aa86b9695e482b61b1": {
          "model_module": "@jupyter-widgets/controls",
          "model_name": "DescriptionStyleModel",
          "model_module_version": "1.5.0",
          "state": {
            "_model_module": "@jupyter-widgets/controls",
            "_model_module_version": "1.5.0",
            "_model_name": "DescriptionStyleModel",
            "_view_count": null,
            "_view_module": "@jupyter-widgets/base",
            "_view_module_version": "1.2.0",
            "_view_name": "StyleView",
            "description_width": ""
          }
        },
        "f70f633107ae4291a91e3c18e2bcf53c": {
          "model_module": "@jupyter-widgets/controls",
          "model_name": "HBoxModel",
          "model_module_version": "1.5.0",
          "state": {
            "_dom_classes": [],
            "_model_module": "@jupyter-widgets/controls",
            "_model_module_version": "1.5.0",
            "_model_name": "HBoxModel",
            "_view_count": null,
            "_view_module": "@jupyter-widgets/controls",
            "_view_module_version": "1.5.0",
            "_view_name": "HBoxView",
            "box_style": "",
            "children": [
              "IPY_MODEL_69cc1240d2d84914a3d30aa7ef505a1c",
              "IPY_MODEL_14a5fde97d76405885574eee3d977951",
              "IPY_MODEL_a9dc8a0074ec45b19e55519b35a7fdc4"
            ],
            "layout": "IPY_MODEL_0d062be263414c2a95cfe3a007d0ea46"
          }
        },
        "69cc1240d2d84914a3d30aa7ef505a1c": {
          "model_module": "@jupyter-widgets/controls",
          "model_name": "HTMLModel",
          "model_module_version": "1.5.0",
          "state": {
            "_dom_classes": [],
            "_model_module": "@jupyter-widgets/controls",
            "_model_module_version": "1.5.0",
            "_model_name": "HTMLModel",
            "_view_count": null,
            "_view_module": "@jupyter-widgets/controls",
            "_view_module_version": "1.5.0",
            "_view_name": "HTMLView",
            "description": "",
            "description_tooltip": null,
            "layout": "IPY_MODEL_a28ecb01c4a24b0a8bfd26cbfd08818e",
            "placeholder": "​",
            "style": "IPY_MODEL_5dfc2edb94c94bbb9b02c0cfdfc8be50",
            "value": "Downloading (…)olve/main/vocab.json: 100%"
          }
        },
        "14a5fde97d76405885574eee3d977951": {
          "model_module": "@jupyter-widgets/controls",
          "model_name": "FloatProgressModel",
          "model_module_version": "1.5.0",
          "state": {
            "_dom_classes": [],
            "_model_module": "@jupyter-widgets/controls",
            "_model_module_version": "1.5.0",
            "_model_name": "FloatProgressModel",
            "_view_count": null,
            "_view_module": "@jupyter-widgets/controls",
            "_view_module_version": "1.5.0",
            "_view_name": "ProgressView",
            "bar_style": "success",
            "description": "",
            "description_tooltip": null,
            "layout": "IPY_MODEL_4aef34c5d4954ec0a00166832bc529bc",
            "max": 898823,
            "min": 0,
            "orientation": "horizontal",
            "style": "IPY_MODEL_8075f77e27894264913408569c2201b0",
            "value": 898823
          }
        },
        "a9dc8a0074ec45b19e55519b35a7fdc4": {
          "model_module": "@jupyter-widgets/controls",
          "model_name": "HTMLModel",
          "model_module_version": "1.5.0",
          "state": {
            "_dom_classes": [],
            "_model_module": "@jupyter-widgets/controls",
            "_model_module_version": "1.5.0",
            "_model_name": "HTMLModel",
            "_view_count": null,
            "_view_module": "@jupyter-widgets/controls",
            "_view_module_version": "1.5.0",
            "_view_name": "HTMLView",
            "description": "",
            "description_tooltip": null,
            "layout": "IPY_MODEL_af60ca1393e940fa86ddc318f7c2a9f6",
            "placeholder": "​",
            "style": "IPY_MODEL_b4f4974d5a564557badced9125b89380",
            "value": " 899k/899k [00:00&lt;00:00, 3.79MB/s]"
          }
        },
        "0d062be263414c2a95cfe3a007d0ea46": {
          "model_module": "@jupyter-widgets/base",
          "model_name": "LayoutModel",
          "model_module_version": "1.2.0",
          "state": {
            "_model_module": "@jupyter-widgets/base",
            "_model_module_version": "1.2.0",
            "_model_name": "LayoutModel",
            "_view_count": null,
            "_view_module": "@jupyter-widgets/base",
            "_view_module_version": "1.2.0",
            "_view_name": "LayoutView",
            "align_content": null,
            "align_items": null,
            "align_self": null,
            "border": null,
            "bottom": null,
            "display": null,
            "flex": null,
            "flex_flow": null,
            "grid_area": null,
            "grid_auto_columns": null,
            "grid_auto_flow": null,
            "grid_auto_rows": null,
            "grid_column": null,
            "grid_gap": null,
            "grid_row": null,
            "grid_template_areas": null,
            "grid_template_columns": null,
            "grid_template_rows": null,
            "height": null,
            "justify_content": null,
            "justify_items": null,
            "left": null,
            "margin": null,
            "max_height": null,
            "max_width": null,
            "min_height": null,
            "min_width": null,
            "object_fit": null,
            "object_position": null,
            "order": null,
            "overflow": null,
            "overflow_x": null,
            "overflow_y": null,
            "padding": null,
            "right": null,
            "top": null,
            "visibility": null,
            "width": null
          }
        },
        "a28ecb01c4a24b0a8bfd26cbfd08818e": {
          "model_module": "@jupyter-widgets/base",
          "model_name": "LayoutModel",
          "model_module_version": "1.2.0",
          "state": {
            "_model_module": "@jupyter-widgets/base",
            "_model_module_version": "1.2.0",
            "_model_name": "LayoutModel",
            "_view_count": null,
            "_view_module": "@jupyter-widgets/base",
            "_view_module_version": "1.2.0",
            "_view_name": "LayoutView",
            "align_content": null,
            "align_items": null,
            "align_self": null,
            "border": null,
            "bottom": null,
            "display": null,
            "flex": null,
            "flex_flow": null,
            "grid_area": null,
            "grid_auto_columns": null,
            "grid_auto_flow": null,
            "grid_auto_rows": null,
            "grid_column": null,
            "grid_gap": null,
            "grid_row": null,
            "grid_template_areas": null,
            "grid_template_columns": null,
            "grid_template_rows": null,
            "height": null,
            "justify_content": null,
            "justify_items": null,
            "left": null,
            "margin": null,
            "max_height": null,
            "max_width": null,
            "min_height": null,
            "min_width": null,
            "object_fit": null,
            "object_position": null,
            "order": null,
            "overflow": null,
            "overflow_x": null,
            "overflow_y": null,
            "padding": null,
            "right": null,
            "top": null,
            "visibility": null,
            "width": null
          }
        },
        "5dfc2edb94c94bbb9b02c0cfdfc8be50": {
          "model_module": "@jupyter-widgets/controls",
          "model_name": "DescriptionStyleModel",
          "model_module_version": "1.5.0",
          "state": {
            "_model_module": "@jupyter-widgets/controls",
            "_model_module_version": "1.5.0",
            "_model_name": "DescriptionStyleModel",
            "_view_count": null,
            "_view_module": "@jupyter-widgets/base",
            "_view_module_version": "1.2.0",
            "_view_name": "StyleView",
            "description_width": ""
          }
        },
        "4aef34c5d4954ec0a00166832bc529bc": {
          "model_module": "@jupyter-widgets/base",
          "model_name": "LayoutModel",
          "model_module_version": "1.2.0",
          "state": {
            "_model_module": "@jupyter-widgets/base",
            "_model_module_version": "1.2.0",
            "_model_name": "LayoutModel",
            "_view_count": null,
            "_view_module": "@jupyter-widgets/base",
            "_view_module_version": "1.2.0",
            "_view_name": "LayoutView",
            "align_content": null,
            "align_items": null,
            "align_self": null,
            "border": null,
            "bottom": null,
            "display": null,
            "flex": null,
            "flex_flow": null,
            "grid_area": null,
            "grid_auto_columns": null,
            "grid_auto_flow": null,
            "grid_auto_rows": null,
            "grid_column": null,
            "grid_gap": null,
            "grid_row": null,
            "grid_template_areas": null,
            "grid_template_columns": null,
            "grid_template_rows": null,
            "height": null,
            "justify_content": null,
            "justify_items": null,
            "left": null,
            "margin": null,
            "max_height": null,
            "max_width": null,
            "min_height": null,
            "min_width": null,
            "object_fit": null,
            "object_position": null,
            "order": null,
            "overflow": null,
            "overflow_x": null,
            "overflow_y": null,
            "padding": null,
            "right": null,
            "top": null,
            "visibility": null,
            "width": null
          }
        },
        "8075f77e27894264913408569c2201b0": {
          "model_module": "@jupyter-widgets/controls",
          "model_name": "ProgressStyleModel",
          "model_module_version": "1.5.0",
          "state": {
            "_model_module": "@jupyter-widgets/controls",
            "_model_module_version": "1.5.0",
            "_model_name": "ProgressStyleModel",
            "_view_count": null,
            "_view_module": "@jupyter-widgets/base",
            "_view_module_version": "1.2.0",
            "_view_name": "StyleView",
            "bar_color": null,
            "description_width": ""
          }
        },
        "af60ca1393e940fa86ddc318f7c2a9f6": {
          "model_module": "@jupyter-widgets/base",
          "model_name": "LayoutModel",
          "model_module_version": "1.2.0",
          "state": {
            "_model_module": "@jupyter-widgets/base",
            "_model_module_version": "1.2.0",
            "_model_name": "LayoutModel",
            "_view_count": null,
            "_view_module": "@jupyter-widgets/base",
            "_view_module_version": "1.2.0",
            "_view_name": "LayoutView",
            "align_content": null,
            "align_items": null,
            "align_self": null,
            "border": null,
            "bottom": null,
            "display": null,
            "flex": null,
            "flex_flow": null,
            "grid_area": null,
            "grid_auto_columns": null,
            "grid_auto_flow": null,
            "grid_auto_rows": null,
            "grid_column": null,
            "grid_gap": null,
            "grid_row": null,
            "grid_template_areas": null,
            "grid_template_columns": null,
            "grid_template_rows": null,
            "height": null,
            "justify_content": null,
            "justify_items": null,
            "left": null,
            "margin": null,
            "max_height": null,
            "max_width": null,
            "min_height": null,
            "min_width": null,
            "object_fit": null,
            "object_position": null,
            "order": null,
            "overflow": null,
            "overflow_x": null,
            "overflow_y": null,
            "padding": null,
            "right": null,
            "top": null,
            "visibility": null,
            "width": null
          }
        },
        "b4f4974d5a564557badced9125b89380": {
          "model_module": "@jupyter-widgets/controls",
          "model_name": "DescriptionStyleModel",
          "model_module_version": "1.5.0",
          "state": {
            "_model_module": "@jupyter-widgets/controls",
            "_model_module_version": "1.5.0",
            "_model_name": "DescriptionStyleModel",
            "_view_count": null,
            "_view_module": "@jupyter-widgets/base",
            "_view_module_version": "1.2.0",
            "_view_name": "StyleView",
            "description_width": ""
          }
        },
        "9c988425be5d4f19828b8783cf65c059": {
          "model_module": "@jupyter-widgets/controls",
          "model_name": "HBoxModel",
          "model_module_version": "1.5.0",
          "state": {
            "_dom_classes": [],
            "_model_module": "@jupyter-widgets/controls",
            "_model_module_version": "1.5.0",
            "_model_name": "HBoxModel",
            "_view_count": null,
            "_view_module": "@jupyter-widgets/controls",
            "_view_module_version": "1.5.0",
            "_view_name": "HBoxView",
            "box_style": "",
            "children": [
              "IPY_MODEL_c5d58780cb2044e5ac4b3c7cdfc3bf97",
              "IPY_MODEL_b303e8ac5d00483181525b7fc1ee19ea",
              "IPY_MODEL_e40ca6600dca44f291a829c9ba197108"
            ],
            "layout": "IPY_MODEL_df0417d3ded4453ebde34fff6b6a9ab7"
          }
        },
        "c5d58780cb2044e5ac4b3c7cdfc3bf97": {
          "model_module": "@jupyter-widgets/controls",
          "model_name": "HTMLModel",
          "model_module_version": "1.5.0",
          "state": {
            "_dom_classes": [],
            "_model_module": "@jupyter-widgets/controls",
            "_model_module_version": "1.5.0",
            "_model_name": "HTMLModel",
            "_view_count": null,
            "_view_module": "@jupyter-widgets/controls",
            "_view_module_version": "1.5.0",
            "_view_name": "HTMLView",
            "description": "",
            "description_tooltip": null,
            "layout": "IPY_MODEL_905ec49f3dba46e8a4140009c967fc2f",
            "placeholder": "​",
            "style": "IPY_MODEL_0f8605b9e13b4e51b696237551a256c8",
            "value": "Downloading (…)olve/main/merges.txt: 100%"
          }
        },
        "b303e8ac5d00483181525b7fc1ee19ea": {
          "model_module": "@jupyter-widgets/controls",
          "model_name": "FloatProgressModel",
          "model_module_version": "1.5.0",
          "state": {
            "_dom_classes": [],
            "_model_module": "@jupyter-widgets/controls",
            "_model_module_version": "1.5.0",
            "_model_name": "FloatProgressModel",
            "_view_count": null,
            "_view_module": "@jupyter-widgets/controls",
            "_view_module_version": "1.5.0",
            "_view_name": "ProgressView",
            "bar_style": "success",
            "description": "",
            "description_tooltip": null,
            "layout": "IPY_MODEL_fe04e27d86f3471ab5af7b760048fa14",
            "max": 456318,
            "min": 0,
            "orientation": "horizontal",
            "style": "IPY_MODEL_d048d5e993044bc8a172fa2b40df9a80",
            "value": 456318
          }
        },
        "e40ca6600dca44f291a829c9ba197108": {
          "model_module": "@jupyter-widgets/controls",
          "model_name": "HTMLModel",
          "model_module_version": "1.5.0",
          "state": {
            "_dom_classes": [],
            "_model_module": "@jupyter-widgets/controls",
            "_model_module_version": "1.5.0",
            "_model_name": "HTMLModel",
            "_view_count": null,
            "_view_module": "@jupyter-widgets/controls",
            "_view_module_version": "1.5.0",
            "_view_name": "HTMLView",
            "description": "",
            "description_tooltip": null,
            "layout": "IPY_MODEL_ad4f2b1fd35a4ceabc8547c0f2a4b21a",
            "placeholder": "​",
            "style": "IPY_MODEL_ad119fb861a448dda37c35af56c4bdf7",
            "value": " 456k/456k [00:00&lt;00:00, 26.9MB/s]"
          }
        },
        "df0417d3ded4453ebde34fff6b6a9ab7": {
          "model_module": "@jupyter-widgets/base",
          "model_name": "LayoutModel",
          "model_module_version": "1.2.0",
          "state": {
            "_model_module": "@jupyter-widgets/base",
            "_model_module_version": "1.2.0",
            "_model_name": "LayoutModel",
            "_view_count": null,
            "_view_module": "@jupyter-widgets/base",
            "_view_module_version": "1.2.0",
            "_view_name": "LayoutView",
            "align_content": null,
            "align_items": null,
            "align_self": null,
            "border": null,
            "bottom": null,
            "display": null,
            "flex": null,
            "flex_flow": null,
            "grid_area": null,
            "grid_auto_columns": null,
            "grid_auto_flow": null,
            "grid_auto_rows": null,
            "grid_column": null,
            "grid_gap": null,
            "grid_row": null,
            "grid_template_areas": null,
            "grid_template_columns": null,
            "grid_template_rows": null,
            "height": null,
            "justify_content": null,
            "justify_items": null,
            "left": null,
            "margin": null,
            "max_height": null,
            "max_width": null,
            "min_height": null,
            "min_width": null,
            "object_fit": null,
            "object_position": null,
            "order": null,
            "overflow": null,
            "overflow_x": null,
            "overflow_y": null,
            "padding": null,
            "right": null,
            "top": null,
            "visibility": null,
            "width": null
          }
        },
        "905ec49f3dba46e8a4140009c967fc2f": {
          "model_module": "@jupyter-widgets/base",
          "model_name": "LayoutModel",
          "model_module_version": "1.2.0",
          "state": {
            "_model_module": "@jupyter-widgets/base",
            "_model_module_version": "1.2.0",
            "_model_name": "LayoutModel",
            "_view_count": null,
            "_view_module": "@jupyter-widgets/base",
            "_view_module_version": "1.2.0",
            "_view_name": "LayoutView",
            "align_content": null,
            "align_items": null,
            "align_self": null,
            "border": null,
            "bottom": null,
            "display": null,
            "flex": null,
            "flex_flow": null,
            "grid_area": null,
            "grid_auto_columns": null,
            "grid_auto_flow": null,
            "grid_auto_rows": null,
            "grid_column": null,
            "grid_gap": null,
            "grid_row": null,
            "grid_template_areas": null,
            "grid_template_columns": null,
            "grid_template_rows": null,
            "height": null,
            "justify_content": null,
            "justify_items": null,
            "left": null,
            "margin": null,
            "max_height": null,
            "max_width": null,
            "min_height": null,
            "min_width": null,
            "object_fit": null,
            "object_position": null,
            "order": null,
            "overflow": null,
            "overflow_x": null,
            "overflow_y": null,
            "padding": null,
            "right": null,
            "top": null,
            "visibility": null,
            "width": null
          }
        },
        "0f8605b9e13b4e51b696237551a256c8": {
          "model_module": "@jupyter-widgets/controls",
          "model_name": "DescriptionStyleModel",
          "model_module_version": "1.5.0",
          "state": {
            "_model_module": "@jupyter-widgets/controls",
            "_model_module_version": "1.5.0",
            "_model_name": "DescriptionStyleModel",
            "_view_count": null,
            "_view_module": "@jupyter-widgets/base",
            "_view_module_version": "1.2.0",
            "_view_name": "StyleView",
            "description_width": ""
          }
        },
        "fe04e27d86f3471ab5af7b760048fa14": {
          "model_module": "@jupyter-widgets/base",
          "model_name": "LayoutModel",
          "model_module_version": "1.2.0",
          "state": {
            "_model_module": "@jupyter-widgets/base",
            "_model_module_version": "1.2.0",
            "_model_name": "LayoutModel",
            "_view_count": null,
            "_view_module": "@jupyter-widgets/base",
            "_view_module_version": "1.2.0",
            "_view_name": "LayoutView",
            "align_content": null,
            "align_items": null,
            "align_self": null,
            "border": null,
            "bottom": null,
            "display": null,
            "flex": null,
            "flex_flow": null,
            "grid_area": null,
            "grid_auto_columns": null,
            "grid_auto_flow": null,
            "grid_auto_rows": null,
            "grid_column": null,
            "grid_gap": null,
            "grid_row": null,
            "grid_template_areas": null,
            "grid_template_columns": null,
            "grid_template_rows": null,
            "height": null,
            "justify_content": null,
            "justify_items": null,
            "left": null,
            "margin": null,
            "max_height": null,
            "max_width": null,
            "min_height": null,
            "min_width": null,
            "object_fit": null,
            "object_position": null,
            "order": null,
            "overflow": null,
            "overflow_x": null,
            "overflow_y": null,
            "padding": null,
            "right": null,
            "top": null,
            "visibility": null,
            "width": null
          }
        },
        "d048d5e993044bc8a172fa2b40df9a80": {
          "model_module": "@jupyter-widgets/controls",
          "model_name": "ProgressStyleModel",
          "model_module_version": "1.5.0",
          "state": {
            "_model_module": "@jupyter-widgets/controls",
            "_model_module_version": "1.5.0",
            "_model_name": "ProgressStyleModel",
            "_view_count": null,
            "_view_module": "@jupyter-widgets/base",
            "_view_module_version": "1.2.0",
            "_view_name": "StyleView",
            "bar_color": null,
            "description_width": ""
          }
        },
        "ad4f2b1fd35a4ceabc8547c0f2a4b21a": {
          "model_module": "@jupyter-widgets/base",
          "model_name": "LayoutModel",
          "model_module_version": "1.2.0",
          "state": {
            "_model_module": "@jupyter-widgets/base",
            "_model_module_version": "1.2.0",
            "_model_name": "LayoutModel",
            "_view_count": null,
            "_view_module": "@jupyter-widgets/base",
            "_view_module_version": "1.2.0",
            "_view_name": "LayoutView",
            "align_content": null,
            "align_items": null,
            "align_self": null,
            "border": null,
            "bottom": null,
            "display": null,
            "flex": null,
            "flex_flow": null,
            "grid_area": null,
            "grid_auto_columns": null,
            "grid_auto_flow": null,
            "grid_auto_rows": null,
            "grid_column": null,
            "grid_gap": null,
            "grid_row": null,
            "grid_template_areas": null,
            "grid_template_columns": null,
            "grid_template_rows": null,
            "height": null,
            "justify_content": null,
            "justify_items": null,
            "left": null,
            "margin": null,
            "max_height": null,
            "max_width": null,
            "min_height": null,
            "min_width": null,
            "object_fit": null,
            "object_position": null,
            "order": null,
            "overflow": null,
            "overflow_x": null,
            "overflow_y": null,
            "padding": null,
            "right": null,
            "top": null,
            "visibility": null,
            "width": null
          }
        },
        "ad119fb861a448dda37c35af56c4bdf7": {
          "model_module": "@jupyter-widgets/controls",
          "model_name": "DescriptionStyleModel",
          "model_module_version": "1.5.0",
          "state": {
            "_model_module": "@jupyter-widgets/controls",
            "_model_module_version": "1.5.0",
            "_model_name": "DescriptionStyleModel",
            "_view_count": null,
            "_view_module": "@jupyter-widgets/base",
            "_view_module_version": "1.2.0",
            "_view_name": "StyleView",
            "description_width": ""
          }
        },
        "9ccd68692aaf4e178393211d0805610b": {
          "model_module": "@jupyter-widgets/controls",
          "model_name": "HBoxModel",
          "model_module_version": "1.5.0",
          "state": {
            "_dom_classes": [],
            "_model_module": "@jupyter-widgets/controls",
            "_model_module_version": "1.5.0",
            "_model_name": "HBoxModel",
            "_view_count": null,
            "_view_module": "@jupyter-widgets/controls",
            "_view_module_version": "1.5.0",
            "_view_name": "HBoxView",
            "box_style": "",
            "children": [
              "IPY_MODEL_869fb1e23d6349e7b81412f1c64b587b",
              "IPY_MODEL_349c3ba6bed0420ab01eb39e8bd0bff3",
              "IPY_MODEL_1f410a7a34064e65ae8118684c12c4b1"
            ],
            "layout": "IPY_MODEL_0e792affdf9b414c98ddb60c1c7a846d"
          }
        },
        "869fb1e23d6349e7b81412f1c64b587b": {
          "model_module": "@jupyter-widgets/controls",
          "model_name": "HTMLModel",
          "model_module_version": "1.5.0",
          "state": {
            "_dom_classes": [],
            "_model_module": "@jupyter-widgets/controls",
            "_model_module_version": "1.5.0",
            "_model_name": "HTMLModel",
            "_view_count": null,
            "_view_module": "@jupyter-widgets/controls",
            "_view_module_version": "1.5.0",
            "_view_name": "HTMLView",
            "description": "",
            "description_tooltip": null,
            "layout": "IPY_MODEL_f134119b63ca4effab1718c5b022deaf",
            "placeholder": "​",
            "style": "IPY_MODEL_92dcdb4679724be6a9ed34935ff61c67",
            "value": "Downloading (…)/main/tokenizer.json: 100%"
          }
        },
        "349c3ba6bed0420ab01eb39e8bd0bff3": {
          "model_module": "@jupyter-widgets/controls",
          "model_name": "FloatProgressModel",
          "model_module_version": "1.5.0",
          "state": {
            "_dom_classes": [],
            "_model_module": "@jupyter-widgets/controls",
            "_model_module_version": "1.5.0",
            "_model_name": "FloatProgressModel",
            "_view_count": null,
            "_view_module": "@jupyter-widgets/controls",
            "_view_module_version": "1.5.0",
            "_view_name": "ProgressView",
            "bar_style": "success",
            "description": "",
            "description_tooltip": null,
            "layout": "IPY_MODEL_3e5cfba5c935424e90123ceeee0d9eb0",
            "max": 1355863,
            "min": 0,
            "orientation": "horizontal",
            "style": "IPY_MODEL_c362905d7c964e6a90d0a3e04e344d99",
            "value": 1355863
          }
        },
        "1f410a7a34064e65ae8118684c12c4b1": {
          "model_module": "@jupyter-widgets/controls",
          "model_name": "HTMLModel",
          "model_module_version": "1.5.0",
          "state": {
            "_dom_classes": [],
            "_model_module": "@jupyter-widgets/controls",
            "_model_module_version": "1.5.0",
            "_model_name": "HTMLModel",
            "_view_count": null,
            "_view_module": "@jupyter-widgets/controls",
            "_view_module_version": "1.5.0",
            "_view_name": "HTMLView",
            "description": "",
            "description_tooltip": null,
            "layout": "IPY_MODEL_671124d7029d463584ba18fe5797cd8b",
            "placeholder": "​",
            "style": "IPY_MODEL_ca65164847f44b3e96fe0f62cf65623e",
            "value": " 1.36M/1.36M [00:00&lt;00:00, 48.2MB/s]"
          }
        },
        "0e792affdf9b414c98ddb60c1c7a846d": {
          "model_module": "@jupyter-widgets/base",
          "model_name": "LayoutModel",
          "model_module_version": "1.2.0",
          "state": {
            "_model_module": "@jupyter-widgets/base",
            "_model_module_version": "1.2.0",
            "_model_name": "LayoutModel",
            "_view_count": null,
            "_view_module": "@jupyter-widgets/base",
            "_view_module_version": "1.2.0",
            "_view_name": "LayoutView",
            "align_content": null,
            "align_items": null,
            "align_self": null,
            "border": null,
            "bottom": null,
            "display": null,
            "flex": null,
            "flex_flow": null,
            "grid_area": null,
            "grid_auto_columns": null,
            "grid_auto_flow": null,
            "grid_auto_rows": null,
            "grid_column": null,
            "grid_gap": null,
            "grid_row": null,
            "grid_template_areas": null,
            "grid_template_columns": null,
            "grid_template_rows": null,
            "height": null,
            "justify_content": null,
            "justify_items": null,
            "left": null,
            "margin": null,
            "max_height": null,
            "max_width": null,
            "min_height": null,
            "min_width": null,
            "object_fit": null,
            "object_position": null,
            "order": null,
            "overflow": null,
            "overflow_x": null,
            "overflow_y": null,
            "padding": null,
            "right": null,
            "top": null,
            "visibility": null,
            "width": null
          }
        },
        "f134119b63ca4effab1718c5b022deaf": {
          "model_module": "@jupyter-widgets/base",
          "model_name": "LayoutModel",
          "model_module_version": "1.2.0",
          "state": {
            "_model_module": "@jupyter-widgets/base",
            "_model_module_version": "1.2.0",
            "_model_name": "LayoutModel",
            "_view_count": null,
            "_view_module": "@jupyter-widgets/base",
            "_view_module_version": "1.2.0",
            "_view_name": "LayoutView",
            "align_content": null,
            "align_items": null,
            "align_self": null,
            "border": null,
            "bottom": null,
            "display": null,
            "flex": null,
            "flex_flow": null,
            "grid_area": null,
            "grid_auto_columns": null,
            "grid_auto_flow": null,
            "grid_auto_rows": null,
            "grid_column": null,
            "grid_gap": null,
            "grid_row": null,
            "grid_template_areas": null,
            "grid_template_columns": null,
            "grid_template_rows": null,
            "height": null,
            "justify_content": null,
            "justify_items": null,
            "left": null,
            "margin": null,
            "max_height": null,
            "max_width": null,
            "min_height": null,
            "min_width": null,
            "object_fit": null,
            "object_position": null,
            "order": null,
            "overflow": null,
            "overflow_x": null,
            "overflow_y": null,
            "padding": null,
            "right": null,
            "top": null,
            "visibility": null,
            "width": null
          }
        },
        "92dcdb4679724be6a9ed34935ff61c67": {
          "model_module": "@jupyter-widgets/controls",
          "model_name": "DescriptionStyleModel",
          "model_module_version": "1.5.0",
          "state": {
            "_model_module": "@jupyter-widgets/controls",
            "_model_module_version": "1.5.0",
            "_model_name": "DescriptionStyleModel",
            "_view_count": null,
            "_view_module": "@jupyter-widgets/base",
            "_view_module_version": "1.2.0",
            "_view_name": "StyleView",
            "description_width": ""
          }
        },
        "3e5cfba5c935424e90123ceeee0d9eb0": {
          "model_module": "@jupyter-widgets/base",
          "model_name": "LayoutModel",
          "model_module_version": "1.2.0",
          "state": {
            "_model_module": "@jupyter-widgets/base",
            "_model_module_version": "1.2.0",
            "_model_name": "LayoutModel",
            "_view_count": null,
            "_view_module": "@jupyter-widgets/base",
            "_view_module_version": "1.2.0",
            "_view_name": "LayoutView",
            "align_content": null,
            "align_items": null,
            "align_self": null,
            "border": null,
            "bottom": null,
            "display": null,
            "flex": null,
            "flex_flow": null,
            "grid_area": null,
            "grid_auto_columns": null,
            "grid_auto_flow": null,
            "grid_auto_rows": null,
            "grid_column": null,
            "grid_gap": null,
            "grid_row": null,
            "grid_template_areas": null,
            "grid_template_columns": null,
            "grid_template_rows": null,
            "height": null,
            "justify_content": null,
            "justify_items": null,
            "left": null,
            "margin": null,
            "max_height": null,
            "max_width": null,
            "min_height": null,
            "min_width": null,
            "object_fit": null,
            "object_position": null,
            "order": null,
            "overflow": null,
            "overflow_x": null,
            "overflow_y": null,
            "padding": null,
            "right": null,
            "top": null,
            "visibility": null,
            "width": null
          }
        },
        "c362905d7c964e6a90d0a3e04e344d99": {
          "model_module": "@jupyter-widgets/controls",
          "model_name": "ProgressStyleModel",
          "model_module_version": "1.5.0",
          "state": {
            "_model_module": "@jupyter-widgets/controls",
            "_model_module_version": "1.5.0",
            "_model_name": "ProgressStyleModel",
            "_view_count": null,
            "_view_module": "@jupyter-widgets/base",
            "_view_module_version": "1.2.0",
            "_view_name": "StyleView",
            "bar_color": null,
            "description_width": ""
          }
        },
        "671124d7029d463584ba18fe5797cd8b": {
          "model_module": "@jupyter-widgets/base",
          "model_name": "LayoutModel",
          "model_module_version": "1.2.0",
          "state": {
            "_model_module": "@jupyter-widgets/base",
            "_model_module_version": "1.2.0",
            "_model_name": "LayoutModel",
            "_view_count": null,
            "_view_module": "@jupyter-widgets/base",
            "_view_module_version": "1.2.0",
            "_view_name": "LayoutView",
            "align_content": null,
            "align_items": null,
            "align_self": null,
            "border": null,
            "bottom": null,
            "display": null,
            "flex": null,
            "flex_flow": null,
            "grid_area": null,
            "grid_auto_columns": null,
            "grid_auto_flow": null,
            "grid_auto_rows": null,
            "grid_column": null,
            "grid_gap": null,
            "grid_row": null,
            "grid_template_areas": null,
            "grid_template_columns": null,
            "grid_template_rows": null,
            "height": null,
            "justify_content": null,
            "justify_items": null,
            "left": null,
            "margin": null,
            "max_height": null,
            "max_width": null,
            "min_height": null,
            "min_width": null,
            "object_fit": null,
            "object_position": null,
            "order": null,
            "overflow": null,
            "overflow_x": null,
            "overflow_y": null,
            "padding": null,
            "right": null,
            "top": null,
            "visibility": null,
            "width": null
          }
        },
        "ca65164847f44b3e96fe0f62cf65623e": {
          "model_module": "@jupyter-widgets/controls",
          "model_name": "DescriptionStyleModel",
          "model_module_version": "1.5.0",
          "state": {
            "_model_module": "@jupyter-widgets/controls",
            "_model_module_version": "1.5.0",
            "_model_name": "DescriptionStyleModel",
            "_view_count": null,
            "_view_module": "@jupyter-widgets/base",
            "_view_module_version": "1.2.0",
            "_view_name": "StyleView",
            "description_width": ""
          }
        }
      }
    }
  },
  "cells": [
    {
      "cell_type": "markdown",
      "metadata": {
        "id": "NmG8vB_8TsMr"
      },
      "source": [
        "Notebook author: Makar Shevchenko B20-DS-01\n",
        "\n",
        "# Model Training and Visualization\n",
        "\n",
        "Execute this notebook in Google Colab\n",
        "\n",
        "In this notebook I train several text detoxification models on ParaNMT-detox corpus and visualize the results. I processed the corpus in `1.0-data-exploration-and-preprocessing.ipynb`. I tried two families of models: dictionary-based and transformer-based. Dictionary-based models include one, that removes toxic tokens, and two replacing by synonims: WordNet and RoBERTa-based. I implemented transformer-based model from scratch using custom embeddings and RNNs. Transformer-based model achieved the best results on validation set: 0.25 BLEU."
      ]
    },
    {
      "cell_type": "markdown",
      "metadata": {
        "id": "7rV3ghf1TsMv"
      },
      "source": [
        "## Imports\n",
        "\n",
        "Import libraries utilized next"
      ]
    },
    {
      "cell_type": "code",
      "execution_count": 1,
      "metadata": {
        "id": "bM6rXHpoTsMw",
        "colab": {
          "base_uri": "https://localhost:8080/"
        },
        "outputId": "a44a37ba-0300-4ee2-a8a5-53e3929ea9e3"
      },
      "outputs": [
        {
          "output_type": "stream",
          "name": "stdout",
          "text": [
            "Collecting wget\n",
            "  Downloading wget-3.2.zip (10 kB)\n",
            "  Preparing metadata (setup.py) ... \u001b[?25l\u001b[?25hdone\n",
            "Building wheels for collected packages: wget\n",
            "  Building wheel for wget (setup.py) ... \u001b[?25l\u001b[?25hdone\n",
            "  Created wheel for wget: filename=wget-3.2-py3-none-any.whl size=9655 sha256=a306ee9a871086f02448d994826a83061542cddc3a36784f8684db52f6fc3fc4\n",
            "  Stored in directory: /root/.cache/pip/wheels/8b/f1/7f/5c94f0a7a505ca1c81cd1d9208ae2064675d97582078e6c769\n",
            "Successfully built wget\n",
            "Installing collected packages: wget\n",
            "Successfully installed wget-3.2\n",
            "Collecting transformers\n",
            "  Downloading transformers-4.35.0-py3-none-any.whl (7.9 MB)\n",
            "\u001b[2K     \u001b[90m━━━━━━━━━━━━━━━━━━━━━━━━━━━━━━━━━━━━━━━━\u001b[0m \u001b[32m7.9/7.9 MB\u001b[0m \u001b[31m27.4 MB/s\u001b[0m eta \u001b[36m0:00:00\u001b[0m\n",
            "\u001b[?25hRequirement already satisfied: filelock in /usr/local/lib/python3.10/dist-packages (from transformers) (3.12.4)\n",
            "Collecting huggingface-hub<1.0,>=0.16.4 (from transformers)\n",
            "  Downloading huggingface_hub-0.18.0-py3-none-any.whl (301 kB)\n",
            "\u001b[2K     \u001b[90m━━━━━━━━━━━━━━━━━━━━━━━━━━━━━━━━━━━━━━━━\u001b[0m \u001b[32m302.0/302.0 kB\u001b[0m \u001b[31m26.9 MB/s\u001b[0m eta \u001b[36m0:00:00\u001b[0m\n",
            "\u001b[?25hRequirement already satisfied: numpy>=1.17 in /usr/local/lib/python3.10/dist-packages (from transformers) (1.23.5)\n",
            "Requirement already satisfied: packaging>=20.0 in /usr/local/lib/python3.10/dist-packages (from transformers) (23.2)\n",
            "Requirement already satisfied: pyyaml>=5.1 in /usr/local/lib/python3.10/dist-packages (from transformers) (6.0.1)\n",
            "Requirement already satisfied: regex!=2019.12.17 in /usr/local/lib/python3.10/dist-packages (from transformers) (2023.6.3)\n",
            "Requirement already satisfied: requests in /usr/local/lib/python3.10/dist-packages (from transformers) (2.31.0)\n",
            "Collecting tokenizers<0.15,>=0.14 (from transformers)\n",
            "  Downloading tokenizers-0.14.1-cp310-cp310-manylinux_2_17_x86_64.manylinux2014_x86_64.whl (3.8 MB)\n",
            "\u001b[2K     \u001b[90m━━━━━━━━━━━━━━━━━━━━━━━━━━━━━━━━━━━━━━━━\u001b[0m \u001b[32m3.8/3.8 MB\u001b[0m \u001b[31m53.6 MB/s\u001b[0m eta \u001b[36m0:00:00\u001b[0m\n",
            "\u001b[?25hCollecting safetensors>=0.3.1 (from transformers)\n",
            "  Downloading safetensors-0.4.0-cp310-cp310-manylinux_2_17_x86_64.manylinux2014_x86_64.whl (1.3 MB)\n",
            "\u001b[2K     \u001b[90m━━━━━━━━━━━━━━━━━━━━━━━━━━━━━━━━━━━━━━━━\u001b[0m \u001b[32m1.3/1.3 MB\u001b[0m \u001b[31m63.8 MB/s\u001b[0m eta \u001b[36m0:00:00\u001b[0m\n",
            "\u001b[?25hRequirement already satisfied: tqdm>=4.27 in /usr/local/lib/python3.10/dist-packages (from transformers) (4.66.1)\n",
            "Requirement already satisfied: fsspec>=2023.5.0 in /usr/local/lib/python3.10/dist-packages (from huggingface-hub<1.0,>=0.16.4->transformers) (2023.6.0)\n",
            "Requirement already satisfied: typing-extensions>=3.7.4.3 in /usr/local/lib/python3.10/dist-packages (from huggingface-hub<1.0,>=0.16.4->transformers) (4.5.0)\n",
            "Collecting huggingface-hub<1.0,>=0.16.4 (from transformers)\n",
            "  Downloading huggingface_hub-0.17.3-py3-none-any.whl (295 kB)\n",
            "\u001b[2K     \u001b[90m━━━━━━━━━━━━━━━━━━━━━━━━━━━━━━━━━━━━━━━━\u001b[0m \u001b[32m295.0/295.0 kB\u001b[0m \u001b[31m13.5 MB/s\u001b[0m eta \u001b[36m0:00:00\u001b[0m\n",
            "\u001b[?25hRequirement already satisfied: charset-normalizer<4,>=2 in /usr/local/lib/python3.10/dist-packages (from requests->transformers) (3.3.1)\n",
            "Requirement already satisfied: idna<4,>=2.5 in /usr/local/lib/python3.10/dist-packages (from requests->transformers) (3.4)\n",
            "Requirement already satisfied: urllib3<3,>=1.21.1 in /usr/local/lib/python3.10/dist-packages (from requests->transformers) (2.0.7)\n",
            "Requirement already satisfied: certifi>=2017.4.17 in /usr/local/lib/python3.10/dist-packages (from requests->transformers) (2023.7.22)\n",
            "Installing collected packages: safetensors, huggingface-hub, tokenizers, transformers\n",
            "Successfully installed huggingface-hub-0.17.3 safetensors-0.4.0 tokenizers-0.14.1 transformers-4.35.0\n"
          ]
        },
        {
          "output_type": "stream",
          "name": "stderr",
          "text": [
            "[nltk_data] Downloading package punkt to /root/nltk_data...\n",
            "[nltk_data]   Unzipping tokenizers/punkt.zip.\n",
            "[nltk_data] Downloading package wordnet to /root/nltk_data...\n"
          ]
        },
        {
          "output_type": "execute_result",
          "data": {
            "text/plain": [
              "True"
            ]
          },
          "metadata": {},
          "execution_count": 1
        }
      ],
      "source": [
        "!pip install wget\n",
        "!pip install transformers\n",
        "\n",
        "import os\n",
        "import re\n",
        "import nltk\n",
        "import wget\n",
        "import time\n",
        "import math\n",
        "import torch\n",
        "import random\n",
        "import unicodedata\n",
        "import numpy as np\n",
        "import pandas as pd\n",
        "from io import open\n",
        "from tqdm import tqdm\n",
        "import torch.nn as nn\n",
        "from torch import optim\n",
        "from zipfile import ZipFile\n",
        "import matplotlib.pyplot as plt\n",
        "from collections import Counter\n",
        "import torch.nn.functional as F\n",
        "from transformers import pipeline\n",
        "import matplotlib.ticker as ticker\n",
        "from nltk.corpus import wordnet as wn\n",
        "from nltk.tokenize import word_tokenize\n",
        "from torchtext.data.metrics import bleu_score\n",
        "from sklearn.model_selection import train_test_split\n",
        "from __future__ import unicode_literals, print_function, division\n",
        "from torch.utils.data import TensorDataset, DataLoader, RandomSampler\n",
        "\n",
        "nltk.download('punkt')\n",
        "nltk.download('wordnet')"
      ]
    },
    {
      "cell_type": "markdown",
      "metadata": {
        "id": "y9KIyA_uTsMt"
      },
      "source": [
        "## Configuration\n",
        "\n",
        "Define the parameters for notebook behavior"
      ]
    },
    {
      "cell_type": "code",
      "execution_count": 2,
      "metadata": {
        "id": "Xo-agPj-TsMu"
      },
      "outputs": [],
      "source": [
        "TSV_PATH = \"./filtered.tsv\"\n",
        "URL = \"https://github.com/skoltech-nlp/detox/releases/download/emnlp2021/filtered_paranmt.zip\"\n",
        "ZIP_SAVE_PATH = \"./filtered.zip\"\n",
        "TSV_SAVE_DIR = \".\"\n",
        "ENCODER_CKPT_PATH = \"./encoder_best.pt\"\n",
        "DECODER_CKPT_PATH = \"./decoder_best.pt\"\n",
        "ATTN_ENCODER_CKPT_PATH = \"./attn_encoder_best.pt\"\n",
        "ATTN_DECODER_CKPT_PATH = \"./attn_decoder_best.pt\"\n",
        "TRANSF_TRAIN_MAX_LENGTH = 15\n",
        "VALIDATION_RATIO = 0.01\n",
        "\n",
        "random.seed(0)\n",
        "np.random.seed(0)\n",
        "torch.manual_seed(0)\n",
        "torch.cuda.manual_seed_all(0)\n",
        "torch.backends.cudnn.benchmark = False\n",
        "device = torch.device(\"cuda\" if torch.cuda.is_available() else \"cpu\")"
      ]
    },
    {
      "cell_type": "markdown",
      "metadata": {
        "id": "YY12_YP778j1"
      },
      "source": [
        "## Data reading and preprocessing\n",
        "\n",
        "In this step I load ParaNMT-detox corpus and prepare the data for the model training"
      ]
    },
    {
      "cell_type": "markdown",
      "metadata": {
        "id": "8Jy1oVTDTsMx"
      },
      "source": [
        "### Collect initial data\n",
        "\n",
        "Load the dataset"
      ]
    },
    {
      "cell_type": "code",
      "execution_count": 3,
      "metadata": {
        "id": "9SY2Yw_dTsMx"
      },
      "outputs": [],
      "source": [
        "if not os.path.isfile(TSV_PATH):\n",
        "    wget.download(URL, ZIP_SAVE_PATH)\n",
        "    with ZipFile(ZIP_SAVE_PATH, \"r\") as zip_file:\n",
        "        zip_file.extractall(TSV_SAVE_DIR)\n",
        "    os.remove(ZIP_SAVE_PATH)\n",
        "dataset = pd.read_csv(TSV_PATH, sep=\"\\t\", index_col=0)"
      ]
    },
    {
      "cell_type": "markdown",
      "metadata": {
        "id": "70YkhmrH78kO"
      },
      "source": [
        "## Data Preprocessing\n",
        "\n",
        "In this step I get rid of duplicates and flip the entries where the translation is more toxic than reference"
      ]
    },
    {
      "cell_type": "markdown",
      "metadata": {
        "id": "TxwdVcIv78kQ"
      },
      "source": [
        "### Data Cleaning\n",
        "\n",
        "Remove duplicates"
      ]
    },
    {
      "cell_type": "code",
      "source": [
        "print(dataset.shape)\n",
        "dataset.drop_duplicates([\"reference\", \"translation\"], inplace=True)\n",
        "print(dataset.shape)"
      ],
      "metadata": {
        "colab": {
          "base_uri": "https://localhost:8080/"
        },
        "id": "END-a-UCd4o4",
        "outputId": "166354ff-7d52-4abc-f497-fa1c6e2d76b4"
      },
      "execution_count": 4,
      "outputs": [
        {
          "output_type": "stream",
          "name": "stdout",
          "text": [
            "(577777, 6)\n",
            "(558133, 6)\n"
          ]
        }
      ]
    },
    {
      "cell_type": "markdown",
      "metadata": {
        "id": "v820Khw-78kS"
      },
      "source": [
        "### Deal with Inconsistent data\n",
        "\n",
        "Remove pairs where translation is more toxic than reference"
      ]
    },
    {
      "cell_type": "code",
      "source": [
        "print(dataset.shape)\n",
        "dataset.drop(dataset[dataset[\"trn_tox\"] > dataset[\"ref_tox\"]].index, inplace=True)\n",
        "print(dataset.shape)\n",
        "dataset.drop(dataset[dataset[\"ref_tox\"] < 0.5].index, inplace=True)\n",
        "print(dataset.shape)\n",
        "dataset.drop(dataset[dataset[\"trn_tox\"] > 0.5].index, inplace=True)\n",
        "print(dataset.shape)"
      ],
      "metadata": {
        "colab": {
          "base_uri": "https://localhost:8080/"
        },
        "id": "ktPZuEsQfcm-",
        "outputId": "a946d7b7-42cc-41e5-a4ce-8f93bc31d5af"
      },
      "execution_count": 5,
      "outputs": [
        {
          "output_type": "stream",
          "name": "stdout",
          "text": [
            "(558133, 6)\n",
            "(307725, 6)\n",
            "(307725, 6)\n",
            "(307725, 6)\n"
          ]
        }
      ]
    },
    {
      "cell_type": "markdown",
      "source": [
        "### Train and Test Split\n",
        "\n",
        "Split the data set on parts for training and evaluation"
      ],
      "metadata": {
        "id": "GTtcARcS0cfd"
      }
    },
    {
      "cell_type": "code",
      "source": [
        "train_split, val_split = train_test_split(dataset.index, test_size=VALIDATION_RATIO, random_state=420)\n",
        "train = dataset[dataset.index.isin(train_split)]\n",
        "val = dataset[dataset.index.isin(val_split)]"
      ],
      "metadata": {
        "id": "8Nraiv6J0hgA"
      },
      "execution_count": 6,
      "outputs": []
    },
    {
      "cell_type": "markdown",
      "metadata": {
        "id": "9u_PcfABFV-n"
      },
      "source": [
        "## Modeling\n",
        "\n",
        "In this step I define model architecture, test design, and train the model."
      ]
    },
    {
      "cell_type": "markdown",
      "source": [
        "### Generate Test Design\n",
        "\n",
        "Implement base class for detexification models and assessment function. The assesment function prints a model results on several samples and computes BiLingual Evaluation Understudy (BLEU) score on validation set. I test the function on a dummy model that do not change input sequence.\n",
        "\n",
        "The reason for choosing BLEU score is its appropriateness for the task, that is seq2seq translation and popularity in research community. The key idea behind BLEU is computing number of matching substrings between reference answers and candidates, thus this metric is tolerant for few words confusion and even skipping."
      ],
      "metadata": {
        "id": "2bJrmyA_y4AC"
      }
    },
    {
      "cell_type": "code",
      "source": [
        "class DetoxModel:\n",
        "    def __init__(self, *args, **kwargs):\n",
        "        pass\n",
        "\n",
        "    def detox(self, sentence: list[str]) -> list[str]:\n",
        "        raise NotImplementedError\n",
        "\n",
        "references_corpus = [[word_tokenize(seq)] for seq in val[\"translation\"]]\n",
        "\n",
        "def assess_model(model: DetoxModel, samples: int = 3, silent=False) -> float:\n",
        "    if not silent:\n",
        "        for index, row in val[:samples].iterrows():\n",
        "            ref = word_tokenize(row['reference'])\n",
        "            tran = word_tokenize(row['translation'])\n",
        "            print(f\"Reference: \\\"{ref}\\\"\")\n",
        "            print(f\"Detoxed: \\\"{model.detox(ref)}\\\"\")\n",
        "            print(f\"Translation: \\\"{tran}\\\"\\n\")\n",
        "    candidate_corpus = [model.detox(word_tokenize(seq)) for seq in tqdm(val[\"reference\"])]\n",
        "    bleu = bleu_score(candidate_corpus, references_corpus)\n",
        "    if not silent:\n",
        "        print(f\"BLEU: {bleu}\")\n",
        "    return bleu\n",
        "\n",
        "# try evaluation\n",
        "class DummyDetoxModel(DetoxModel):\n",
        "    def detox(self, sentence: list[str]) -> list[str]:\n",
        "        return sentence\n",
        "\n",
        "assess_model(DummyDetoxModel())"
      ],
      "metadata": {
        "colab": {
          "base_uri": "https://localhost:8080/"
        },
        "id": "ceOKYLspzCbB",
        "outputId": "bcd0abc1-f64e-47cc-c064-be9546b9a8eb"
      },
      "execution_count": 7,
      "outputs": [
        {
          "output_type": "stream",
          "name": "stdout",
          "text": [
            "Reference: \"['You', \"'re\", 'arrogant', '.', 'You', 'have', 'the', 'sickness', 'that', 'elites', 'have', 'had', '-', 'throughout', 'history', 'in', 'their', 'literal', ',', 'and', 'in', 'some', 'cases', 'figurative', ',', 'ivory', 'towers', '.']\"\n",
            "Detoxed: \"['You', \"'re\", 'arrogant', '.', 'You', 'have', 'the', 'sickness', 'that', 'elites', 'have', 'had', '-', 'throughout', 'history', 'in', 'their', 'literal', ',', 'and', 'in', 'some', 'cases', 'figurative', ',', 'ivory', 'towers', '.']\"\n",
            "Translation: \"['you', 'are', 'overwhelmed', 'by', 'the', 'disease', 'that', 'elites', 'have', 'always', 'been', ',', '-', 'during', 'history', 'in', 'your', 'literal', 'or', 'metaphorical', 'tower', 'of', 'ivory', '.']\"\n",
            "\n",
            "Reference: \"['Goddamn', 'Variety', 'had', 'to', 'print', 'the', 'story', 'before', 'I', 'got', 'the', 'rights', '!']\"\n",
            "Detoxed: \"['Goddamn', 'Variety', 'had', 'to', 'print', 'the', 'story', 'before', 'I', 'got', 'the', 'rights', '!']\"\n",
            "Translation: \"['the', 'Goddam', 'Variety', 'printed', 'the', 'story', 'before', 'I', 'got', 'the', 'rights', '.']\"\n",
            "\n",
            "Reference: \"['So', 'he', \"'s\", 'notgoing', 'to', 'kill', 'you', '?']\"\n",
            "Detoxed: \"['So', 'he', \"'s\", 'notgoing', 'to', 'kill', 'you', '?']\"\n",
            "Translation: \"['so', 'he', 'wo', \"n't\", 'kill', 'you', '?']\"\n",
            "\n"
          ]
        },
        {
          "output_type": "stream",
          "name": "stderr",
          "text": [
            "100%|██████████| 3078/3078 [00:00<00:00, 7244.72it/s]\n"
          ]
        },
        {
          "output_type": "stream",
          "name": "stdout",
          "text": [
            "BLEU: 0.231421560049057\n"
          ]
        },
        {
          "output_type": "execute_result",
          "data": {
            "text/plain": [
              "0.231421560049057"
            ]
          },
          "metadata": {},
          "execution_count": 7
        }
      ]
    },
    {
      "cell_type": "markdown",
      "source": [
        "### Dictionary-based Detection and Removal of Toxic Words\n",
        "\n",
        "Next, I implement the model based on removal of toxic words. They model is detected as toxic if it appears in the set of toxic words. The set of toxic words is computed from the training set. A word is considered toxic if more than half of phrases where the word appears are toxic, i.e. toxicity value of the sentence is > 0.5. Toxic words are additionally filtered by the minumal number of appearences in toxic phrases - 100, that is experimentally found threshold."
      ],
      "metadata": {
        "id": "m8OktyYL2ddp"
      }
    },
    {
      "cell_type": "markdown",
      "source": [
        "#### Model Build\n",
        "\n",
        "The set of toxic words"
      ],
      "metadata": {
        "id": "L7leQKgg3FHl"
      }
    },
    {
      "cell_type": "code",
      "source": [
        "words_cnt = Counter((word\n",
        "                     for seq in train[\"reference\"]\n",
        "                     for word in set(word_tokenize(seq))))\n",
        "words_cnt += Counter((word\n",
        "                      for seq in train[\"translation\"]\n",
        "                      for word in set(word_tokenize(seq))))\n",
        "tox_words_cnt = Counter((word\n",
        "                         for seq in train[\"reference\"][train[\"ref_tox\"] > 0.5]\n",
        "                         for word in set(word_tokenize(seq))))\n",
        "tox_words_cnt += Counter((word\n",
        "                          for seq in train[\"translation\"][train[\"trn_tox\"] > 0.5]\n",
        "                          for word in set(word_tokenize(seq))))\n",
        "words_toxicity = {word: cnt / words_cnt[word] for word, cnt in tox_words_cnt.items() if cnt > 100}\n",
        "toxic_words = {word for word, toxicity in words_toxicity.items() if toxicity > 0.5}\n",
        "print(len(toxic_words))\n",
        "list(toxic_words)[:10]"
      ],
      "metadata": {
        "colab": {
          "base_uri": "https://localhost:8080/"
        },
        "id": "mxtTSDev4xyV",
        "outputId": "9adbc8ad-b54c-4cb5-e497-307ee7f5b0c2"
      },
      "execution_count": 8,
      "outputs": [
        {
          "output_type": "stream",
          "name": "stdout",
          "text": [
            "1285\n"
          ]
        },
        {
          "output_type": "execute_result",
          "data": {
            "text/plain": [
              "['that',\n",
              " 'bitch',\n",
              " 'neither',\n",
              " 'hide',\n",
              " 'Nick',\n",
              " 'month',\n",
              " 'hammer',\n",
              " 'day',\n",
              " 't',\n",
              " 'Go']"
            ]
          },
          "metadata": {},
          "execution_count": 8
        }
      ]
    },
    {
      "cell_type": "markdown",
      "source": [
        "The model transforming algorithm. I also define a general class for replacement-based detox models for code compactness"
      ],
      "metadata": {
        "id": "jy9XtA7F3T2o"
      }
    },
    {
      "cell_type": "code",
      "source": [
        "class MapDetoxModel(DetoxModel):\n",
        "    def _is_toxic(self, token: str) -> bool:\n",
        "        return token in toxic_words\n",
        "\n",
        "    def _neutralize(self, token: str) -> str | None:\n",
        "        raise NotImplementedError\n",
        "\n",
        "    def detox(self, sentence: list[str]) -> list[str]:\n",
        "        corrected = []\n",
        "        for token in sentence:\n",
        "            if self._is_toxic(token):\n",
        "                replacement = self._neutralize(token)\n",
        "                if replacement:\n",
        "                    token = replacement\n",
        "                else:\n",
        "                    continue\n",
        "            corrected.append(token)\n",
        "        return corrected\n",
        "\n",
        "class RemoveDetoxModel(MapDetoxModel):\n",
        "    def _neutralize(self, token: str) -> str | None:\n",
        "        return None"
      ],
      "metadata": {
        "id": "silBruT73iqi"
      },
      "execution_count": 9,
      "outputs": []
    },
    {
      "cell_type": "markdown",
      "source": [
        "#### Assess Model\n",
        "\n",
        "Print results on three samples and compute BLEU score"
      ],
      "metadata": {
        "id": "b9kwDyV6_7Ay"
      }
    },
    {
      "cell_type": "code",
      "source": [
        "rm_model = RemoveDetoxModel()\n",
        "rm_bleu = assess_model(rm_model)"
      ],
      "metadata": {
        "colab": {
          "base_uri": "https://localhost:8080/"
        },
        "id": "D1A-eKCV__63",
        "outputId": "6665b21e-5434-4405-d1bf-0b8dd53adde5"
      },
      "execution_count": 10,
      "outputs": [
        {
          "output_type": "stream",
          "name": "stdout",
          "text": [
            "Reference: \"['You', \"'re\", 'arrogant', '.', 'You', 'have', 'the', 'sickness', 'that', 'elites', 'have', 'had', '-', 'throughout', 'history', 'in', 'their', 'literal', ',', 'and', 'in', 'some', 'cases', 'figurative', ',', 'ivory', 'towers', '.']\"\n",
            "Detoxed: \"[\"'re\", 'have', 'the', 'sickness', 'elites', 'have', 'throughout', 'in', 'literal', 'and', 'in', 'cases', 'figurative', 'ivory', 'towers']\"\n",
            "Translation: \"['you', 'are', 'overwhelmed', 'by', 'the', 'disease', 'that', 'elites', 'have', 'always', 'been', ',', '-', 'during', 'history', 'in', 'your', 'literal', 'or', 'metaphorical', 'tower', 'of', 'ivory', '.']\"\n",
            "\n",
            "Reference: \"['Goddamn', 'Variety', 'had', 'to', 'print', 'the', 'story', 'before', 'I', 'got', 'the', 'rights', '!']\"\n",
            "Detoxed: \"['Variety', 'to', 'print', 'the', 'before', 'I', 'the', 'rights']\"\n",
            "Translation: \"['the', 'Goddam', 'Variety', 'printed', 'the', 'story', 'before', 'I', 'got', 'the', 'rights', '.']\"\n",
            "\n",
            "Reference: \"['So', 'he', \"'s\", 'notgoing', 'to', 'kill', 'you', '?']\"\n",
            "Detoxed: \"['he', \"'s\", 'notgoing', 'to', 'you']\"\n",
            "Translation: \"['so', 'he', 'wo', \"n't\", 'kill', 'you', '?']\"\n",
            "\n"
          ]
        },
        {
          "output_type": "stream",
          "name": "stderr",
          "text": [
            "100%|██████████| 3078/3078 [00:00<00:00, 4539.66it/s]\n"
          ]
        },
        {
          "output_type": "stream",
          "name": "stdout",
          "text": [
            "BLEU: 0.08477326112878693\n"
          ]
        }
      ]
    },
    {
      "cell_type": "markdown",
      "source": [
        "The dummy detoxer has better BLEU score"
      ],
      "metadata": {
        "id": "OunbClve-BxV"
      }
    },
    {
      "cell_type": "markdown",
      "source": [
        "### Dictionary-based Detection of Toxic Words and Replacement by WordNet Synonyms\n",
        "\n",
        "The following model modify toxic words as well as previous model, but changes the words by their synonyms from WordNet"
      ],
      "metadata": {
        "id": "XiczBa-IFs4E"
      }
    },
    {
      "cell_type": "markdown",
      "source": [
        "#### Model Build"
      ],
      "metadata": {
        "id": "S9qyRqR9Fs4I"
      }
    },
    {
      "cell_type": "code",
      "source": [
        "class WnSynDetoxModel(MapDetoxModel):\n",
        "    def _neutralize(self, token: str) -> str | None:\n",
        "        synonyms = wn.synonyms(token)\n",
        "        for syn_cat in synonyms:\n",
        "            if syn_cat:\n",
        "                return syn_cat[0]"
      ],
      "metadata": {
        "id": "BTDSlUaaFs4I"
      },
      "execution_count": 11,
      "outputs": []
    },
    {
      "cell_type": "markdown",
      "source": [
        "#### Assess Model\n",
        "\n",
        "Print results on three samples and compute BLEU score"
      ],
      "metadata": {
        "id": "sTMp6MZsFs4I"
      }
    },
    {
      "cell_type": "code",
      "source": [
        "wn_syn_model = WnSynDetoxModel()\n",
        "wn_syn_bleu = assess_model(wn_syn_model)"
      ],
      "metadata": {
        "colab": {
          "base_uri": "https://localhost:8080/"
        },
        "outputId": "302022a3-35df-4ccb-d303-dbf19adfc4a8",
        "id": "ZpjxvqHpFs4J"
      },
      "execution_count": 12,
      "outputs": [
        {
          "output_type": "stream",
          "name": "stdout",
          "text": [
            "Reference: \"['You', \"'re\", 'arrogant', '.', 'You', 'have', 'the', 'sickness', 'that', 'elites', 'have', 'had', '-', 'throughout', 'history', 'in', 'their', 'literal', ',', 'and', 'in', 'some', 'cases', 'figurative', ',', 'ivory', 'towers', '.']\"\n",
            "Detoxed: \"[\"'re\", 'chesty', 'have', 'the', 'sickness', 'elites', 'have', 'have', 'throughout', 'account', 'in', 'literal', 'and', 'in', 'about', 'cases', 'figurative', 'ivory', 'towers']\"\n",
            "Translation: \"['you', 'are', 'overwhelmed', 'by', 'the', 'disease', 'that', 'elites', 'have', 'always', 'been', ',', '-', 'during', 'history', 'in', 'your', 'literal', 'or', 'metaphorical', 'tower', 'of', 'ivory', '.']\"\n",
            "\n",
            "Reference: \"['Goddamn', 'Variety', 'had', 'to', 'print', 'the', 'story', 'before', 'I', 'got', 'the', 'rights', '!']\"\n",
            "Detoxed: \"['damn', 'Variety', 'have', 'to', 'print', 'the', 'narration', 'before', 'I', 'acquire', 'the', 'rights']\"\n",
            "Translation: \"['the', 'Goddam', 'Variety', 'printed', 'the', 'story', 'before', 'I', 'got', 'the', 'rights', '.']\"\n",
            "\n",
            "Reference: \"['So', 'he', \"'s\", 'notgoing', 'to', 'kill', 'you', '?']\"\n",
            "Detoxed: \"['so', 'he', \"'s\", 'notgoing', 'to', 'killing', 'you']\"\n",
            "Translation: \"['so', 'he', 'wo', \"n't\", 'kill', 'you', '?']\"\n",
            "\n"
          ]
        },
        {
          "output_type": "stream",
          "name": "stderr",
          "text": [
            "100%|██████████| 3078/3078 [00:01<00:00, 2570.84it/s]\n"
          ]
        },
        {
          "output_type": "stream",
          "name": "stdout",
          "text": [
            "BLEU: 0.0946853252415241\n"
          ]
        }
      ]
    },
    {
      "cell_type": "markdown",
      "source": [
        "The BLEU score of the model is sligtly better than score of the previous, but still worse than dummy detoxer"
      ],
      "metadata": {
        "id": "aPZlgMic-_8X"
      }
    },
    {
      "cell_type": "markdown",
      "source": [
        "### Dictionary-based Detection of Toxic Words and Replacement by RoBERTa Synonyms\n",
        "\n",
        "The following model works identically as previous, but the neutral synonims are generated with pretrained transformer-based model RoBERTa that take context into account"
      ],
      "metadata": {
        "id": "HszO42YUNRbt"
      }
    },
    {
      "cell_type": "markdown",
      "source": [
        "#### Model Build"
      ],
      "metadata": {
        "id": "vOVjUJWsNRbw"
      }
    },
    {
      "cell_type": "code",
      "source": [
        "class BertSynDetoxModel(MapDetoxModel):\n",
        "    def __init__(self, *args, **kwargs):\n",
        "        super().__init__(*args, **kwargs)\n",
        "        self.mlm = pipeline('fill-mask')\n",
        "\n",
        "    def detox(self, sentence: list[str]) -> list[str]:\n",
        "        corrected = []\n",
        "        masked_inds = []\n",
        "        for i, token in enumerate(sentence):\n",
        "            if self._is_toxic(token):\n",
        "                token = self.mlm.tokenizer.mask_token\n",
        "                masked_inds.append(i)\n",
        "            corrected.append(token)\n",
        "        if masked_inds:\n",
        "            result = self.mlm(\" \".join(corrected))\n",
        "            for i, replacements in zip(masked_inds, result):\n",
        "                if isinstance(replacements, list):\n",
        "                    corrected[i] = replacements[0][\"token_str\"]\n",
        "                else:\n",
        "                    corrected[i] = replacements[\"token_str\"]\n",
        "        return corrected"
      ],
      "metadata": {
        "id": "xlF1JtfXNRbw"
      },
      "execution_count": 13,
      "outputs": []
    },
    {
      "cell_type": "markdown",
      "source": [
        "#### Assess Model\n",
        "\n",
        "Print results on three samples and compute BLEU score"
      ],
      "metadata": {
        "id": "b8zm5IOBNRbx"
      }
    },
    {
      "cell_type": "code",
      "source": [
        "bert_syn_model = BertSynDetoxModel()\n",
        "bert_syn_bleu = assess_model(bert_syn_model)"
      ],
      "metadata": {
        "colab": {
          "base_uri": "https://localhost:8080/",
          "height": 526,
          "referenced_widgets": [
            "a1b2819a95324c3f84d8fc3daf7ece3d",
            "405cca4414e549d7becb175908365c35",
            "ea9ea3415f7f439c8ad444bfc17ecf0a",
            "822f1e7a63fd4f36909b2c21ea04c16f",
            "2c67dfe4933046c78cac268f37a05a11",
            "f83ce936c64448e18be16a05d645ce60",
            "53cf5912597249a2ae3c131ab267e32b",
            "ad1e25d151024324b763b188db063bed",
            "f77b6ba46673457dab970d48e6bde308",
            "72791d90c7c042d5ab5783fa81fa01a2",
            "791460e7b350434eae1992fb8315c24e",
            "e2fb65372da84d05bcde1559f455b9f8",
            "069b9aa7244f44e79f697c43f659ac02",
            "dc0da435f1884b58bc1ab3d5288edc43",
            "2b97ecfc65a94d238c20f34a2032b934",
            "de44df3444d644bf9866a26aaba1dae8",
            "93a2530b6869478f935bdc5e88770a0b",
            "c8d8433bc4fa4de08620155a6c800104",
            "63a7870f2b9f41cd856c1babec1d1786",
            "dfb0109064f14dc5a63ba3e0a9e82708",
            "199ed359321040209499fde111248fee",
            "86b03fc31b4145aa86b9695e482b61b1",
            "f70f633107ae4291a91e3c18e2bcf53c",
            "69cc1240d2d84914a3d30aa7ef505a1c",
            "14a5fde97d76405885574eee3d977951",
            "a9dc8a0074ec45b19e55519b35a7fdc4",
            "0d062be263414c2a95cfe3a007d0ea46",
            "a28ecb01c4a24b0a8bfd26cbfd08818e",
            "5dfc2edb94c94bbb9b02c0cfdfc8be50",
            "4aef34c5d4954ec0a00166832bc529bc",
            "8075f77e27894264913408569c2201b0",
            "af60ca1393e940fa86ddc318f7c2a9f6",
            "b4f4974d5a564557badced9125b89380",
            "9c988425be5d4f19828b8783cf65c059",
            "c5d58780cb2044e5ac4b3c7cdfc3bf97",
            "b303e8ac5d00483181525b7fc1ee19ea",
            "e40ca6600dca44f291a829c9ba197108",
            "df0417d3ded4453ebde34fff6b6a9ab7",
            "905ec49f3dba46e8a4140009c967fc2f",
            "0f8605b9e13b4e51b696237551a256c8",
            "fe04e27d86f3471ab5af7b760048fa14",
            "d048d5e993044bc8a172fa2b40df9a80",
            "ad4f2b1fd35a4ceabc8547c0f2a4b21a",
            "ad119fb861a448dda37c35af56c4bdf7",
            "9ccd68692aaf4e178393211d0805610b",
            "869fb1e23d6349e7b81412f1c64b587b",
            "349c3ba6bed0420ab01eb39e8bd0bff3",
            "1f410a7a34064e65ae8118684c12c4b1",
            "0e792affdf9b414c98ddb60c1c7a846d",
            "f134119b63ca4effab1718c5b022deaf",
            "92dcdb4679724be6a9ed34935ff61c67",
            "3e5cfba5c935424e90123ceeee0d9eb0",
            "c362905d7c964e6a90d0a3e04e344d99",
            "671124d7029d463584ba18fe5797cd8b",
            "ca65164847f44b3e96fe0f62cf65623e"
          ]
        },
        "outputId": "981c484c-37d0-46a5-8043-082f821e1dcf",
        "id": "WczV2ELqNRbx"
      },
      "execution_count": 14,
      "outputs": [
        {
          "output_type": "stream",
          "name": "stderr",
          "text": [
            "No model was supplied, defaulted to distilroberta-base and revision ec58a5b (https://huggingface.co/distilroberta-base).\n",
            "Using a pipeline without specifying a model name and revision in production is not recommended.\n"
          ]
        },
        {
          "output_type": "display_data",
          "data": {
            "text/plain": [
              "Downloading (…)lve/main/config.json:   0%|          | 0.00/480 [00:00<?, ?B/s]"
            ],
            "application/vnd.jupyter.widget-view+json": {
              "version_major": 2,
              "version_minor": 0,
              "model_id": "a1b2819a95324c3f84d8fc3daf7ece3d"
            }
          },
          "metadata": {}
        },
        {
          "output_type": "display_data",
          "data": {
            "text/plain": [
              "Downloading model.safetensors:   0%|          | 0.00/331M [00:00<?, ?B/s]"
            ],
            "application/vnd.jupyter.widget-view+json": {
              "version_major": 2,
              "version_minor": 0,
              "model_id": "e2fb65372da84d05bcde1559f455b9f8"
            }
          },
          "metadata": {}
        },
        {
          "output_type": "stream",
          "name": "stderr",
          "text": [
            "Some weights of the model checkpoint at distilroberta-base were not used when initializing RobertaForMaskedLM: ['roberta.pooler.dense.bias', 'roberta.pooler.dense.weight']\n",
            "- This IS expected if you are initializing RobertaForMaskedLM from the checkpoint of a model trained on another task or with another architecture (e.g. initializing a BertForSequenceClassification model from a BertForPreTraining model).\n",
            "- This IS NOT expected if you are initializing RobertaForMaskedLM from the checkpoint of a model that you expect to be exactly identical (initializing a BertForSequenceClassification model from a BertForSequenceClassification model).\n"
          ]
        },
        {
          "output_type": "display_data",
          "data": {
            "text/plain": [
              "Downloading (…)olve/main/vocab.json:   0%|          | 0.00/899k [00:00<?, ?B/s]"
            ],
            "application/vnd.jupyter.widget-view+json": {
              "version_major": 2,
              "version_minor": 0,
              "model_id": "f70f633107ae4291a91e3c18e2bcf53c"
            }
          },
          "metadata": {}
        },
        {
          "output_type": "display_data",
          "data": {
            "text/plain": [
              "Downloading (…)olve/main/merges.txt:   0%|          | 0.00/456k [00:00<?, ?B/s]"
            ],
            "application/vnd.jupyter.widget-view+json": {
              "version_major": 2,
              "version_minor": 0,
              "model_id": "9c988425be5d4f19828b8783cf65c059"
            }
          },
          "metadata": {}
        },
        {
          "output_type": "display_data",
          "data": {
            "text/plain": [
              "Downloading (…)/main/tokenizer.json:   0%|          | 0.00/1.36M [00:00<?, ?B/s]"
            ],
            "application/vnd.jupyter.widget-view+json": {
              "version_major": 2,
              "version_minor": 0,
              "model_id": "9ccd68692aaf4e178393211d0805610b"
            }
          },
          "metadata": {}
        },
        {
          "output_type": "stream",
          "name": "stdout",
          "text": [
            "Reference: \"['You', \"'re\", 'arrogant', '.', 'You', 'have', 'the', 'sickness', 'that', 'elites', 'have', 'had', '-', 'throughout', 'history', 'in', 'their', 'literal', ',', 'and', 'in', 'some', 'cases', 'figurative', ',', 'ivory', 'towers', '.']\"\n",
            "Detoxed: \"['These', \"'re\", 'bel', \"'\", \"'\", 'have', 'the', 'sickness', ' that', 'elites', 'have', ' esp', 'oused', 'throughout', ' Europe', 'in', ' literal', 'literal', ' representations', 'and', 'in', ' some', 'cases', 'figurative', ' literal', 'ivory', 'towers', \".'\"]\"\n",
            "Translation: \"['you', 'are', 'overwhelmed', 'by', 'the', 'disease', 'that', 'elites', 'have', 'always', 'been', ',', '-', 'during', 'history', 'in', 'your', 'literal', 'or', 'metaphorical', 'tower', 'of', 'ivory', '.']\"\n",
            "\n",
            "Reference: \"['Goddamn', 'Variety', 'had', 'to', 'print', 'the', 'story', 'before', 'I', 'got', 'the', 'rights', '!']\"\n",
            "Detoxed: \"[' contacted', 'Variety', ' permission', 'to', 'print', 'the', ' article', 'before', 'I', ' acquired', 'the', 'rights', '.']\"\n",
            "Translation: \"['the', 'Goddam', 'Variety', 'printed', 'the', 'story', 'before', 'I', 'got', 'the', 'rights', '.']\"\n",
            "\n",
            "Reference: \"['So', 'he', \"'s\", 'notgoing', 'to', 'kill', 'you', '?']\"\n",
            "Detoxed: \"['And', 'he', \"'s\", 'notgoing', 'to', ' kill', 'you', '.\\'\"']\"\n",
            "Translation: \"['so', 'he', 'wo', \"n't\", 'kill', 'you', '?']\"\n",
            "\n"
          ]
        },
        {
          "output_type": "stream",
          "name": "stderr",
          "text": [
            "100%|██████████| 3078/3078 [06:38<00:00,  7.72it/s]\n"
          ]
        },
        {
          "output_type": "stream",
          "name": "stdout",
          "text": [
            "BLEU: 0.08951501548290253\n"
          ]
        }
      ]
    },
    {
      "cell_type": "markdown",
      "source": [
        "### GRU-based transformer\n",
        "\n",
        "Next, I implement a seq2seq Model consisting of encoder and decoder. I chose pretrained encoder - DistilBERT since this model accumulates hundreds of hours of training on the data from different domains, so the embeddings should be relevant."
      ],
      "metadata": {
        "id": "O12Rn9_WVNnN"
      }
    },
    {
      "cell_type": "markdown",
      "source": [
        "#### Model Build\n",
        "\n",
        "The pipeline is done accordingly to the PyTorch guide https://pytorch.org/tutorials/intermediate/seq2seq_translation_tutorial.html\n",
        "\n",
        "Define an interface for the model to evaluate it with BLEU score"
      ],
      "metadata": {
        "id": "JeSjBjjrVNnS"
      }
    },
    {
      "cell_type": "code",
      "source": [
        "class TransformerDetoxModel(DetoxModel):\n",
        "    def __init__(self, encoder, decoder, *args, **kwargs):\n",
        "        super().__init__(*args, **kwargs)\n",
        "        self.encoder = encoder\n",
        "        self.decoder = decoder\n",
        "\n",
        "    def detox(self, sentence: list[str]) -> list[str]:\n",
        "        sentence = normalizeString(\" \".join(sentence))\n",
        "        self.encoder.eval()\n",
        "        self.decoder.eval()\n",
        "        output_words, _ = evaluate(self.encoder, self.decoder, sentence, input_lang, output_lang)\n",
        "        return output_words[:-1]"
      ],
      "metadata": {
        "id": "B3xpeWnXBKs8"
      },
      "execution_count": 15,
      "outputs": []
    },
    {
      "cell_type": "markdown",
      "source": [
        "Write a vocab"
      ],
      "metadata": {
        "id": "7k4BPeRcBas4"
      }
    },
    {
      "cell_type": "code",
      "source": [
        "SOS_token = 0\n",
        "EOS_token = 1\n",
        "\n",
        "class Lang:\n",
        "    def __init__(self, name):\n",
        "        self.name = name\n",
        "        self.word2index = {}\n",
        "        self.word2count = {}\n",
        "        self.index2word = {SOS_token: \"SOS\", EOS_token: \"EOS\"}\n",
        "        self.n_words = len(self.index2word)  # Count SOS and EOS\n",
        "\n",
        "    def addSentence(self, sentence):\n",
        "        for word in word_tokenize(sentence):\n",
        "            self.addWord(word)\n",
        "\n",
        "    def addWord(self, word):\n",
        "        if word not in self.word2index:\n",
        "            self.word2index[word] = self.n_words\n",
        "            self.word2count[word] = 1\n",
        "            self.index2word[self.n_words] = word\n",
        "            self.n_words += 1\n",
        "        else:\n",
        "            self.word2count[word] += 1"
      ],
      "metadata": {
        "id": "laoVWADdazr7"
      },
      "execution_count": 16,
      "outputs": []
    },
    {
      "cell_type": "markdown",
      "source": [
        "Text normalizers"
      ],
      "metadata": {
        "id": "FjKKulZGpyiB"
      }
    },
    {
      "cell_type": "code",
      "source": [
        "# Turn a Unicode string to plain ASCII, thanks to\n",
        "# https://stackoverflow.com/a/518232/2809427\n",
        "def unicodeToAscii(s):\n",
        "    return ''.join(\n",
        "        c for c in unicodedata.normalize('NFD', s)\n",
        "        if unicodedata.category(c) != 'Mn'\n",
        "    )\n",
        "\n",
        "# Lowercase, trim, and remove non-letter characters\n",
        "def normalizeString(s):\n",
        "    s = unicodeToAscii(s.lower().strip())\n",
        "    s = re.sub(r\"([.!?])\", r\" \\1\", s)\n",
        "    s = re.sub(r\"[^a-zA-Z!?]+\", r\" \", s)\n",
        "    return s.strip()"
      ],
      "metadata": {
        "id": "oxgT3sTYbM7o"
      },
      "execution_count": 17,
      "outputs": []
    },
    {
      "cell_type": "markdown",
      "source": [
        "Input/output parser, that train vocabs and collect train pairs"
      ],
      "metadata": {
        "id": "JsuJ90qfp3A9"
      }
    },
    {
      "cell_type": "code",
      "source": [
        "def readLangs(lang1, lang2, reverse=False, data=train):\n",
        "    # Split every line into pairs and normalize\n",
        "    pairs = [[normalizeString(l[lang1]), normalizeString(l[lang2])] for i, l in data.iterrows()]\n",
        "\n",
        "    # Reverse pairs, make Lang instances\n",
        "    if reverse:\n",
        "        pairs = [list(reversed(p)) for p in pairs]\n",
        "        input_lang = Lang(lang2)\n",
        "        output_lang = Lang(lang1)\n",
        "    else:\n",
        "        input_lang = Lang(lang1)\n",
        "        output_lang = Lang(lang2)\n",
        "\n",
        "    return input_lang, output_lang, pairs"
      ],
      "metadata": {
        "id": "l3z2YAG3bQH2"
      },
      "execution_count": 18,
      "outputs": []
    },
    {
      "cell_type": "markdown",
      "source": [
        "Data filters for training speedup"
      ],
      "metadata": {
        "id": "fxH2_E9uq14u"
      }
    },
    {
      "cell_type": "code",
      "source": [
        "def filterPair(p):\n",
        "    return len(word_tokenize(p[0])) < TRANSF_TRAIN_MAX_LENGTH and \\\n",
        "        len(word_tokenize(p[1])) < TRANSF_TRAIN_MAX_LENGTH\n",
        "\n",
        "def filterPairs(pairs):\n",
        "    return [pair for pair in pairs if filterPair(pair)]"
      ],
      "metadata": {
        "id": "yz-FIPw1cj3Y"
      },
      "execution_count": 19,
      "outputs": []
    },
    {
      "cell_type": "markdown",
      "source": [
        "Dataset parser"
      ],
      "metadata": {
        "id": "8pxOmpUfsZOM"
      }
    },
    {
      "cell_type": "code",
      "source": [
        "def prepareData(lang1, lang2, reverse=False, data=train):\n",
        "    input_lang, output_lang, pairs = readLangs(lang1, lang2, reverse, data)\n",
        "    print(\"Read %s sentence pairs\" % len(pairs))\n",
        "    pairs = filterPairs(pairs)\n",
        "    print(\"Trimmed to %s sentence pairs\" % len(pairs))\n",
        "    print(\"Counting words...\")\n",
        "    for pair in pairs:\n",
        "        input_lang.addSentence(pair[0])\n",
        "        output_lang.addSentence(pair[1])\n",
        "    print(\"Counted words:\")\n",
        "    print(input_lang.name, input_lang.n_words)\n",
        "    print(output_lang.name, output_lang.n_words)\n",
        "    return input_lang, output_lang, pairs\n",
        "\n",
        "input_lang, output_lang, pairs = prepareData(\"reference\", \"translation\", False)\n",
        "print(random.choice(pairs))"
      ],
      "metadata": {
        "colab": {
          "base_uri": "https://localhost:8080/"
        },
        "id": "UUTrkCFwdK8G",
        "outputId": "b38d3969-b260-4591-b00d-c95a1f5f3af8"
      },
      "execution_count": 20,
      "outputs": [
        {
          "output_type": "stream",
          "name": "stdout",
          "text": [
            "Read 304647 sentence pairs\n",
            "Trimmed to 223970 sentence pairs\n",
            "Counting words...\n",
            "Counted words:\n",
            "reference 39902\n",
            "translation 34190\n",
            "['and i ve gotta stop bitching ?', 'and i have to stop complaining ?']\n"
          ]
        }
      ]
    },
    {
      "cell_type": "markdown",
      "source": [
        "Define encoder"
      ],
      "metadata": {
        "id": "zpS1PRGisoaD"
      }
    },
    {
      "cell_type": "code",
      "source": [
        "class EncoderRNN(nn.Module):\n",
        "    def __init__(self, input_size, hidden_size, dropout_p=0.1):\n",
        "        super(EncoderRNN, self).__init__()\n",
        "        self.hidden_size = hidden_size\n",
        "\n",
        "        self.embedding = nn.Embedding(input_size, hidden_size)\n",
        "        self.gru = nn.GRU(hidden_size, hidden_size, batch_first=True)\n",
        "        self.dropout = nn.Dropout(dropout_p)\n",
        "\n",
        "    def forward(self, input):\n",
        "        embedded = self.dropout(self.embedding(input))\n",
        "        output, hidden = self.gru(embedded)\n",
        "        return output, hidden"
      ],
      "metadata": {
        "id": "6NLPN-9idYj-"
      },
      "execution_count": 21,
      "outputs": []
    },
    {
      "cell_type": "markdown",
      "source": [
        "Define decoder"
      ],
      "metadata": {
        "id": "xotgGdbbsttE"
      }
    },
    {
      "cell_type": "code",
      "source": [
        "class DecoderRNN(nn.Module):\n",
        "    def __init__(self, hidden_size, output_size):\n",
        "        super(DecoderRNN, self).__init__()\n",
        "        self.embedding = nn.Embedding(output_size, hidden_size)\n",
        "        self.gru = nn.GRU(hidden_size, hidden_size, batch_first=True)\n",
        "        self.out = nn.Linear(hidden_size, output_size)\n",
        "\n",
        "    def forward(self, encoder_outputs, encoder_hidden, target_tensor=None):\n",
        "        batch_size = encoder_outputs.size(0)\n",
        "        decoder_input = torch.empty(batch_size, 1, dtype=torch.long, device=device).fill_(SOS_token)\n",
        "        decoder_hidden = encoder_hidden\n",
        "        decoder_outputs = []\n",
        "\n",
        "        for i in range(TRANSF_TRAIN_MAX_LENGTH):\n",
        "            decoder_output, decoder_hidden  = self.forward_step(decoder_input, decoder_hidden)\n",
        "            decoder_outputs.append(decoder_output)\n",
        "\n",
        "            if target_tensor is not None:\n",
        "                # Teacher forcing: Feed the target as the next input\n",
        "                decoder_input = target_tensor[:, i].unsqueeze(1) # Teacher forcing\n",
        "            else:\n",
        "                # Without teacher forcing: use its own predictions as the next input\n",
        "                _, topi = decoder_output.topk(1)\n",
        "                decoder_input = topi.squeeze(-1).detach()  # detach from history as input\n",
        "\n",
        "        decoder_outputs = torch.cat(decoder_outputs, dim=1)\n",
        "        decoder_outputs = F.log_softmax(decoder_outputs, dim=-1)\n",
        "        return decoder_outputs, decoder_hidden, None # We return `None` for consistency in the training loop\n",
        "\n",
        "    def forward_step(self, input, hidden):\n",
        "        output = self.embedding(input)\n",
        "        output = F.relu(output)\n",
        "        output, hidden = self.gru(output, hidden)\n",
        "        output = self.out(output)\n",
        "        return output, hidden"
      ],
      "metadata": {
        "id": "8VxPkk4AdiyQ"
      },
      "execution_count": 22,
      "outputs": []
    },
    {
      "cell_type": "markdown",
      "source": [
        "Input preprocessors"
      ],
      "metadata": {
        "id": "9W69CcBMswmu"
      }
    },
    {
      "cell_type": "code",
      "source": [
        "def indexesFromSentence(lang, sentence):\n",
        "    return [lang.word2index.get(word) or lang.word2index[\"the\"] for word in word_tokenize(sentence)]\n",
        "\n",
        "def tensorFromSentence(lang, sentence):\n",
        "    indexes = indexesFromSentence(lang, sentence)\n",
        "    indexes.append(EOS_token)\n",
        "    return torch.tensor(indexes, dtype=torch.long, device=device).view(1, -1)\n",
        "\n",
        "def tensorsFromPair(pair):\n",
        "    input_tensor = tensorFromSentence(input_lang, pair[0])\n",
        "    target_tensor = tensorFromSentence(output_lang, pair[1])\n",
        "    return (input_tensor, target_tensor)\n",
        "\n",
        "def get_dataloader(batch_size):\n",
        "    input_lang, output_lang, pairs = prepareData(\"reference\", \"translation\", False)\n",
        "\n",
        "    n = len(pairs)\n",
        "    input_ids = np.zeros((n, TRANSF_TRAIN_MAX_LENGTH), dtype=np.int32)\n",
        "    target_ids = np.zeros((n, TRANSF_TRAIN_MAX_LENGTH), dtype=np.int32)\n",
        "\n",
        "    for idx, (inp, tgt) in enumerate(pairs):\n",
        "        inp_ids = indexesFromSentence(input_lang, inp)\n",
        "        tgt_ids = indexesFromSentence(output_lang, tgt)\n",
        "        inp_ids.append(EOS_token)\n",
        "        tgt_ids.append(EOS_token)\n",
        "        input_ids[idx, :len(inp_ids)] = inp_ids\n",
        "        target_ids[idx, :len(tgt_ids)] = tgt_ids\n",
        "\n",
        "    train_data = TensorDataset(torch.LongTensor(input_ids).to(device),\n",
        "                               torch.LongTensor(target_ids).to(device))\n",
        "\n",
        "    train_sampler = RandomSampler(train_data)\n",
        "    train_dataloader = DataLoader(train_data, sampler=train_sampler, batch_size=batch_size)\n",
        "    return input_lang, output_lang, train_dataloader"
      ],
      "metadata": {
        "id": "k6Ks0OLMduOi"
      },
      "execution_count": 23,
      "outputs": []
    },
    {
      "cell_type": "markdown",
      "source": [
        "Epoch train loop"
      ],
      "metadata": {
        "id": "ozruqvHTttou"
      }
    },
    {
      "cell_type": "code",
      "source": [
        "def train_epoch(dataloader, encoder, decoder, encoder_optimizer,\n",
        "                decoder_optimizer, criterion):\n",
        "    encoder.train()\n",
        "    decoder.train()\n",
        "    total_loss = 0\n",
        "    for data in tqdm(dataloader):\n",
        "        input_tensor, target_tensor = data\n",
        "\n",
        "        encoder_optimizer.zero_grad()\n",
        "        decoder_optimizer.zero_grad()\n",
        "\n",
        "        encoder_outputs, encoder_hidden = encoder(input_tensor)\n",
        "        decoder_outputs, _, _ = decoder(encoder_outputs, encoder_hidden, target_tensor)\n",
        "\n",
        "        loss = criterion(\n",
        "            decoder_outputs.view(-1, decoder_outputs.size(-1)),\n",
        "            target_tensor.view(-1)\n",
        "        )\n",
        "        loss.backward()\n",
        "\n",
        "        encoder_optimizer.step()\n",
        "        decoder_optimizer.step()\n",
        "\n",
        "        total_loss += loss.item()\n",
        "\n",
        "    return total_loss / len(dataloader)"
      ],
      "metadata": {
        "id": "K8gXyTwpd9J3"
      },
      "execution_count": 24,
      "outputs": []
    },
    {
      "cell_type": "markdown",
      "source": [
        "Epoch validation loop"
      ],
      "metadata": {
        "id": "lR7zar4R_Ngs"
      }
    },
    {
      "cell_type": "code",
      "source": [
        "def val_one_epoch(\n",
        "    encoder,\n",
        "    decoder,\n",
        "    epoch_num=-1,\n",
        "    best_so_far=0.0,\n",
        "    encoder_ckpt_path=ENCODER_CKPT_PATH,\n",
        "    decoder_ckpt_path=DECODER_CKPT_PATH\n",
        "):\n",
        "    print(f\"Epoch {epoch_num}: val\")\n",
        "    metric = assess_model(TransformerDetoxModel(encoder, decoder))\n",
        "    if metric > best_so_far:\n",
        "        torch.save(encoder.state_dict(), encoder_ckpt_path)\n",
        "        torch.save(decoder.state_dict(), decoder_ckpt_path)\n",
        "        best_so_far = metric\n",
        "\n",
        "    return metric, best_so_far"
      ],
      "metadata": {
        "id": "YZZjTA-K_P5I"
      },
      "execution_count": 25,
      "outputs": []
    },
    {
      "cell_type": "markdown",
      "source": [
        "Utilities for train monitoring"
      ],
      "metadata": {
        "id": "K42J291jt0Ao"
      }
    },
    {
      "cell_type": "code",
      "source": [
        "def asMinutes(s):\n",
        "    m = math.floor(s / 60)\n",
        "    s -= m * 60\n",
        "    return '%dm %ds' % (m, s)\n",
        "\n",
        "def timeSince(since, percent):\n",
        "    now = time.time()\n",
        "    s = now - since\n",
        "    es = s / (percent)\n",
        "    rs = es - s\n",
        "    return '%s (- %s)' % (asMinutes(s), asMinutes(rs))"
      ],
      "metadata": {
        "id": "_7gxeYNDd98J"
      },
      "execution_count": 26,
      "outputs": []
    },
    {
      "cell_type": "markdown",
      "source": [
        "Utility for visualizations"
      ],
      "metadata": {
        "id": "YL3aDBpwuF87"
      }
    },
    {
      "cell_type": "code",
      "source": [
        "def showPlot(points):\n",
        "    plt.figure()\n",
        "    fig, ax = plt.subplots()\n",
        "    # this locator puts ticks at regular intervals\n",
        "    loc = ticker.MultipleLocator(base=0.2)\n",
        "    ax.yaxis.set_major_locator(loc)\n",
        "    plt.plot(points)"
      ],
      "metadata": {
        "id": "NijeQxTbeHtp"
      },
      "execution_count": 27,
      "outputs": []
    },
    {
      "cell_type": "markdown",
      "source": [
        "Main train loop"
      ],
      "metadata": {
        "id": "O_UWZxhcuAW_"
      }
    },
    {
      "cell_type": "code",
      "source": [
        "def train_fun(train_dataloader, encoder, decoder, n_epochs, learning_rate=0.001,\n",
        "              encoder_ckpt_path=ENCODER_CKPT_PATH, decoder_ckpt_path=DECODER_CKPT_PATH):\n",
        "    start = time.time()\n",
        "    best_so_far = -1.0\n",
        "    losses = []\n",
        "    metrics = []\n",
        "\n",
        "    encoder_optimizer = optim.Adam(encoder.parameters(), lr=learning_rate)\n",
        "    decoder_optimizer = optim.Adam(decoder.parameters(), lr=learning_rate)\n",
        "    criterion = nn.NLLLoss()\n",
        "\n",
        "    for epoch in range(1, n_epochs + 1):\n",
        "        loss = train_epoch(train_dataloader, encoder, decoder, encoder_optimizer, decoder_optimizer, criterion)\n",
        "        print('%s (%d %d%%) %.4f' % (timeSince(start, epoch / n_epochs),\n",
        "                                    epoch, epoch / n_epochs * 100, loss))\n",
        "        metric, best_so_far = val_one_epoch(encoder, decoder, epoch, best_so_far, encoder_ckpt_path, decoder_ckpt_path)\n",
        "        metrics.append(metric)\n",
        "        losses.append(loss)\n",
        "\n",
        "    return losses, metrics"
      ],
      "metadata": {
        "id": "MmatjsAmeE2a"
      },
      "execution_count": 28,
      "outputs": []
    },
    {
      "cell_type": "markdown",
      "source": [
        "Predict function"
      ],
      "metadata": {
        "id": "BCFo28ODuOWe"
      }
    },
    {
      "cell_type": "code",
      "source": [
        "def evaluate(encoder, decoder, sentence, input_lang, output_lang):\n",
        "    with torch.no_grad():\n",
        "        input_tensor = tensorFromSentence(input_lang, sentence)\n",
        "\n",
        "        encoder_outputs, encoder_hidden = encoder(input_tensor)\n",
        "        decoder_outputs, decoder_hidden, decoder_attn = decoder(encoder_outputs, encoder_hidden)\n",
        "\n",
        "        _, topi = decoder_outputs.topk(1)\n",
        "        decoded_ids = topi.squeeze()\n",
        "\n",
        "        decoded_words = []\n",
        "        for idx in decoded_ids:\n",
        "            if idx.item() == EOS_token:\n",
        "                decoded_words.append('<EOS>')\n",
        "                break\n",
        "            decoded_words.append(output_lang.index2word[idx.item()])\n",
        "    return decoded_words, decoder_attn"
      ],
      "metadata": {
        "id": "RtgckIZ7eMj6"
      },
      "execution_count": 29,
      "outputs": []
    },
    {
      "cell_type": "markdown",
      "source": [
        "Prediction of few random samples from training set"
      ],
      "metadata": {
        "id": "cFrVGrxsucGO"
      }
    },
    {
      "cell_type": "code",
      "source": [
        "def evaluateRandomly(encoder, decoder, n=10):\n",
        "    for i in range(n):\n",
        "        pair = random.choice(pairs)\n",
        "        print('>', pair[0])\n",
        "        print('=', pair[1])\n",
        "        output_words, _ = evaluate(encoder, decoder, pair[0], input_lang, output_lang)\n",
        "        output_sentence = ' '.join(output_words)\n",
        "        print('<', output_sentence)\n",
        "        print('')"
      ],
      "metadata": {
        "id": "XSRjq0JHeQGc"
      },
      "execution_count": 30,
      "outputs": []
    },
    {
      "cell_type": "markdown",
      "source": [
        "Initialize the model and train"
      ],
      "metadata": {
        "id": "kteMqd5nuuQW"
      }
    },
    {
      "cell_type": "code",
      "source": [
        "hidden_size = 128\n",
        "batch_size = 32\n",
        "\n",
        "input_lang, output_lang, train_dataloader = get_dataloader(batch_size)\n",
        "\n",
        "encoder = EncoderRNN(input_lang.n_words, hidden_size).to(device)\n",
        "decoder = DecoderRNN(hidden_size, output_lang.n_words).to(device)\n",
        "\n",
        "losses, metrics = train_fun(train_dataloader, encoder, decoder, 5, encoder_ckpt_path=ENCODER_CKPT_PATH, decoder_ckpt_path=DECODER_CKPT_PATH)"
      ],
      "metadata": {
        "colab": {
          "base_uri": "https://localhost:8080/"
        },
        "id": "sZFp2XC4eSZW",
        "outputId": "637802e3-934c-40a0-dbbe-18d74744059a"
      },
      "execution_count": 31,
      "outputs": [
        {
          "output_type": "stream",
          "name": "stdout",
          "text": [
            "Read 304647 sentence pairs\n",
            "Trimmed to 223970 sentence pairs\n",
            "Counting words...\n",
            "Counted words:\n",
            "reference 39902\n",
            "translation 34190\n"
          ]
        },
        {
          "output_type": "stream",
          "name": "stderr",
          "text": [
            "100%|██████████| 7000/7000 [03:26<00:00, 33.96it/s]\n"
          ]
        },
        {
          "output_type": "stream",
          "name": "stdout",
          "text": [
            "3m 26s (- 13m 44s) (1 20%) 2.2987\n",
            "Epoch 1: val\n",
            "Reference: \"['You', \"'re\", 'arrogant', '.', 'You', 'have', 'the', 'sickness', 'that', 'elites', 'have', 'had', '-', 'throughout', 'history', 'in', 'their', 'literal', ',', 'and', 'in', 'some', 'cases', 'figurative', ',', 'ivory', 'towers', '.']\"\n",
            "Detoxed: \"['you', 're', 'the', 'only', 'one', 'who', 's', 'got', 'a', 'couple', 'of', 'the', 'other', 'people']\"\n",
            "Translation: \"['you', 'are', 'overwhelmed', 'by', 'the', 'disease', 'that', 'elites', 'have', 'always', 'been', ',', '-', 'during', 'history', 'in', 'your', 'literal', 'or', 'metaphorical', 'tower', 'of', 'ivory', '.']\"\n",
            "\n",
            "Reference: \"['Goddamn', 'Variety', 'had', 'to', 'print', 'the', 'story', 'before', 'I', 'got', 'the', 'rights', '!']\"\n",
            "Detoxed: \"['i', 've', 'had', 'to', 'get', 'the', 'last', 'time', 'to', 'the', 'ground', '!']\"\n",
            "Translation: \"['the', 'Goddam', 'Variety', 'printed', 'the', 'story', 'before', 'I', 'got', 'the', 'rights', '.']\"\n",
            "\n",
            "Reference: \"['So', 'he', \"'s\", 'notgoing', 'to', 'kill', 'you', '?']\"\n",
            "Detoxed: \"['so', 'he', 's', 'gon', 'na', 'kill', 'you', 'to', 'kill', 'you', '?']\"\n",
            "Translation: \"['so', 'he', 'wo', \"n't\", 'kill', 'you', '?']\"\n",
            "\n"
          ]
        },
        {
          "output_type": "stream",
          "name": "stderr",
          "text": [
            "100%|██████████| 3078/3078 [00:22<00:00, 137.60it/s]\n"
          ]
        },
        {
          "output_type": "stream",
          "name": "stdout",
          "text": [
            "BLEU: 0.024870469976541597\n"
          ]
        },
        {
          "output_type": "stream",
          "name": "stderr",
          "text": [
            "100%|██████████| 7000/7000 [03:23<00:00, 34.43it/s]\n"
          ]
        },
        {
          "output_type": "stream",
          "name": "stdout",
          "text": [
            "7m 12s (- 10m 49s) (2 40%) 1.8153\n",
            "Epoch 2: val\n",
            "Reference: \"['You', \"'re\", 'arrogant', '.', 'You', 'have', 'the', 'sickness', 'that', 'elites', 'have', 'had', '-', 'throughout', 'history', 'in', 'their', 'literal', ',', 'and', 'in', 'some', 'cases', 'figurative', ',', 'ivory', 'towers', '.']\"\n",
            "Detoxed: \"['you', 're', 'the', 'only', 'one', 'in', 'the', 'world', 'and', 'you', 're', 'in', 'the', 'same']\"\n",
            "Translation: \"['you', 'are', 'overwhelmed', 'by', 'the', 'disease', 'that', 'elites', 'have', 'always', 'been', ',', '-', 'during', 'history', 'in', 'your', 'literal', 'or', 'metaphorical', 'tower', 'of', 'ivory', '.']\"\n",
            "\n",
            "Reference: \"['Goddamn', 'Variety', 'had', 'to', 'print', 'the', 'story', 'before', 'I', 'got', 'the', 'rights', '!']\"\n",
            "Detoxed: \"['the', 'first', 'had', 'had', 'to', 'get', 'the', 'first', 'before', 'i', 'had', 'a', 'broken', '!']\"\n",
            "Translation: \"['the', 'Goddam', 'Variety', 'printed', 'the', 'story', 'before', 'I', 'got', 'the', 'rights', '.']\"\n",
            "\n",
            "Reference: \"['So', 'he', \"'s\", 'notgoing', 'to', 'kill', 'you', '?']\"\n",
            "Detoxed: \"['so', 'he', 's', 'gon', 'na', 'have', 'to', 'kill', 'you', '?']\"\n",
            "Translation: \"['so', 'he', 'wo', \"n't\", 'kill', 'you', '?']\"\n",
            "\n"
          ]
        },
        {
          "output_type": "stream",
          "name": "stderr",
          "text": [
            "100%|██████████| 3078/3078 [00:26<00:00, 115.12it/s]\n"
          ]
        },
        {
          "output_type": "stream",
          "name": "stdout",
          "text": [
            "BLEU: 0.03678205363646316\n"
          ]
        },
        {
          "output_type": "stream",
          "name": "stderr",
          "text": [
            "100%|██████████| 7000/7000 [03:23<00:00, 34.41it/s]\n"
          ]
        },
        {
          "output_type": "stream",
          "name": "stdout",
          "text": [
            "11m 3s (- 7m 22s) (3 60%) 1.6464\n",
            "Epoch 3: val\n",
            "Reference: \"['You', \"'re\", 'arrogant', '.', 'You', 'have', 'the', 'sickness', 'that', 'elites', 'have', 'had', '-', 'throughout', 'history', 'in', 'their', 'literal', ',', 'and', 'in', 'some', 'cases', 'figurative', ',', 'ivory', 'towers', '.']\"\n",
            "Detoxed: \"['you', 're', 'in', 'the', 'same', 'place', 'and', 'you', 'have', 'a', 'lot', 'of', 'nerve']\"\n",
            "Translation: \"['you', 'are', 'overwhelmed', 'by', 'the', 'disease', 'that', 'elites', 'have', 'always', 'been', ',', '-', 'during', 'history', 'in', 'your', 'literal', 'or', 'metaphorical', 'tower', 'of', 'ivory', '.']\"\n",
            "\n",
            "Reference: \"['Goddamn', 'Variety', 'had', 'to', 'print', 'the', 'story', 'before', 'I', 'got', 'the', 'rights', '!']\"\n",
            "Detoxed: \"['the', 'hell', 'knew', 'the', 'whole', 'thing', 'i', 'have', 'to', 'tell', 'the', 'book']\"\n",
            "Translation: \"['the', 'Goddam', 'Variety', 'printed', 'the', 'story', 'before', 'I', 'got', 'the', 'rights', '.']\"\n",
            "\n",
            "Reference: \"['So', 'he', \"'s\", 'notgoing', 'to', 'kill', 'you', '?']\"\n",
            "Detoxed: \"['so', 'he', 's', 'gon', 'na', 'have', 'killed', 'him', '?']\"\n",
            "Translation: \"['so', 'he', 'wo', \"n't\", 'kill', 'you', '?']\"\n",
            "\n"
          ]
        },
        {
          "output_type": "stream",
          "name": "stderr",
          "text": [
            "100%|██████████| 3078/3078 [00:21<00:00, 142.17it/s]\n"
          ]
        },
        {
          "output_type": "stream",
          "name": "stdout",
          "text": [
            "BLEU: 0.04080943211337182\n"
          ]
        },
        {
          "output_type": "stream",
          "name": "stderr",
          "text": [
            "100%|██████████| 7000/7000 [03:23<00:00, 34.33it/s]\n"
          ]
        },
        {
          "output_type": "stream",
          "name": "stdout",
          "text": [
            "14m 49s (- 3m 42s) (4 80%) 1.5351\n",
            "Epoch 4: val\n",
            "Reference: \"['You', \"'re\", 'arrogant', '.', 'You', 'have', 'the', 'sickness', 'that', 'elites', 'have', 'had', '-', 'throughout', 'history', 'in', 'their', 'literal', ',', 'and', 'in', 'some', 'cases', 'figurative', ',', 'ivory', 'towers', '.']\"\n",
            "Detoxed: \"['you', 're', 'the', 'only', 'one', 'of', 'the', 'world', 'in', 'the', 'world', 'and', 'the', 'whole']\"\n",
            "Translation: \"['you', 'are', 'overwhelmed', 'by', 'the', 'disease', 'that', 'elites', 'have', 'always', 'been', ',', '-', 'during', 'history', 'in', 'your', 'literal', 'or', 'metaphorical', 'tower', 'of', 'ivory', '.']\"\n",
            "\n",
            "Reference: \"['Goddamn', 'Variety', 'had', 'to', 'print', 'the', 'story', 'before', 'I', 'got', 'the', 'rights', '!']\"\n",
            "Detoxed: \"['the', 'first', 'thing', 'had', 'to', 'go', 'to', 'the', 'bathroom', '!']\"\n",
            "Translation: \"['the', 'Goddam', 'Variety', 'printed', 'the', 'story', 'before', 'I', 'got', 'the', 'rights', '.']\"\n",
            "\n",
            "Reference: \"['So', 'he', \"'s\", 'notgoing', 'to', 'kill', 'you', '?']\"\n",
            "Detoxed: \"['so', 'you', 're', 'gon', 'na', 'kill', 'you', 'to', 'kill', '?']\"\n",
            "Translation: \"['so', 'he', 'wo', \"n't\", 'kill', 'you', '?']\"\n",
            "\n"
          ]
        },
        {
          "output_type": "stream",
          "name": "stderr",
          "text": [
            "100%|██████████| 3078/3078 [00:23<00:00, 133.70it/s]\n"
          ]
        },
        {
          "output_type": "stream",
          "name": "stdout",
          "text": [
            "BLEU: 0.04345457702086369\n"
          ]
        },
        {
          "output_type": "stream",
          "name": "stderr",
          "text": [
            "100%|██████████| 7000/7000 [03:22<00:00, 34.52it/s]\n"
          ]
        },
        {
          "output_type": "stream",
          "name": "stdout",
          "text": [
            "18m 36s (- 0m 0s) (5 100%) 1.4530\n",
            "Epoch 5: val\n",
            "Reference: \"['You', \"'re\", 'arrogant', '.', 'You', 'have', 'the', 'sickness', 'that', 'elites', 'have', 'had', '-', 'throughout', 'history', 'in', 'their', 'literal', ',', 'and', 'in', 'some', 'cases', 'figurative', ',', 'ivory', 'towers', '.']\"\n",
            "Detoxed: \"['you', 're', 'a', 'dangerous', 'and', 'you', 're', 'in', 'the', 'middle', 'of', 'the', 'world']\"\n",
            "Translation: \"['you', 'are', 'overwhelmed', 'by', 'the', 'disease', 'that', 'elites', 'have', 'always', 'been', ',', '-', 'during', 'history', 'in', 'your', 'literal', 'or', 'metaphorical', 'tower', 'of', 'ivory', '.']\"\n",
            "\n",
            "Reference: \"['Goddamn', 'Variety', 'had', 'to', 'print', 'the', 'story', 'before', 'I', 'got', 'the', 'rights', '!']\"\n",
            "Detoxed: \"['the', 'pope', 'had', 'to', 'go', 'to', 'the', 'ship', 'before', 'i', 'went', 'to', 'the', 'ship']\"\n",
            "Translation: \"['the', 'Goddam', 'Variety', 'printed', 'the', 'story', 'before', 'I', 'got', 'the', 'rights', '.']\"\n",
            "\n",
            "Reference: \"['So', 'he', \"'s\", 'notgoing', 'to', 'kill', 'you', '?']\"\n",
            "Detoxed: \"['so', 'you', 're', 'gon', 'na', 'kill', 'you', '?']\"\n",
            "Translation: \"['so', 'he', 'wo', \"n't\", 'kill', 'you', '?']\"\n",
            "\n"
          ]
        },
        {
          "output_type": "stream",
          "name": "stderr",
          "text": [
            "100%|██████████| 3078/3078 [00:22<00:00, 135.87it/s]\n"
          ]
        },
        {
          "output_type": "stream",
          "name": "stdout",
          "text": [
            "BLEU: 0.04540788705556608\n"
          ]
        }
      ]
    },
    {
      "cell_type": "markdown",
      "source": [
        "The results are promising"
      ],
      "metadata": {
        "id": "ZYd33FF2wrzf"
      }
    },
    {
      "cell_type": "markdown",
      "source": [
        "#### Assess Model\n",
        "\n",
        "Load the best state of the model"
      ],
      "metadata": {
        "id": "JKwqxT85VNnU"
      }
    },
    {
      "cell_type": "code",
      "source": [
        "ckpt = torch.load(ENCODER_CKPT_PATH)\n",
        "encoder.load_state_dict(ckpt)\n",
        "ckpt = torch.load(DECODER_CKPT_PATH)\n",
        "decoder.load_state_dict(ckpt)"
      ],
      "metadata": {
        "id": "MI6VOk9IFCoo",
        "colab": {
          "base_uri": "https://localhost:8080/"
        },
        "outputId": "54565a4b-9faf-4b86-ee99-6ae6878c2561"
      },
      "execution_count": 32,
      "outputs": [
        {
          "output_type": "execute_result",
          "data": {
            "text/plain": [
              "<All keys matched successfully>"
            ]
          },
          "metadata": {},
          "execution_count": 32
        }
      ]
    },
    {
      "cell_type": "markdown",
      "source": [
        "Evaluate on some samples from train set"
      ],
      "metadata": {
        "id": "5k09SW1JD7Mg"
      }
    },
    {
      "cell_type": "code",
      "source": [
        "encoder.eval()\n",
        "decoder.eval()\n",
        "evaluateRandomly(encoder, decoder)"
      ],
      "metadata": {
        "id": "m900qdcMeVNN",
        "colab": {
          "base_uri": "https://localhost:8080/"
        },
        "outputId": "3635b0ce-6f58-43fe-fc32-310284f6a643"
      },
      "execution_count": 33,
      "outputs": [
        {
          "output_type": "stream",
          "name": "stdout",
          "text": [
            "> sophisticated words for a guy who screwed us\n",
            "= thoughtful words from the one who gave it to us\n",
            "< did he kill someone who s got us for a man ? <EOS>\n",
            "\n",
            "> we are here together because joe masseria has sentenced us to die\n",
            "= we re here because joe masseria condemned us to death\n",
            "< we re trying to die together joe people are ill <EOS>\n",
            "\n",
            "> give em hell tomorrow\n",
            "= give them a good deal tomorrow\n",
            "< give them the money tomorrow <EOS>\n",
            "\n",
            "> cao cao has a reputation for stealing men s wives\n",
            "= cao cao has a reputation for manslaughter\n",
            "< he s got a couple of men for a couple of months <EOS>\n",
            "\n",
            "> and yet a commander had to be firm but not pig headed\n",
            "= and yet a commander must be firm but not stubborn\n",
            "< but the president but the president is not going to be a virgin <EOS>\n",
            "\n",
            "> you guys saved his ass getting him down as fast as you did\n",
            "= the way you brought him in quickly saved his life\n",
            "< you saved him as a little bit of him <EOS>\n",
            "\n",
            "> i own this fucking town\n",
            "= this town belongs to me\n",
            "< i m going to town all the whole city <EOS>\n",
            "\n",
            "> my mistress says the pig cannot come in\n",
            "= the lady says the pig must not enter\n",
            "< my grandmother says he s going to go back <EOS>\n",
            "\n",
            "> whores immigrants\n",
            "= immigration\n",
            "< she s going to be a couple of hours <EOS>\n",
            "\n",
            "> you and your whole gang of braggarts\n",
            "= and you re like a whole bunch of praises\n",
            "< you and the whole thing about the whole time <EOS>\n",
            "\n"
          ]
        }
      ]
    },
    {
      "cell_type": "markdown",
      "source": [
        "Print results on three samples and compute BLEU score"
      ],
      "metadata": {
        "id": "bmHo8q6AEEaa"
      }
    },
    {
      "cell_type": "code",
      "source": [
        "trans_model = TransformerDetoxModel(encoder, decoder)\n",
        "trans_bleu = assess_model(trans_model)"
      ],
      "metadata": {
        "id": "CILqJ1xDVNnV",
        "colab": {
          "base_uri": "https://localhost:8080/"
        },
        "outputId": "d3e1e244-0367-41e6-faf4-1c5a65016413"
      },
      "execution_count": 34,
      "outputs": [
        {
          "output_type": "stream",
          "name": "stdout",
          "text": [
            "Reference: \"['You', \"'re\", 'arrogant', '.', 'You', 'have', 'the', 'sickness', 'that', 'elites', 'have', 'had', '-', 'throughout', 'history', 'in', 'their', 'literal', ',', 'and', 'in', 'some', 'cases', 'figurative', ',', 'ivory', 'towers', '.']\"\n",
            "Detoxed: \"['you', 're', 'a', 'dangerous', 'and', 'you', 're', 'in', 'the', 'middle', 'of', 'the', 'world']\"\n",
            "Translation: \"['you', 'are', 'overwhelmed', 'by', 'the', 'disease', 'that', 'elites', 'have', 'always', 'been', ',', '-', 'during', 'history', 'in', 'your', 'literal', 'or', 'metaphorical', 'tower', 'of', 'ivory', '.']\"\n",
            "\n",
            "Reference: \"['Goddamn', 'Variety', 'had', 'to', 'print', 'the', 'story', 'before', 'I', 'got', 'the', 'rights', '!']\"\n",
            "Detoxed: \"['the', 'pope', 'had', 'to', 'go', 'to', 'the', 'ship', 'before', 'i', 'went', 'to', 'the', 'ship']\"\n",
            "Translation: \"['the', 'Goddam', 'Variety', 'printed', 'the', 'story', 'before', 'I', 'got', 'the', 'rights', '.']\"\n",
            "\n",
            "Reference: \"['So', 'he', \"'s\", 'notgoing', 'to', 'kill', 'you', '?']\"\n",
            "Detoxed: \"['so', 'you', 're', 'gon', 'na', 'kill', 'you', '?']\"\n",
            "Translation: \"['so', 'he', 'wo', \"n't\", 'kill', 'you', '?']\"\n",
            "\n"
          ]
        },
        {
          "output_type": "stream",
          "name": "stderr",
          "text": [
            "100%|██████████| 3078/3078 [00:22<00:00, 135.42it/s]\n"
          ]
        },
        {
          "output_type": "stream",
          "name": "stdout",
          "text": [
            "BLEU: 0.04540788705556608\n"
          ]
        }
      ]
    },
    {
      "cell_type": "markdown",
      "source": [
        "### Attention-based transformer"
      ],
      "metadata": {
        "id": "D_pzMve-ba6x"
      }
    },
    {
      "cell_type": "markdown",
      "source": [
        "#### Model Build"
      ],
      "metadata": {
        "id": "yNLxeOHwbhlD"
      }
    },
    {
      "cell_type": "code",
      "source": [
        "class BahdanauAttention(nn.Module):\n",
        "    def __init__(self, hidden_size):\n",
        "        super(BahdanauAttention, self).__init__()\n",
        "        self.Wa = nn.Linear(hidden_size, hidden_size)\n",
        "        self.Ua = nn.Linear(hidden_size, hidden_size)\n",
        "        self.Va = nn.Linear(hidden_size, 1)\n",
        "\n",
        "    def forward(self, query, keys):\n",
        "        scores = self.Va(torch.tanh(self.Wa(query) + self.Ua(keys)))\n",
        "        scores = scores.squeeze(2).unsqueeze(1)\n",
        "\n",
        "        weights = F.softmax(scores, dim=-1)\n",
        "        context = torch.bmm(weights, keys)\n",
        "\n",
        "        return context, weights\n",
        "\n",
        "class AttnDecoderRNN(nn.Module):\n",
        "    def __init__(self, hidden_size, output_size, dropout_p=0.1):\n",
        "        super(AttnDecoderRNN, self).__init__()\n",
        "        self.embedding = nn.Embedding(output_size, hidden_size)\n",
        "        self.attention = BahdanauAttention(hidden_size)\n",
        "        self.gru = nn.GRU(2 * hidden_size, hidden_size, batch_first=True)\n",
        "        self.out = nn.Linear(hidden_size, output_size)\n",
        "        self.dropout = nn.Dropout(dropout_p)\n",
        "\n",
        "    def forward(self, encoder_outputs, encoder_hidden, target_tensor=None):\n",
        "        batch_size = encoder_outputs.size(0)\n",
        "        decoder_input = torch.empty(batch_size, 1, dtype=torch.long, device=device).fill_(SOS_token)\n",
        "        decoder_hidden = encoder_hidden\n",
        "        decoder_outputs = []\n",
        "        attentions = []\n",
        "\n",
        "        for i in range(TRANSF_TRAIN_MAX_LENGTH):\n",
        "            decoder_output, decoder_hidden, attn_weights = self.forward_step(\n",
        "                decoder_input, decoder_hidden, encoder_outputs\n",
        "            )\n",
        "            decoder_outputs.append(decoder_output)\n",
        "            attentions.append(attn_weights)\n",
        "\n",
        "            if target_tensor is not None:\n",
        "                # Teacher forcing: Feed the target as the next input\n",
        "                decoder_input = target_tensor[:, i].unsqueeze(1) # Teacher forcing\n",
        "            else:\n",
        "                # Without teacher forcing: use its own predictions as the next input\n",
        "                _, topi = decoder_output.topk(1)\n",
        "                decoder_input = topi.squeeze(-1).detach()  # detach from history as input\n",
        "\n",
        "        decoder_outputs = torch.cat(decoder_outputs, dim=1)\n",
        "        decoder_outputs = F.log_softmax(decoder_outputs, dim=-1)\n",
        "        attentions = torch.cat(attentions, dim=1)\n",
        "\n",
        "        return decoder_outputs, decoder_hidden, attentions\n",
        "\n",
        "\n",
        "    def forward_step(self, input, hidden, encoder_outputs):\n",
        "        embedded =  self.dropout(self.embedding(input))\n",
        "\n",
        "        query = hidden.permute(1, 0, 2)\n",
        "        context, attn_weights = self.attention(query, encoder_outputs)\n",
        "        input_gru = torch.cat((embedded, context), dim=2)\n",
        "\n",
        "        output, hidden = self.gru(input_gru, hidden)\n",
        "        output = self.out(output)\n",
        "\n",
        "        return output, hidden, attn_weights"
      ],
      "metadata": {
        "id": "76PkAmVAbj8n"
      },
      "execution_count": 35,
      "outputs": []
    },
    {
      "cell_type": "code",
      "source": [
        "hidden_size = 128\n",
        "batch_size = 32\n",
        "\n",
        "input_lang, output_lang, train_dataloader = get_dataloader(batch_size)\n",
        "\n",
        "encoder = EncoderRNN(input_lang.n_words, hidden_size).to(device)\n",
        "decoder = AttnDecoderRNN(hidden_size, output_lang.n_words).to(device)\n",
        "\n",
        "attn_losses, attn_metrics = train_fun(train_dataloader, encoder, decoder, 5, encoder_ckpt_path=ATTN_ENCODER_CKPT_PATH, decoder_ckpt_path=ATTN_DECODER_CKPT_PATH)"
      ],
      "metadata": {
        "id": "SZXDAlqYbsGP",
        "colab": {
          "base_uri": "https://localhost:8080/"
        },
        "outputId": "426c8021-8bbc-43bf-8655-426fbef976e9"
      },
      "execution_count": 36,
      "outputs": [
        {
          "output_type": "stream",
          "name": "stdout",
          "text": [
            "Read 304647 sentence pairs\n",
            "Trimmed to 223970 sentence pairs\n",
            "Counting words...\n",
            "Counted words:\n",
            "reference 39902\n",
            "translation 34190\n"
          ]
        },
        {
          "output_type": "stream",
          "name": "stderr",
          "text": [
            "100%|██████████| 7000/7000 [04:31<00:00, 25.82it/s]\n"
          ]
        },
        {
          "output_type": "stream",
          "name": "stdout",
          "text": [
            "4m 31s (- 18m 4s) (1 20%) 2.1811\n",
            "Epoch 1: val\n",
            "Reference: \"['You', \"'re\", 'arrogant', '.', 'You', 'have', 'the', 'sickness', 'that', 'elites', 'have', 'had', '-', 'throughout', 'history', 'in', 'their', 'literal', ',', 'and', 'in', 'some', 'cases', 'figurative', ',', 'ivory', 'towers', '.']\"\n",
            "Detoxed: \"['you', 're', 'the', 'best', 'without', 'you', 'have', 'a', 'heart', 'in', 'the', 'street']\"\n",
            "Translation: \"['you', 'are', 'overwhelmed', 'by', 'the', 'disease', 'that', 'elites', 'have', 'always', 'been', ',', '-', 'during', 'history', 'in', 'your', 'literal', 'or', 'metaphorical', 'tower', 'of', 'ivory', '.']\"\n",
            "\n",
            "Reference: \"['Goddamn', 'Variety', 'had', 'to', 'print', 'the', 'story', 'before', 'I', 'got', 'the', 'rights', '!']\"\n",
            "Detoxed: \"['the', 'rest', 'to', 'the', 'one', 'before', 'i', 'have', 'the', 'money', 'before', 'i', 'have', 'the']\"\n",
            "Translation: \"['the', 'Goddam', 'Variety', 'printed', 'the', 'story', 'before', 'I', 'got', 'the', 'rights', '.']\"\n",
            "\n",
            "Reference: \"['So', 'he', \"'s\", 'notgoing', 'to', 'kill', 'you', '?']\"\n",
            "Detoxed: \"['so', 'he', 's', 'gon', 'na', 'kill', 'you', '?']\"\n",
            "Translation: \"['so', 'he', 'wo', \"n't\", 'kill', 'you', '?']\"\n",
            "\n"
          ]
        },
        {
          "output_type": "stream",
          "name": "stderr",
          "text": [
            "100%|██████████| 3078/3078 [00:35<00:00, 86.70it/s]\n"
          ]
        },
        {
          "output_type": "stream",
          "name": "stdout",
          "text": [
            "BLEU: 0.0573171696903764\n"
          ]
        },
        {
          "output_type": "stream",
          "name": "stderr",
          "text": [
            "100%|██████████| 7000/7000 [04:32<00:00, 25.69it/s]\n"
          ]
        },
        {
          "output_type": "stream",
          "name": "stdout",
          "text": [
            "9m 39s (- 14m 29s) (2 40%) 1.6163\n",
            "Epoch 2: val\n",
            "Reference: \"['You', \"'re\", 'arrogant', '.', 'You', 'have', 'the', 'sickness', 'that', 'elites', 'have', 'had', '-', 'throughout', 'history', 'in', 'their', 'literal', ',', 'and', 'in', 'some', 'cases', 'figurative', ',', 'ivory', 'towers', '.']\"\n",
            "Detoxed: \"['you', 're', 'the', 'biggest', 'you', 'have', 'the', 'bathroom', 'in', 'the', 'street']\"\n",
            "Translation: \"['you', 'are', 'overwhelmed', 'by', 'the', 'disease', 'that', 'elites', 'have', 'always', 'been', ',', '-', 'during', 'history', 'in', 'your', 'literal', 'or', 'metaphorical', 'tower', 'of', 'ivory', '.']\"\n",
            "\n",
            "Reference: \"['Goddamn', 'Variety', 'had', 'to', 'print', 'the', 'story', 'before', 'I', 'got', 'the', 'rights', '!']\"\n",
            "Detoxed: \"['the', 'fact', 'the', 'cow', 'had', 'to', 'get', 'the', 'story', 'before', 'i', 'got', 'the', 'rights']\"\n",
            "Translation: \"['the', 'Goddam', 'Variety', 'printed', 'the', 'story', 'before', 'I', 'got', 'the', 'rights', '.']\"\n",
            "\n",
            "Reference: \"['So', 'he', \"'s\", 'notgoing', 'to', 'kill', 'you', '?']\"\n",
            "Detoxed: \"['he', 's', 'a', 'killing', 'to', 'kill', 'you', '?']\"\n",
            "Translation: \"['so', 'he', 'wo', \"n't\", 'kill', 'you', '?']\"\n",
            "\n"
          ]
        },
        {
          "output_type": "stream",
          "name": "stderr",
          "text": [
            "100%|██████████| 3078/3078 [00:34<00:00, 89.66it/s]\n"
          ]
        },
        {
          "output_type": "stream",
          "name": "stdout",
          "text": [
            "BLEU: 0.07596222211096383\n"
          ]
        },
        {
          "output_type": "stream",
          "name": "stderr",
          "text": [
            "100%|██████████| 7000/7000 [04:32<00:00, 25.68it/s]\n"
          ]
        },
        {
          "output_type": "stream",
          "name": "stdout",
          "text": [
            "14m 47s (- 9m 51s) (3 60%) 1.4272\n",
            "Epoch 3: val\n",
            "Reference: \"['You', \"'re\", 'arrogant', '.', 'You', 'have', 'the', 'sickness', 'that', 'elites', 'have', 'had', '-', 'throughout', 'history', 'in', 'their', 'literal', ',', 'and', 'in', 'some', 'cases', 'figurative', ',', 'ivory', 'towers', '.']\"\n",
            "Detoxed: \"['you', 're', 'the', 'best', 'that', 'the', 'need', 'had', 'a', 'walking', 'in', 'the', 'street']\"\n",
            "Translation: \"['you', 'are', 'overwhelmed', 'by', 'the', 'disease', 'that', 'elites', 'have', 'always', 'been', ',', '-', 'during', 'history', 'in', 'your', 'literal', 'or', 'metaphorical', 'tower', 'of', 'ivory', '.']\"\n",
            "\n",
            "Reference: \"['Goddamn', 'Variety', 'had', 'to', 'print', 'the', 'story', 'before', 'I', 'got', 'the', 'rights', '!']\"\n",
            "Detoxed: \"['the', 'fact', 'the', 'fact', 'the', 'kids', 'had', 'to', 'be', 'the', 'story', 'before', 'i', 'have']\"\n",
            "Translation: \"['the', 'Goddam', 'Variety', 'printed', 'the', 'story', 'before', 'I', 'got', 'the', 'rights', '.']\"\n",
            "\n",
            "Reference: \"['So', 'he', \"'s\", 'notgoing', 'to', 'kill', 'you', '?']\"\n",
            "Detoxed: \"['he', 's', 'a', 'killing', 'to', 'kill', 'you', '?']\"\n",
            "Translation: \"['so', 'he', 'wo', \"n't\", 'kill', 'you', '?']\"\n",
            "\n"
          ]
        },
        {
          "output_type": "stream",
          "name": "stderr",
          "text": [
            "100%|██████████| 3078/3078 [00:34<00:00, 88.94it/s]\n"
          ]
        },
        {
          "output_type": "stream",
          "name": "stdout",
          "text": [
            "BLEU: 0.08176481172236987\n"
          ]
        },
        {
          "output_type": "stream",
          "name": "stderr",
          "text": [
            "100%|██████████| 7000/7000 [04:30<00:00, 25.84it/s]\n"
          ]
        },
        {
          "output_type": "stream",
          "name": "stdout",
          "text": [
            "19m 53s (- 4m 58s) (4 80%) 1.3155\n",
            "Epoch 4: val\n",
            "Reference: \"['You', \"'re\", 'arrogant', '.', 'You', 'have', 'the', 'sickness', 'that', 'elites', 'have', 'had', '-', 'throughout', 'history', 'in', 'their', 'literal', ',', 'and', 'in', 'some', 'cases', 'figurative', ',', 'ivory', 'towers', '.']\"\n",
            "Detoxed: \"['you', 're', 'the', 'one', 'who', 'had', 'the', 'history', 'in', 'the', 'streets', 'and', 'the', 'same']\"\n",
            "Translation: \"['you', 'are', 'overwhelmed', 'by', 'the', 'disease', 'that', 'elites', 'have', 'always', 'been', ',', '-', 'during', 'history', 'in', 'your', 'literal', 'or', 'metaphorical', 'tower', 'of', 'ivory', '.']\"\n",
            "\n",
            "Reference: \"['Goddamn', 'Variety', 'had', 'to', 'print', 'the', 'story', 'before', 'I', 'got', 'the', 'rights', '!']\"\n",
            "Detoxed: \"['the', 'main', 'man', 'was', 'the', 'one', 'before', 'i', 'got', 'the', 'rights', '!']\"\n",
            "Translation: \"['the', 'Goddam', 'Variety', 'printed', 'the', 'story', 'before', 'I', 'got', 'the', 'rights', '.']\"\n",
            "\n",
            "Reference: \"['So', 'he', \"'s\", 'notgoing', 'to', 'kill', 'you', '?']\"\n",
            "Detoxed: \"['he', 's', 'a', 'killing', 'to', 'kill', 'you', '?']\"\n",
            "Translation: \"['so', 'he', 'wo', \"n't\", 'kill', 'you', '?']\"\n",
            "\n"
          ]
        },
        {
          "output_type": "stream",
          "name": "stderr",
          "text": [
            "100%|██████████| 3078/3078 [00:36<00:00, 85.25it/s]\n"
          ]
        },
        {
          "output_type": "stream",
          "name": "stdout",
          "text": [
            "BLEU: 0.08647610100826306\n"
          ]
        },
        {
          "output_type": "stream",
          "name": "stderr",
          "text": [
            "100%|██████████| 7000/7000 [04:31<00:00, 25.78it/s]\n"
          ]
        },
        {
          "output_type": "stream",
          "name": "stdout",
          "text": [
            "25m 2s (- 0m 0s) (5 100%) 1.2379\n",
            "Epoch 5: val\n",
            "Reference: \"['You', \"'re\", 'arrogant', '.', 'You', 'have', 'the', 'sickness', 'that', 'elites', 'have', 'had', '-', 'throughout', 'history', 'in', 'their', 'literal', ',', 'and', 'in', 'some', 'cases', 'figurative', ',', 'ivory', 'towers', '.']\"\n",
            "Detoxed: \"['you', 're', 'arrogant', 'in', 'the', 'dictionary', 'with', 'the', 'street', 'and', 'in', 'the', 'dictionary']\"\n",
            "Translation: \"['you', 'are', 'overwhelmed', 'by', 'the', 'disease', 'that', 'elites', 'have', 'always', 'been', ',', '-', 'during', 'history', 'in', 'your', 'literal', 'or', 'metaphorical', 'tower', 'of', 'ivory', '.']\"\n",
            "\n",
            "Reference: \"['Goddamn', 'Variety', 'had', 'to', 'print', 'the', 'story', 'before', 'I', 'got', 'the', 'rights', '!']\"\n",
            "Detoxed: \"['oh', 'my', 'god', 'that', 'was', 'the', 'most', 'before', 'i', 'got', 'the', 'rights', '!']\"\n",
            "Translation: \"['the', 'Goddam', 'Variety', 'printed', 'the', 'story', 'before', 'I', 'got', 'the', 'rights', '.']\"\n",
            "\n",
            "Reference: \"['So', 'he', \"'s\", 'notgoing', 'to', 'kill', 'you', '?']\"\n",
            "Detoxed: \"['so', 'he', 's', 'gon', 'na', 'kill', 'you', '?']\"\n",
            "Translation: \"['so', 'he', 'wo', \"n't\", 'kill', 'you', '?']\"\n",
            "\n"
          ]
        },
        {
          "output_type": "stream",
          "name": "stderr",
          "text": [
            "100%|██████████| 3078/3078 [00:36<00:00, 85.44it/s]\n"
          ]
        },
        {
          "output_type": "stream",
          "name": "stdout",
          "text": [
            "BLEU: 0.09082704726601552\n"
          ]
        }
      ]
    },
    {
      "cell_type": "markdown",
      "source": [
        "#### Assess Model"
      ],
      "metadata": {
        "id": "euz8Qi5zbkXL"
      }
    },
    {
      "cell_type": "code",
      "source": [
        "ckpt = torch.load(ATTN_ENCODER_CKPT_PATH)\n",
        "encoder.load_state_dict(ckpt)\n",
        "ckpt = torch.load(ATTN_DECODER_CKPT_PATH)\n",
        "decoder.load_state_dict(ckpt)\n",
        "attn_trans_model = TransformerDetoxModel(encoder, decoder)\n",
        "attn_trans_bleu = assess_model(attn_trans_model)"
      ],
      "metadata": {
        "id": "pI-Vx_v7bmiR",
        "colab": {
          "base_uri": "https://localhost:8080/"
        },
        "outputId": "7fd9330f-484f-4f43-ddf8-b7d9c074bc6e"
      },
      "execution_count": 37,
      "outputs": [
        {
          "output_type": "stream",
          "name": "stdout",
          "text": [
            "Reference: \"['You', \"'re\", 'arrogant', '.', 'You', 'have', 'the', 'sickness', 'that', 'elites', 'have', 'had', '-', 'throughout', 'history', 'in', 'their', 'literal', ',', 'and', 'in', 'some', 'cases', 'figurative', ',', 'ivory', 'towers', '.']\"\n",
            "Detoxed: \"['you', 're', 'a', 'dangerous', 'and', 'you', 're', 'in', 'the', 'middle', 'of', 'the', 'world']\"\n",
            "Translation: \"['you', 'are', 'overwhelmed', 'by', 'the', 'disease', 'that', 'elites', 'have', 'always', 'been', ',', '-', 'during', 'history', 'in', 'your', 'literal', 'or', 'metaphorical', 'tower', 'of', 'ivory', '.']\"\n",
            "\n",
            "Reference: \"['Goddamn', 'Variety', 'had', 'to', 'print', 'the', 'story', 'before', 'I', 'got', 'the', 'rights', '!']\"\n",
            "Detoxed: \"['the', 'pope', 'had', 'to', 'go', 'to', 'the', 'ship', 'before', 'i', 'went', 'to', 'the', 'ship']\"\n",
            "Translation: \"['the', 'Goddam', 'Variety', 'printed', 'the', 'story', 'before', 'I', 'got', 'the', 'rights', '.']\"\n",
            "\n",
            "Reference: \"['So', 'he', \"'s\", 'notgoing', 'to', 'kill', 'you', '?']\"\n",
            "Detoxed: \"['so', 'you', 're', 'gon', 'na', 'kill', 'you', '?']\"\n",
            "Translation: \"['so', 'he', 'wo', \"n't\", 'kill', 'you', '?']\"\n",
            "\n"
          ]
        },
        {
          "output_type": "stream",
          "name": "stderr",
          "text": [
            "100%|██████████| 3078/3078 [00:22<00:00, 135.98it/s]\n"
          ]
        },
        {
          "output_type": "stream",
          "name": "stdout",
          "text": [
            "BLEU: 0.04540788705556608\n"
          ]
        }
      ]
    },
    {
      "cell_type": "markdown",
      "metadata": {
        "id": "LzZvU1paFV-q"
      },
      "source": [
        "## Visualization"
      ]
    },
    {
      "cell_type": "markdown",
      "source": [
        "### Train Metrics\n",
        "\n",
        "Plot evaluation parameters during training of the transformer model: loss on train data and bleu on validation. Note that dictionary-based models have no mertics as they do not have explicit train process."
      ],
      "metadata": {
        "id": "PQwreOAZFeW2"
      }
    },
    {
      "cell_type": "code",
      "execution_count": 42,
      "metadata": {
        "id": "Hcauzg_PFV-r",
        "colab": {
          "base_uri": "https://localhost:8080/",
          "height": 449
        },
        "outputId": "6f09ec57-6863-4c41-91e5-d348c0c1cf4d"
      },
      "outputs": [
        {
          "output_type": "display_data",
          "data": {
            "text/plain": [
              "<Figure size 640x480 with 1 Axes>"
            ],
            "image/png": "[encoded data removed]"
          },
          "metadata": {}
        }
      ],
      "source": [
        "plt.xlabel(\"Epoch\")\n",
        "plt.ylabel(\"Negative log likelihood loss\")\n",
        "plt.plot(losses, 'ro-', label='Transformer without attention')\n",
        "plt.plot(attn_losses, 'go-', label='Transformer with attention')\n",
        "plt.legend()\n",
        "plt.show()"
      ]
    },
    {
      "cell_type": "code",
      "source": [
        "plt.xlabel(\"Epoch\")\n",
        "plt.ylabel(\"BLEU\")\n",
        "plt.plot(metrics, 'ro-', label='Transformer without attention')\n",
        "plt.plot(attn_metrics, 'go-', label='Transformer with attention')\n",
        "plt.legend()\n",
        "plt.show()"
      ],
      "metadata": {
        "id": "efZKsOfpGX3Y",
        "colab": {
          "base_uri": "https://localhost:8080/",
          "height": 449
        },
        "outputId": "5dd6254c-1736-4fc8-b6dc-1b97dee88b99"
      },
      "execution_count": 43,
      "outputs": [
        {
          "output_type": "display_data",
          "data": {
            "text/plain": [
              "<Figure size 640x480 with 1 Axes>"
            ],
            "image/png": "[encoded data removed]"
          },
          "metadata": {}
        }
      ]
    },
    {
      "cell_type": "markdown",
      "source": [
        "### Evaluation Results\n",
        "\n",
        "Print bleu results on validation set for all the models"
      ],
      "metadata": {
        "id": "OxxVa4KrGCEj"
      }
    },
    {
      "cell_type": "code",
      "source": [
        "print(\"BLEU results on validation set:\")\n",
        "print(f\"\\tfor Dictionary-based Detection and Removal of Toxic Words: {rm_bleu}\")\n",
        "print(\"\\tfor Dictionary-based Detection of Toxic Words and Replacement by \"\n",
        "      f\"WordNet Synonyms: {wn_syn_bleu}\")\n",
        "print(\"\\tDictionary-based Detection of Toxic Words and Replacement by \"\n",
        "      f\"RoBERTa Synonyms: {bert_syn_bleu}\")\n",
        "print(f\"\\tfor GRU-based transformer: {trans_bleu}\")\n",
        "print(f\"\\tfor transformer with attention: {attn_trans_bleu}\")"
      ],
      "metadata": {
        "id": "CvTnQCHzG2UI",
        "colab": {
          "base_uri": "https://localhost:8080/"
        },
        "outputId": "53469303-c210-4626-c408-23b5d963f864"
      },
      "execution_count": 40,
      "outputs": [
        {
          "output_type": "stream",
          "name": "stdout",
          "text": [
            "BLEU results on validation set:\n",
            "\tfor Dictionary-based Detection and Removal of Toxic Words: 0.08477326112878693\n",
            "\tfor Dictionary-based Detection of Toxic Words and Replacement by WordNet Synonyms: 0.0946853252415241\n",
            "\tDictionary-based Detection of Toxic Words and Replacement by RoBERTa Synonyms: 0.08951501548290253\n",
            "\tfor GRU-based transformer: 0.04540788705556608\n",
            "\tfor transformer with attention: 0.04540788705556608\n"
          ]
        }
      ]
    },
    {
      "cell_type": "markdown",
      "source": [
        "### Predictions\n",
        "\n",
        "Print detoxed texts by the models"
      ],
      "metadata": {
        "id": "2fB5BZj_Il6U"
      }
    },
    {
      "cell_type": "code",
      "source": [
        "for index, row in val[:3].iterrows():\n",
        "    ref = word_tokenize(row['reference'])\n",
        "    tran = word_tokenize(row['translation'])\n",
        "    print(f\"Reference: \\\"{' '.join(ref)}\\\"\")\n",
        "    print(f\"Translation: \\\"{' '.join(tran)}\\\"\")\n",
        "    print(f\"rm_model: \\\"{' '.join(rm_model.detox(ref))}\\\"\")\n",
        "    print(f\"wn_syn_model: \\\"{' '.join(wn_syn_model.detox(ref))}\\\"\")\n",
        "    print(f\"bert_syn_model: \\\"{' '.join(bert_syn_model.detox(ref))}\\\"\")\n",
        "    print(f\"trans_model: \\\"{' '.join(trans_model.detox(ref))}\\\"\")\n",
        "    print(f\"attn_trans_model: \\\"{' '.join(attn_trans_model.detox(ref))}\\\"\\n\")"
      ],
      "metadata": {
        "id": "mKiweIN2I0f-",
        "colab": {
          "base_uri": "https://localhost:8080/"
        },
        "outputId": "048bc323-b326-466d-9ce6-72217b17621e"
      },
      "execution_count": 41,
      "outputs": [
        {
          "output_type": "stream",
          "name": "stdout",
          "text": [
            "Reference: \"You 're arrogant . You have the sickness that elites have had - throughout history in their literal , and in some cases figurative , ivory towers .\"\n",
            "Translation: \"you are overwhelmed by the disease that elites have always been , - during history in your literal or metaphorical tower of ivory .\"\n",
            "rm_model: \"'re have the sickness elites have throughout in literal and in cases figurative ivory towers\"\n",
            "wn_syn_model: \"'re chesty have the sickness elites have have throughout account in literal and in about cases figurative ivory towers\"\n",
            "bert_syn_model: \"These 're bel ' ' have the sickness  that elites have  esp oused throughout  Europe in  literal literal  representations and in  some cases figurative  literal ivory towers .'\"\n",
            "trans_model: \"you re a dangerous and you re in the middle of the world\"\n",
            "attn_trans_model: \"you re arrogant in the dictionary with the street and in the dictionary\"\n",
            "\n",
            "Reference: \"Goddamn Variety had to print the story before I got the rights !\"\n",
            "Translation: \"the Goddam Variety printed the story before I got the rights .\"\n",
            "rm_model: \"Variety to print the before I the rights\"\n",
            "wn_syn_model: \"damn Variety have to print the narration before I acquire the rights\"\n",
            "bert_syn_model: \" contacted Variety  permission to print the  article before I  acquired the rights .\"\n",
            "trans_model: \"the pope had to go to the ship before i went to the ship\"\n",
            "attn_trans_model: \"oh my god that was the most before i got the rights !\"\n",
            "\n",
            "Reference: \"So he 's notgoing to kill you ?\"\n",
            "Translation: \"so he wo n't kill you ?\"\n",
            "rm_model: \"he 's notgoing to you\"\n",
            "wn_syn_model: \"so he 's notgoing to killing you\"\n",
            "bert_syn_model: \"And he 's notgoing to  kill you .'\"\"\n",
            "trans_model: \"so you re gon na kill you ?\"\n",
            "attn_trans_model: \"so he s gon na kill you ?\"\n",
            "\n"
          ]
        }
      ]
    }
  ]
}