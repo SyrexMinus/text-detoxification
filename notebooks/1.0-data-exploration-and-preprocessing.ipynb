{
  "nbformat": 4,
  "nbformat_minor": 0,
  "metadata": {
    "colab": {
      "provenance": [],
      "toc_visible": true
    },
    "kernelspec": {
      "name": "python3",
      "display_name": "Python 3"
    },
    "language_info": {
      "name": "python"
    }
  },
  "cells": [
    {
      "cell_type": "markdown",
      "metadata": {
        "id": "NmG8vB_8TsMr"
      },
      "source": [
        "Notebook author: Makar Shevchenko B20-DS-01\n",
        "\n",
        "# Data Exploration and Preprocessing\n",
        "\n",
        "Execute this notebook in Google Colab\n",
        "\n",
        "In this notebook I explore and preprocess the ParaNMT-detox corpus. This dataset is a subset of the ParaNMT corpus, which contain 500k pairs of toxic and neutral sentences. Each sentence is labeled with toxicity level, that is toxic assesments over annotators number. With preprocessing I adopt the raw data for training and evaluation of the text detoxification algorithms implemented in `2.0-model-training-and-visualization.ipynb`."
      ]
    },
    {
      "cell_type": "markdown",
      "metadata": {
        "id": "y9KIyA_uTsMt"
      },
      "source": [
        "## Configuration\n",
        "\n",
        "Define the parameters for notebook behavior"
      ]
    },
    {
      "cell_type": "code",
      "execution_count": 15,
      "metadata": {
        "id": "Xo-agPj-TsMu"
      },
      "outputs": [],
      "source": [
        "TSV_PATH = \"./filtered.tsv\"\n",
        "URL = \"https://github.com/skoltech-nlp/detox/releases/download/emnlp2021/filtered_paranmt.zip\"\n",
        "ZIP_SAVE_PATH = \"./filtered.zip\"\n",
        "TSV_SAVE_DIR = \".\""
      ]
    },
    {
      "cell_type": "markdown",
      "metadata": {
        "id": "7rV3ghf1TsMv"
      },
      "source": [
        "## Imports\n",
        "\n",
        "Import libraries utilized next"
      ]
    },
    {
      "cell_type": "code",
      "execution_count": 16,
      "metadata": {
        "id": "bM6rXHpoTsMw",
        "colab": {
          "base_uri": "https://localhost:8080/"
        },
        "outputId": "18a4ac5b-c847-417f-8d68-b04846f5e905"
      },
      "outputs": [
        {
          "output_type": "stream",
          "name": "stdout",
          "text": [
            "Requirement already satisfied: wget in /usr/local/lib/python3.10/dist-packages (3.2)\n"
          ]
        },
        {
          "output_type": "stream",
          "name": "stderr",
          "text": [
            "[nltk_data] Downloading package punkt to /root/nltk_data...\n",
            "[nltk_data]   Package punkt is already up-to-date!\n"
          ]
        },
        {
          "output_type": "execute_result",
          "data": {
            "text/plain": [
              "True"
            ]
          },
          "metadata": {},
          "execution_count": 16
        }
      ],
      "source": [
        "!pip install wget\n",
        "\n",
        "import os\n",
        "import wget\n",
        "import nltk\n",
        "import pandas as pd\n",
        "from pprint import pprint\n",
        "from zipfile import ZipFile\n",
        "from collections import Counter\n",
        "import matplotlib.pyplot as plt\n",
        "from nltk.tokenize import word_tokenize\n",
        "\n",
        "nltk.download('punkt')"
      ]
    },
    {
      "cell_type": "markdown",
      "metadata": {
        "id": "YY12_YP778j1"
      },
      "source": [
        "## Data Exploration\n",
        "\n",
        "Data exploration step collects data, familiarize with it, and identifies quality problems. The data exploration step is key to finding out the technical feasibility of the task."
      ]
    },
    {
      "cell_type": "markdown",
      "metadata": {
        "id": "8Jy1oVTDTsMx"
      },
      "source": [
        "### Data Collection\n",
        "\n",
        "Load the dataset from the Internet, store along with the notebook, and open with `.tsv` reader"
      ]
    },
    {
      "cell_type": "code",
      "execution_count": 17,
      "metadata": {
        "id": "9SY2Yw_dTsMx"
      },
      "outputs": [],
      "source": [
        "if not os.path.isfile(TSV_PATH):\n",
        "    wget.download(URL, ZIP_SAVE_PATH)\n",
        "    with ZipFile(ZIP_SAVE_PATH, \"r\") as zip_file:\n",
        "        zip_file.extractall(TSV_SAVE_DIR)\n",
        "    os.remove(ZIP_SAVE_PATH)\n",
        "dataset = pd.read_csv(TSV_PATH, sep=\"\\t\", index_col=0)"
      ]
    },
    {
      "cell_type": "markdown",
      "metadata": {
        "id": "3bIDG180TsMy"
      },
      "source": [
        "### Data Description\n",
        "\n",
        "Explore data structure, check some samples"
      ]
    },
    {
      "cell_type": "code",
      "execution_count": 18,
      "metadata": {
        "id": "INHjlc4uU1sw",
        "outputId": "55d5b0c5-446a-4146-fe0d-93559264e74b",
        "colab": {
          "base_uri": "https://localhost:8080/",
          "height": 501
        }
      },
      "outputs": [
        {
          "output_type": "stream",
          "name": "stdout",
          "text": [
            "Shape: (577777, 6)\n",
            "\n",
            "Column datatypes:\n",
            "<class 'pandas.core.frame.DataFrame'>\n",
            "Int64Index: 577777 entries, 0 to 577776\n",
            "Data columns (total 6 columns):\n",
            " #   Column       Non-Null Count   Dtype  \n",
            "---  ------       --------------   -----  \n",
            " 0   reference    577777 non-null  object \n",
            " 1   translation  577777 non-null  object \n",
            " 2   similarity   577777 non-null  float64\n",
            " 3   lenght_diff  577777 non-null  float64\n",
            " 4   ref_tox      577777 non-null  float64\n",
            " 5   trn_tox      577777 non-null  float64\n",
            "dtypes: float64(4), object(2)\n",
            "memory usage: 30.9+ MB\n",
            "\n"
          ]
        },
        {
          "output_type": "execute_result",
          "data": {
            "text/plain": [
              "                                                reference  \\\n",
              "57809   Listen, call off the butchers, and I'll tell you.   \n",
              "132693     Who the fuck has been going through my stuff?!   \n",
              "254505                         She still might die . . .?   \n",
              "451186                    Yeah, that's the fucker's name.   \n",
              "191213  I would take you on my shoulders, like, I'd st...   \n",
              "\n",
              "                                              translation  similarity  \\\n",
              "57809           call out your butchers and I'll tell you.    0.761781   \n",
              "132693           who the hell was going through my stuff?    0.898699   \n",
              "254505                                  he can still die.    0.635970   \n",
              "451186                          that's what his name was.    0.652426   \n",
              "191213  I'd take you on your shoulders... I'd tie you ...    0.790915   \n",
              "\n",
              "        lenght_diff   ref_tox   trn_tox  \n",
              "57809      0.160000  0.005592  0.968063  \n",
              "132693     0.127660  0.997644  0.452115  \n",
              "254505     0.333333  0.279049  0.989168  \n",
              "451186     0.187500  0.999579  0.000055  \n",
              "191213     0.357143  0.961127  0.028628  "
            ],
            "text/html": [
              "\n",
              "  <div id=\"df-d1deceed-b23c-4977-a2fa-773c7f6ad82d\" class=\"colab-df-container\">\n",
              "    <div>\n",
              "<style scoped>\n",
              "    .dataframe tbody tr th:only-of-type {\n",
              "        vertical-align: middle;\n",
              "    }\n",
              "\n",
              "    .dataframe tbody tr th {\n",
              "        vertical-align: top;\n",
              "    }\n",
              "\n",
              "    .dataframe thead th {\n",
              "        text-align: right;\n",
              "    }\n",
              "</style>\n",
              "<table border=\"1\" class=\"dataframe\">\n",
              "  <thead>\n",
              "    <tr style=\"text-align: right;\">\n",
              "      <th></th>\n",
              "      <th>reference</th>\n",
              "      <th>translation</th>\n",
              "      <th>similarity</th>\n",
              "      <th>lenght_diff</th>\n",
              "      <th>ref_tox</th>\n",
              "      <th>trn_tox</th>\n",
              "    </tr>\n",
              "  </thead>\n",
              "  <tbody>\n",
              "    <tr>\n",
              "      <th>57809</th>\n",
              "      <td>Listen, call off the butchers, and I'll tell you.</td>\n",
              "      <td>call out your butchers and I'll tell you.</td>\n",
              "      <td>0.761781</td>\n",
              "      <td>0.160000</td>\n",
              "      <td>0.005592</td>\n",
              "      <td>0.968063</td>\n",
              "    </tr>\n",
              "    <tr>\n",
              "      <th>132693</th>\n",
              "      <td>Who the fuck has been going through my stuff?!</td>\n",
              "      <td>who the hell was going through my stuff?</td>\n",
              "      <td>0.898699</td>\n",
              "      <td>0.127660</td>\n",
              "      <td>0.997644</td>\n",
              "      <td>0.452115</td>\n",
              "    </tr>\n",
              "    <tr>\n",
              "      <th>254505</th>\n",
              "      <td>She still might die . . .?</td>\n",
              "      <td>he can still die.</td>\n",
              "      <td>0.635970</td>\n",
              "      <td>0.333333</td>\n",
              "      <td>0.279049</td>\n",
              "      <td>0.989168</td>\n",
              "    </tr>\n",
              "    <tr>\n",
              "      <th>451186</th>\n",
              "      <td>Yeah, that's the fucker's name.</td>\n",
              "      <td>that's what his name was.</td>\n",
              "      <td>0.652426</td>\n",
              "      <td>0.187500</td>\n",
              "      <td>0.999579</td>\n",
              "      <td>0.000055</td>\n",
              "    </tr>\n",
              "    <tr>\n",
              "      <th>191213</th>\n",
              "      <td>I would take you on my shoulders, like, I'd st...</td>\n",
              "      <td>I'd take you on your shoulders... I'd tie you ...</td>\n",
              "      <td>0.790915</td>\n",
              "      <td>0.357143</td>\n",
              "      <td>0.961127</td>\n",
              "      <td>0.028628</td>\n",
              "    </tr>\n",
              "  </tbody>\n",
              "</table>\n",
              "</div>\n",
              "    <div class=\"colab-df-buttons\">\n",
              "\n",
              "  <div class=\"colab-df-container\">\n",
              "    <button class=\"colab-df-convert\" onclick=\"convertToInteractive('df-d1deceed-b23c-4977-a2fa-773c7f6ad82d')\"\n",
              "            title=\"Convert this dataframe to an interactive table.\"\n",
              "            style=\"display:none;\">\n",
              "\n",
              "  <svg xmlns=\"http://www.w3.org/2000/svg\" height=\"24px\" viewBox=\"0 -960 960 960\">\n",
              "    <path d=\"M120-120v-720h720v720H120Zm60-500h600v-160H180v160Zm220 220h160v-160H400v160Zm0 220h160v-160H400v160ZM180-400h160v-160H180v160Zm440 0h160v-160H620v160ZM180-180h160v-160H180v160Zm440 0h160v-160H620v160Z\"/>\n",
              "  </svg>\n",
              "    </button>\n",
              "\n",
              "  <style>\n",
              "    .colab-df-container {\n",
              "      display:flex;\n",
              "      gap: 12px;\n",
              "    }\n",
              "\n",
              "    .colab-df-convert {\n",
              "      background-color: #E8F0FE;\n",
              "      border: none;\n",
              "      border-radius: 50%;\n",
              "      cursor: pointer;\n",
              "      display: none;\n",
              "      fill: #1967D2;\n",
              "      height: 32px;\n",
              "      padding: 0 0 0 0;\n",
              "      width: 32px;\n",
              "    }\n",
              "\n",
              "    .colab-df-convert:hover {\n",
              "      background-color: #E2EBFA;\n",
              "      box-shadow: 0px 1px 2px rgba(60, 64, 67, 0.3), 0px 1px 3px 1px rgba(60, 64, 67, 0.15);\n",
              "      fill: #174EA6;\n",
              "    }\n",
              "\n",
              "    .colab-df-buttons div {\n",
              "      margin-bottom: 4px;\n",
              "    }\n",
              "\n",
              "    [theme=dark] .colab-df-convert {\n",
              "      background-color: #3B4455;\n",
              "      fill: #D2E3FC;\n",
              "    }\n",
              "\n",
              "    [theme=dark] .colab-df-convert:hover {\n",
              "      background-color: #434B5C;\n",
              "      box-shadow: 0px 1px 3px 1px rgba(0, 0, 0, 0.15);\n",
              "      filter: drop-shadow(0px 1px 2px rgba(0, 0, 0, 0.3));\n",
              "      fill: #FFFFFF;\n",
              "    }\n",
              "  </style>\n",
              "\n",
              "    <script>\n",
              "      const buttonEl =\n",
              "        document.querySelector('#df-d1deceed-b23c-4977-a2fa-773c7f6ad82d button.colab-df-convert');\n",
              "      buttonEl.style.display =\n",
              "        google.colab.kernel.accessAllowed ? 'block' : 'none';\n",
              "\n",
              "      async function convertToInteractive(key) {\n",
              "        const element = document.querySelector('#df-d1deceed-b23c-4977-a2fa-773c7f6ad82d');\n",
              "        const dataTable =\n",
              "          await google.colab.kernel.invokeFunction('convertToInteractive',\n",
              "                                                    [key], {});\n",
              "        if (!dataTable) return;\n",
              "\n",
              "        const docLinkHtml = 'Like what you see? Visit the ' +\n",
              "          '<a target=\"_blank\" href=https://colab.research.google.com/notebooks/data_table.ipynb>data table notebook</a>'\n",
              "          + ' to learn more about interactive tables.';\n",
              "        element.innerHTML = '';\n",
              "        dataTable['output_type'] = 'display_data';\n",
              "        await google.colab.output.renderOutput(dataTable, element);\n",
              "        const docLink = document.createElement('div');\n",
              "        docLink.innerHTML = docLinkHtml;\n",
              "        element.appendChild(docLink);\n",
              "      }\n",
              "    </script>\n",
              "  </div>\n",
              "\n",
              "\n",
              "<div id=\"df-b81c8c53-225e-4065-85cb-8579497c32d0\">\n",
              "  <button class=\"colab-df-quickchart\" onclick=\"quickchart('df-b81c8c53-225e-4065-85cb-8579497c32d0')\"\n",
              "            title=\"Suggest charts.\"\n",
              "            style=\"display:none;\">\n",
              "\n",
              "<svg xmlns=\"http://www.w3.org/2000/svg\" height=\"24px\"viewBox=\"0 0 24 24\"\n",
              "     width=\"24px\">\n",
              "    <g>\n",
              "        <path d=\"M19 3H5c-1.1 0-2 .9-2 2v14c0 1.1.9 2 2 2h14c1.1 0 2-.9 2-2V5c0-1.1-.9-2-2-2zM9 17H7v-7h2v7zm4 0h-2V7h2v10zm4 0h-2v-4h2v4z\"/>\n",
              "    </g>\n",
              "</svg>\n",
              "  </button>\n",
              "\n",
              "<style>\n",
              "  .colab-df-quickchart {\n",
              "      --bg-color: #E8F0FE;\n",
              "      --fill-color: #1967D2;\n",
              "      --hover-bg-color: #E2EBFA;\n",
              "      --hover-fill-color: #174EA6;\n",
              "      --disabled-fill-color: #AAA;\n",
              "      --disabled-bg-color: #DDD;\n",
              "  }\n",
              "\n",
              "  [theme=dark] .colab-df-quickchart {\n",
              "      --bg-color: #3B4455;\n",
              "      --fill-color: #D2E3FC;\n",
              "      --hover-bg-color: #434B5C;\n",
              "      --hover-fill-color: #FFFFFF;\n",
              "      --disabled-bg-color: #3B4455;\n",
              "      --disabled-fill-color: #666;\n",
              "  }\n",
              "\n",
              "  .colab-df-quickchart {\n",
              "    background-color: var(--bg-color);\n",
              "    border: none;\n",
              "    border-radius: 50%;\n",
              "    cursor: pointer;\n",
              "    display: none;\n",
              "    fill: var(--fill-color);\n",
              "    height: 32px;\n",
              "    padding: 0;\n",
              "    width: 32px;\n",
              "  }\n",
              "\n",
              "  .colab-df-quickchart:hover {\n",
              "    background-color: var(--hover-bg-color);\n",
              "    box-shadow: 0 1px 2px rgba(60, 64, 67, 0.3), 0 1px 3px 1px rgba(60, 64, 67, 0.15);\n",
              "    fill: var(--button-hover-fill-color);\n",
              "  }\n",
              "\n",
              "  .colab-df-quickchart-complete:disabled,\n",
              "  .colab-df-quickchart-complete:disabled:hover {\n",
              "    background-color: var(--disabled-bg-color);\n",
              "    fill: var(--disabled-fill-color);\n",
              "    box-shadow: none;\n",
              "  }\n",
              "\n",
              "  .colab-df-spinner {\n",
              "    border: 2px solid var(--fill-color);\n",
              "    border-color: transparent;\n",
              "    border-bottom-color: var(--fill-color);\n",
              "    animation:\n",
              "      spin 1s steps(1) infinite;\n",
              "  }\n",
              "\n",
              "  @keyframes spin {\n",
              "    0% {\n",
              "      border-color: transparent;\n",
              "      border-bottom-color: var(--fill-color);\n",
              "      border-left-color: var(--fill-color);\n",
              "    }\n",
              "    20% {\n",
              "      border-color: transparent;\n",
              "      border-left-color: var(--fill-color);\n",
              "      border-top-color: var(--fill-color);\n",
              "    }\n",
              "    30% {\n",
              "      border-color: transparent;\n",
              "      border-left-color: var(--fill-color);\n",
              "      border-top-color: var(--fill-color);\n",
              "      border-right-color: var(--fill-color);\n",
              "    }\n",
              "    40% {\n",
              "      border-color: transparent;\n",
              "      border-right-color: var(--fill-color);\n",
              "      border-top-color: var(--fill-color);\n",
              "    }\n",
              "    60% {\n",
              "      border-color: transparent;\n",
              "      border-right-color: var(--fill-color);\n",
              "    }\n",
              "    80% {\n",
              "      border-color: transparent;\n",
              "      border-right-color: var(--fill-color);\n",
              "      border-bottom-color: var(--fill-color);\n",
              "    }\n",
              "    90% {\n",
              "      border-color: transparent;\n",
              "      border-bottom-color: var(--fill-color);\n",
              "    }\n",
              "  }\n",
              "</style>\n",
              "\n",
              "  <script>\n",
              "    async function quickchart(key) {\n",
              "      const quickchartButtonEl =\n",
              "        document.querySelector('#' + key + ' button');\n",
              "      quickchartButtonEl.disabled = true;  // To prevent multiple clicks.\n",
              "      quickchartButtonEl.classList.add('colab-df-spinner');\n",
              "      try {\n",
              "        const charts = await google.colab.kernel.invokeFunction(\n",
              "            'suggestCharts', [key], {});\n",
              "      } catch (error) {\n",
              "        console.error('Error during call to suggestCharts:', error);\n",
              "      }\n",
              "      quickchartButtonEl.classList.remove('colab-df-spinner');\n",
              "      quickchartButtonEl.classList.add('colab-df-quickchart-complete');\n",
              "    }\n",
              "    (() => {\n",
              "      let quickchartButtonEl =\n",
              "        document.querySelector('#df-b81c8c53-225e-4065-85cb-8579497c32d0 button');\n",
              "      quickchartButtonEl.style.display =\n",
              "        google.colab.kernel.accessAllowed ? 'block' : 'none';\n",
              "    })();\n",
              "  </script>\n",
              "</div>\n",
              "    </div>\n",
              "  </div>\n"
            ]
          },
          "metadata": {},
          "execution_count": 18
        }
      ],
      "source": [
        "print(f\"Shape: {dataset.shape}\\n\")\n",
        "print(f\"Column datatypes:\")\n",
        "dataset.info()\n",
        "print()\n",
        "dataset.sample(5, random_state=42)"
      ]
    },
    {
      "cell_type": "markdown",
      "source": [
        "Insights:\n",
        "1. Reference might be not toxic, while translation is wise versa, i.e having toxicity value below 0.5 and above, respectively. In data preprocessing I might clear such samples.\n",
        "2. Translation might be more toxic than reference (see the first and the third samples). It means in preprocessing I should remove such pairs. I also might reorder the sentences in pairs according to the toxicity level, but this will make the data \"unnatural\", which may cause problems with training and evaluation."
      ],
      "metadata": {
        "id": "3G2b2zAPI1xI"
      }
    },
    {
      "cell_type": "markdown",
      "metadata": {
        "id": "E7XkpNktTsM0"
      },
      "source": [
        "### Data Exploration\n",
        "\n",
        "The data exploration step covers statistical, distributional analysis of the data, and a close look at the rows of the given dataset to detect relationships between the features\n",
        "\n",
        "Analyse columns one by one\n",
        "\n",
        "Start with reference and translation lens"
      ]
    },
    {
      "cell_type": "code",
      "execution_count": 19,
      "metadata": {
        "id": "1AjG2h6178j5",
        "outputId": "749ef151-35a1-4aff-b6c4-83fad636d86c",
        "colab": {
          "base_uri": "https://localhost:8080/",
          "height": 445
        }
      },
      "outputs": [
        {
          "output_type": "execute_result",
          "data": {
            "text/plain": [
              "[Text(0.5, 0, 'toxicity level')]"
            ]
          },
          "metadata": {},
          "execution_count": 19
        },
        {
          "output_type": "display_data",
          "data": {
            "text/plain": [
              "<Figure size 1200x400 with 2 Axes>"
            ],
            "image/png": "[encoded data removed]"
          },
          "metadata": {}
        }
      ],
      "source": [
        "fig, axs = plt.subplots(2, figsize=(12, 4))\n",
        "fig.suptitle('Histograms of toxicity')\n",
        "axs[0].hist(dataset.loc[:, \"ref_tox\"])\n",
        "axs[1].hist(dataset.loc[:, \"trn_tox\"])\n",
        "axs[0].set_title('ref_tox')\n",
        "axs[1].set_title('trn_tox')\n",
        "axs[0].set(xlabel='toxicity level', ylabel='values count')\n",
        "axs[1].set(xlabel='toxicity level')"
      ]
    },
    {
      "cell_type": "markdown",
      "metadata": {
        "id": "XS_wUKfS78j6"
      },
      "source": [
        "Insight: most of the sentences are either 0% or 100% toxic\n",
        "\n",
        "Share of samples where translation is more toxic than reference"
      ]
    },
    {
      "cell_type": "code",
      "source": [
        "f\"Toxic translations: {Counter(dataset['trn_tox'] > dataset['ref_tox'])[True] / len(dataset):.2f}%\""
      ],
      "metadata": {
        "colab": {
          "base_uri": "https://localhost:8080/",
          "height": 36
        },
        "id": "JuqMtiIHyvU-",
        "outputId": "00543024-dd46-484a-bdc3-e7d9ff5f18a2"
      },
      "execution_count": 20,
      "outputs": [
        {
          "output_type": "execute_result",
          "data": {
            "text/plain": [
              "'Toxic translations: 0.45%'"
            ],
            "application/vnd.google.colaboratory.intrinsic+json": {
              "type": "string"
            }
          },
          "metadata": {},
          "execution_count": 20
        }
      ]
    },
    {
      "cell_type": "markdown",
      "source": [
        "Analyse distribution of sequence lengths"
      ],
      "metadata": {
        "id": "pZi0Qjzeyu7h"
      }
    },
    {
      "cell_type": "code",
      "execution_count": 21,
      "metadata": {
        "id": "9HUvO0HS78j6",
        "outputId": "d996a284-1098-4b26-e4f9-025f324db827",
        "colab": {
          "base_uri": "https://localhost:8080/",
          "height": 445
        }
      },
      "outputs": [
        {
          "output_type": "execute_result",
          "data": {
            "text/plain": [
              "[Text(0.5, 0, 'sequence len')]"
            ]
          },
          "metadata": {},
          "execution_count": 21
        },
        {
          "output_type": "display_data",
          "data": {
            "text/plain": [
              "<Figure size 1200x400 with 2 Axes>"
            ],
            "image/png": "[encoded data removed]"
          },
          "metadata": {}
        }
      ],
      "source": [
        "# let us see distribution of length to define a value of SEQ_LEN\n",
        "ref_cnt = Counter((len(seq) for seq in dataset[\"reference\"] if len(seq) < 250))\n",
        "ref_cnt = sorted(dict(ref_cnt).items())\n",
        "trn_cnt = Counter((len(seq) for seq in dataset[\"translation\"] if len(seq) < 250))\n",
        "trn_cnt = sorted(dict(trn_cnt).items())\n",
        "fig, axs = plt.subplots(2, figsize=(12, 4))\n",
        "fig.suptitle('Histograms of toxicity')\n",
        "axs[0].plot([key for key, val in ref_cnt], [val for key, val in ref_cnt])\n",
        "axs[1].plot([key for key, val in trn_cnt], [val for key, val in trn_cnt])\n",
        "axs[0].set_title('ref_tox')\n",
        "axs[1].set_title('trn_tox')\n",
        "axs[0].set(xlabel='sequence len', ylabel='values count')\n",
        "axs[1].set(xlabel='sequence len')"
      ]
    },
    {
      "cell_type": "markdown",
      "source": [
        "Insight: translation and reference lengths have the same distribution with a peak at 25 words and 90% of the sequences of the lengths is under 100"
      ],
      "metadata": {
        "id": "81VAQbZDKDEk"
      }
    },
    {
      "cell_type": "markdown",
      "source": [
        "The most and the least toxic words"
      ],
      "metadata": {
        "id": "hxBUTYWuLDLA"
      }
    },
    {
      "cell_type": "code",
      "source": [
        "words_cnt = Counter((word\n",
        "                     for seq in dataset[\"reference\"]\n",
        "                     for word in set(word_tokenize(seq))))\n",
        "words_cnt += Counter((word\n",
        "                      for seq in dataset[\"translation\"]\n",
        "                      for word in set(word_tokenize(seq))))\n",
        "tox_words_cnt = Counter((word\n",
        "                         for seq in dataset[\"reference\"][dataset[\"ref_tox\"] > 0.5]\n",
        "                         for word in set(word_tokenize(seq))))\n",
        "tox_words_cnt += Counter((word\n",
        "                          for seq in dataset[\"translation\"][dataset[\"trn_tox\"] > 0.5]\n",
        "                          for word in set(word_tokenize(seq))))\n",
        "words_toxicity = {word: cnt / words_cnt[word] for word, cnt in tox_words_cnt.items() if cnt > 100}\n",
        "print(\"The most toxic words:\")\n",
        "pprint(sorted(words_toxicity.items(), key=lambda k_v: k_v[1], reverse=True)[:15])\n",
        "print(\"\\nThe least toxic words:\")\n",
        "pprint(sorted(words_toxicity.items(), key=lambda k_v: k_v[1], reverse=True)[-15:])"
      ],
      "metadata": {
        "colab": {
          "base_uri": "https://localhost:8080/"
        },
        "id": "5C9axLjaYXky",
        "outputId": "4601a898-d2f2-4ff9-8ebe-f2d8891381d9"
      },
      "execution_count": 22,
      "outputs": [
        {
          "output_type": "stream",
          "name": "stdout",
          "text": [
            "The most toxic words:\n",
            "[('Fuck', 1.0),\n",
            " ('motherfucker', 1.0),\n",
            " ('Bullshit', 1.0),\n",
            " ('Crap', 1.0),\n",
            " ('Fucking', 1.0),\n",
            " ('Dammit', 1.0),\n",
            " ('dumb-ass', 1.0),\n",
            " ('scumbag', 1.0),\n",
            " ('Stupid', 1.0),\n",
            " ('motherfuckers', 1.0),\n",
            " ('fuckers', 1.0),\n",
            " ('faggot', 1.0),\n",
            " ('morons', 1.0),\n",
            " ('motherfucking', 1.0),\n",
            " ('Fuckin', 1.0)]\n",
            "\n",
            "The least toxic words:\n",
            "[('Be', 0.26766304347826086),\n",
            " ('dull', 0.263681592039801),\n",
            " ('stuff', 0.2605820105820106),\n",
            " ('sleeping', 0.24289195775792038),\n",
            " ('laid', 0.23817567567567569),\n",
            " ('silent', 0.23790322580645162),\n",
            " ('madness', 0.2328519855595668),\n",
            " ('mess', 0.22549019607843138),\n",
            " ('mad', 0.21529068224050968),\n",
            " ('unhappy', 0.21492007104795738),\n",
            " ('bird', 0.20921450151057402),\n",
            " ('slept', 0.15558343789209536),\n",
            " ('messed', 0.13195342820181113),\n",
            " ('punk', 0.10849056603773585),\n",
            " ('quiet', 0.10321324245374879)]\n"
          ]
        }
      ]
    },
    {
      "cell_type": "markdown",
      "metadata": {
        "id": "Kzmd5_fjTsM1"
      },
      "source": [
        "### Data Quality Check\n",
        "\n",
        "Null values"
      ]
    },
    {
      "cell_type": "code",
      "execution_count": 23,
      "metadata": {
        "id": "csngCg5yTsM2",
        "outputId": "61f566d3-7c93-4298-8852-841dd4126db5",
        "colab": {
          "base_uri": "https://localhost:8080/"
        }
      },
      "outputs": [
        {
          "output_type": "execute_result",
          "data": {
            "text/plain": [
              "reference      0\n",
              "translation    0\n",
              "similarity     0\n",
              "lenght_diff    0\n",
              "ref_tox        0\n",
              "trn_tox        0\n",
              "dtype: int64"
            ]
          },
          "metadata": {},
          "execution_count": 23
        }
      ],
      "source": [
        "dataset.isnull().sum()"
      ]
    },
    {
      "cell_type": "markdown",
      "metadata": {
        "id": "IjT75AizTsM2"
      },
      "source": [
        "Insight: data is clear from null values\n",
        "\n",
        "Now let us check duplicates."
      ]
    },
    {
      "cell_type": "code",
      "execution_count": 24,
      "metadata": {
        "id": "hCv4wbvCYbxf",
        "outputId": "a5703c80-c592-4d02-fbd0-20296443f361",
        "colab": {
          "base_uri": "https://localhost:8080/",
          "height": 424
        }
      },
      "outputs": [
        {
          "output_type": "execute_result",
          "data": {
            "text/plain": [
              "                                                reference  \\\n",
              "13                   Come on, Cal, leave that shit alone.   \n",
              "27      Trying to keep me fucking drugged so I don't k...   \n",
              "49               Funny how Nazis are always the bad guys.   \n",
              "60                             Your girlfriends are dead.   \n",
              "63                             What the hell is going on?   \n",
              "...                                                   ...   \n",
              "577625  We've been on top of these peckerwoods since t...   \n",
              "577632                    Now, sign the fucking contract!   \n",
              "577634  You're goddamn lucky to have any man feel that...   \n",
              "577680                    The fuck are you talking about?   \n",
              "577756  And then I saw the gun and then he drew it... ...   \n",
              "\n",
              "                                              translation  similarity  \\\n",
              "13                             come on, Cal, put it down.    0.660481   \n",
              "27      you want to fool me so I don't know what's goi...    0.734157   \n",
              "49                 why are the Nazis always the bad guys?    0.687431   \n",
              "60                                 your friends are dead.    0.915111   \n",
              "63                                  what's going on here?    0.836245   \n",
              "...                                                   ...         ...   \n",
              "577625  we've been tracking these maths since they sho...    0.715349   \n",
              "577632                     you better sign this contract.    0.666639   \n",
              "577634  you're damn lucky to have a man who takes care...    0.760127   \n",
              "577680                        what are you talking about?    0.786859   \n",
              "577756  I saw the gun, and then...... he pulled it out...    0.800605   \n",
              "\n",
              "        lenght_diff   ref_tox   trn_tox  \n",
              "13         0.270270  0.999637  0.000279  \n",
              "27         0.208955  0.986213  0.010006  \n",
              "49         0.048780  0.534716  0.014441  \n",
              "60         0.148148  0.993116  0.012461  \n",
              "63         0.185185  0.927012  0.000042  \n",
              "...             ...       ...       ...  \n",
              "577625     0.032258  0.000822  0.995479  \n",
              "577632     0.031250  0.999580  0.000075  \n",
              "577634     0.153846  0.969237  0.021008  \n",
              "577680     0.125000  0.999583  0.000041  \n",
              "577756     0.172840  0.007993  0.943666  \n",
              "\n",
              "[33452 rows x 6 columns]"
            ],
            "text/html": [
              "\n",
              "  <div id=\"df-5742b2b1-c45d-4001-b974-277dcfa23a7f\" class=\"colab-df-container\">\n",
              "    <div>\n",
              "<style scoped>\n",
              "    .dataframe tbody tr th:only-of-type {\n",
              "        vertical-align: middle;\n",
              "    }\n",
              "\n",
              "    .dataframe tbody tr th {\n",
              "        vertical-align: top;\n",
              "    }\n",
              "\n",
              "    .dataframe thead th {\n",
              "        text-align: right;\n",
              "    }\n",
              "</style>\n",
              "<table border=\"1\" class=\"dataframe\">\n",
              "  <thead>\n",
              "    <tr style=\"text-align: right;\">\n",
              "      <th></th>\n",
              "      <th>reference</th>\n",
              "      <th>translation</th>\n",
              "      <th>similarity</th>\n",
              "      <th>lenght_diff</th>\n",
              "      <th>ref_tox</th>\n",
              "      <th>trn_tox</th>\n",
              "    </tr>\n",
              "  </thead>\n",
              "  <tbody>\n",
              "    <tr>\n",
              "      <th>13</th>\n",
              "      <td>Come on, Cal, leave that shit alone.</td>\n",
              "      <td>come on, Cal, put it down.</td>\n",
              "      <td>0.660481</td>\n",
              "      <td>0.270270</td>\n",
              "      <td>0.999637</td>\n",
              "      <td>0.000279</td>\n",
              "    </tr>\n",
              "    <tr>\n",
              "      <th>27</th>\n",
              "      <td>Trying to keep me fucking drugged so I don't k...</td>\n",
              "      <td>you want to fool me so I don't know what's goi...</td>\n",
              "      <td>0.734157</td>\n",
              "      <td>0.208955</td>\n",
              "      <td>0.986213</td>\n",
              "      <td>0.010006</td>\n",
              "    </tr>\n",
              "    <tr>\n",
              "      <th>49</th>\n",
              "      <td>Funny how Nazis are always the bad guys.</td>\n",
              "      <td>why are the Nazis always the bad guys?</td>\n",
              "      <td>0.687431</td>\n",
              "      <td>0.048780</td>\n",
              "      <td>0.534716</td>\n",
              "      <td>0.014441</td>\n",
              "    </tr>\n",
              "    <tr>\n",
              "      <th>60</th>\n",
              "      <td>Your girlfriends are dead.</td>\n",
              "      <td>your friends are dead.</td>\n",
              "      <td>0.915111</td>\n",
              "      <td>0.148148</td>\n",
              "      <td>0.993116</td>\n",
              "      <td>0.012461</td>\n",
              "    </tr>\n",
              "    <tr>\n",
              "      <th>63</th>\n",
              "      <td>What the hell is going on?</td>\n",
              "      <td>what's going on here?</td>\n",
              "      <td>0.836245</td>\n",
              "      <td>0.185185</td>\n",
              "      <td>0.927012</td>\n",
              "      <td>0.000042</td>\n",
              "    </tr>\n",
              "    <tr>\n",
              "      <th>...</th>\n",
              "      <td>...</td>\n",
              "      <td>...</td>\n",
              "      <td>...</td>\n",
              "      <td>...</td>\n",
              "      <td>...</td>\n",
              "      <td>...</td>\n",
              "    </tr>\n",
              "    <tr>\n",
              "      <th>577625</th>\n",
              "      <td>We've been on top of these peckerwoods since t...</td>\n",
              "      <td>we've been tracking these maths since they sho...</td>\n",
              "      <td>0.715349</td>\n",
              "      <td>0.032258</td>\n",
              "      <td>0.000822</td>\n",
              "      <td>0.995479</td>\n",
              "    </tr>\n",
              "    <tr>\n",
              "      <th>577632</th>\n",
              "      <td>Now, sign the fucking contract!</td>\n",
              "      <td>you better sign this contract.</td>\n",
              "      <td>0.666639</td>\n",
              "      <td>0.031250</td>\n",
              "      <td>0.999580</td>\n",
              "      <td>0.000075</td>\n",
              "    </tr>\n",
              "    <tr>\n",
              "      <th>577634</th>\n",
              "      <td>You're goddamn lucky to have any man feel that...</td>\n",
              "      <td>you're damn lucky to have a man who takes care...</td>\n",
              "      <td>0.760127</td>\n",
              "      <td>0.153846</td>\n",
              "      <td>0.969237</td>\n",
              "      <td>0.021008</td>\n",
              "    </tr>\n",
              "    <tr>\n",
              "      <th>577680</th>\n",
              "      <td>The fuck are you talking about?</td>\n",
              "      <td>what are you talking about?</td>\n",
              "      <td>0.786859</td>\n",
              "      <td>0.125000</td>\n",
              "      <td>0.999583</td>\n",
              "      <td>0.000041</td>\n",
              "    </tr>\n",
              "    <tr>\n",
              "      <th>577756</th>\n",
              "      <td>And then I saw the gun and then he drew it... ...</td>\n",
              "      <td>I saw the gun, and then...... he pulled it out...</td>\n",
              "      <td>0.800605</td>\n",
              "      <td>0.172840</td>\n",
              "      <td>0.007993</td>\n",
              "      <td>0.943666</td>\n",
              "    </tr>\n",
              "  </tbody>\n",
              "</table>\n",
              "<p>33452 rows × 6 columns</p>\n",
              "</div>\n",
              "    <div class=\"colab-df-buttons\">\n",
              "\n",
              "  <div class=\"colab-df-container\">\n",
              "    <button class=\"colab-df-convert\" onclick=\"convertToInteractive('df-5742b2b1-c45d-4001-b974-277dcfa23a7f')\"\n",
              "            title=\"Convert this dataframe to an interactive table.\"\n",
              "            style=\"display:none;\">\n",
              "\n",
              "  <svg xmlns=\"http://www.w3.org/2000/svg\" height=\"24px\" viewBox=\"0 -960 960 960\">\n",
              "    <path d=\"M120-120v-720h720v720H120Zm60-500h600v-160H180v160Zm220 220h160v-160H400v160Zm0 220h160v-160H400v160ZM180-400h160v-160H180v160Zm440 0h160v-160H620v160ZM180-180h160v-160H180v160Zm440 0h160v-160H620v160Z\"/>\n",
              "  </svg>\n",
              "    </button>\n",
              "\n",
              "  <style>\n",
              "    .colab-df-container {\n",
              "      display:flex;\n",
              "      gap: 12px;\n",
              "    }\n",
              "\n",
              "    .colab-df-convert {\n",
              "      background-color: #E8F0FE;\n",
              "      border: none;\n",
              "      border-radius: 50%;\n",
              "      cursor: pointer;\n",
              "      display: none;\n",
              "      fill: #1967D2;\n",
              "      height: 32px;\n",
              "      padding: 0 0 0 0;\n",
              "      width: 32px;\n",
              "    }\n",
              "\n",
              "    .colab-df-convert:hover {\n",
              "      background-color: #E2EBFA;\n",
              "      box-shadow: 0px 1px 2px rgba(60, 64, 67, 0.3), 0px 1px 3px 1px rgba(60, 64, 67, 0.15);\n",
              "      fill: #174EA6;\n",
              "    }\n",
              "\n",
              "    .colab-df-buttons div {\n",
              "      margin-bottom: 4px;\n",
              "    }\n",
              "\n",
              "    [theme=dark] .colab-df-convert {\n",
              "      background-color: #3B4455;\n",
              "      fill: #D2E3FC;\n",
              "    }\n",
              "\n",
              "    [theme=dark] .colab-df-convert:hover {\n",
              "      background-color: #434B5C;\n",
              "      box-shadow: 0px 1px 3px 1px rgba(0, 0, 0, 0.15);\n",
              "      filter: drop-shadow(0px 1px 2px rgba(0, 0, 0, 0.3));\n",
              "      fill: #FFFFFF;\n",
              "    }\n",
              "  </style>\n",
              "\n",
              "    <script>\n",
              "      const buttonEl =\n",
              "        document.querySelector('#df-5742b2b1-c45d-4001-b974-277dcfa23a7f button.colab-df-convert');\n",
              "      buttonEl.style.display =\n",
              "        google.colab.kernel.accessAllowed ? 'block' : 'none';\n",
              "\n",
              "      async function convertToInteractive(key) {\n",
              "        const element = document.querySelector('#df-5742b2b1-c45d-4001-b974-277dcfa23a7f');\n",
              "        const dataTable =\n",
              "          await google.colab.kernel.invokeFunction('convertToInteractive',\n",
              "                                                    [key], {});\n",
              "        if (!dataTable) return;\n",
              "\n",
              "        const docLinkHtml = 'Like what you see? Visit the ' +\n",
              "          '<a target=\"_blank\" href=https://colab.research.google.com/notebooks/data_table.ipynb>data table notebook</a>'\n",
              "          + ' to learn more about interactive tables.';\n",
              "        element.innerHTML = '';\n",
              "        dataTable['output_type'] = 'display_data';\n",
              "        await google.colab.output.renderOutput(dataTable, element);\n",
              "        const docLink = document.createElement('div');\n",
              "        docLink.innerHTML = docLinkHtml;\n",
              "        element.appendChild(docLink);\n",
              "      }\n",
              "    </script>\n",
              "  </div>\n",
              "\n",
              "\n",
              "<div id=\"df-9e127ef9-dd83-4713-abe1-95cf708f7676\">\n",
              "  <button class=\"colab-df-quickchart\" onclick=\"quickchart('df-9e127ef9-dd83-4713-abe1-95cf708f7676')\"\n",
              "            title=\"Suggest charts.\"\n",
              "            style=\"display:none;\">\n",
              "\n",
              "<svg xmlns=\"http://www.w3.org/2000/svg\" height=\"24px\"viewBox=\"0 0 24 24\"\n",
              "     width=\"24px\">\n",
              "    <g>\n",
              "        <path d=\"M19 3H5c-1.1 0-2 .9-2 2v14c0 1.1.9 2 2 2h14c1.1 0 2-.9 2-2V5c0-1.1-.9-2-2-2zM9 17H7v-7h2v7zm4 0h-2V7h2v10zm4 0h-2v-4h2v4z\"/>\n",
              "    </g>\n",
              "</svg>\n",
              "  </button>\n",
              "\n",
              "<style>\n",
              "  .colab-df-quickchart {\n",
              "      --bg-color: #E8F0FE;\n",
              "      --fill-color: #1967D2;\n",
              "      --hover-bg-color: #E2EBFA;\n",
              "      --hover-fill-color: #174EA6;\n",
              "      --disabled-fill-color: #AAA;\n",
              "      --disabled-bg-color: #DDD;\n",
              "  }\n",
              "\n",
              "  [theme=dark] .colab-df-quickchart {\n",
              "      --bg-color: #3B4455;\n",
              "      --fill-color: #D2E3FC;\n",
              "      --hover-bg-color: #434B5C;\n",
              "      --hover-fill-color: #FFFFFF;\n",
              "      --disabled-bg-color: #3B4455;\n",
              "      --disabled-fill-color: #666;\n",
              "  }\n",
              "\n",
              "  .colab-df-quickchart {\n",
              "    background-color: var(--bg-color);\n",
              "    border: none;\n",
              "    border-radius: 50%;\n",
              "    cursor: pointer;\n",
              "    display: none;\n",
              "    fill: var(--fill-color);\n",
              "    height: 32px;\n",
              "    padding: 0;\n",
              "    width: 32px;\n",
              "  }\n",
              "\n",
              "  .colab-df-quickchart:hover {\n",
              "    background-color: var(--hover-bg-color);\n",
              "    box-shadow: 0 1px 2px rgba(60, 64, 67, 0.3), 0 1px 3px 1px rgba(60, 64, 67, 0.15);\n",
              "    fill: var(--button-hover-fill-color);\n",
              "  }\n",
              "\n",
              "  .colab-df-quickchart-complete:disabled,\n",
              "  .colab-df-quickchart-complete:disabled:hover {\n",
              "    background-color: var(--disabled-bg-color);\n",
              "    fill: var(--disabled-fill-color);\n",
              "    box-shadow: none;\n",
              "  }\n",
              "\n",
              "  .colab-df-spinner {\n",
              "    border: 2px solid var(--fill-color);\n",
              "    border-color: transparent;\n",
              "    border-bottom-color: var(--fill-color);\n",
              "    animation:\n",
              "      spin 1s steps(1) infinite;\n",
              "  }\n",
              "\n",
              "  @keyframes spin {\n",
              "    0% {\n",
              "      border-color: transparent;\n",
              "      border-bottom-color: var(--fill-color);\n",
              "      border-left-color: var(--fill-color);\n",
              "    }\n",
              "    20% {\n",
              "      border-color: transparent;\n",
              "      border-left-color: var(--fill-color);\n",
              "      border-top-color: var(--fill-color);\n",
              "    }\n",
              "    30% {\n",
              "      border-color: transparent;\n",
              "      border-left-color: var(--fill-color);\n",
              "      border-top-color: var(--fill-color);\n",
              "      border-right-color: var(--fill-color);\n",
              "    }\n",
              "    40% {\n",
              "      border-color: transparent;\n",
              "      border-right-color: var(--fill-color);\n",
              "      border-top-color: var(--fill-color);\n",
              "    }\n",
              "    60% {\n",
              "      border-color: transparent;\n",
              "      border-right-color: var(--fill-color);\n",
              "    }\n",
              "    80% {\n",
              "      border-color: transparent;\n",
              "      border-right-color: var(--fill-color);\n",
              "      border-bottom-color: var(--fill-color);\n",
              "    }\n",
              "    90% {\n",
              "      border-color: transparent;\n",
              "      border-bottom-color: var(--fill-color);\n",
              "    }\n",
              "  }\n",
              "</style>\n",
              "\n",
              "  <script>\n",
              "    async function quickchart(key) {\n",
              "      const quickchartButtonEl =\n",
              "        document.querySelector('#' + key + ' button');\n",
              "      quickchartButtonEl.disabled = true;  // To prevent multiple clicks.\n",
              "      quickchartButtonEl.classList.add('colab-df-spinner');\n",
              "      try {\n",
              "        const charts = await google.colab.kernel.invokeFunction(\n",
              "            'suggestCharts', [key], {});\n",
              "      } catch (error) {\n",
              "        console.error('Error during call to suggestCharts:', error);\n",
              "      }\n",
              "      quickchartButtonEl.classList.remove('colab-df-spinner');\n",
              "      quickchartButtonEl.classList.add('colab-df-quickchart-complete');\n",
              "    }\n",
              "    (() => {\n",
              "      let quickchartButtonEl =\n",
              "        document.querySelector('#df-9e127ef9-dd83-4713-abe1-95cf708f7676 button');\n",
              "      quickchartButtonEl.style.display =\n",
              "        google.colab.kernel.accessAllowed ? 'block' : 'none';\n",
              "    })();\n",
              "  </script>\n",
              "</div>\n",
              "    </div>\n",
              "  </div>\n"
            ]
          },
          "metadata": {},
          "execution_count": 24
        }
      ],
      "source": [
        "dataset[dataset[[\"reference\", \"translation\"]].duplicated(keep=False)]"
      ]
    },
    {
      "cell_type": "markdown",
      "metadata": {
        "id": "XVbsRGq-78kB"
      },
      "source": [
        "Insight: duplicates should be removed"
      ]
    },
    {
      "cell_type": "markdown",
      "metadata": {
        "id": "70YkhmrH78kO"
      },
      "source": [
        "## Data Preprocessing\n",
        "\n",
        "In this step I get rid of duplicates and remove entries where the translation is more toxic than reference"
      ]
    },
    {
      "cell_type": "markdown",
      "metadata": {
        "id": "TxwdVcIv78kQ"
      },
      "source": [
        "### Data Cleaning\n",
        "\n",
        "Remove duplicates"
      ]
    },
    {
      "cell_type": "code",
      "source": [
        "print(dataset.shape)\n",
        "dataset.drop_duplicates([\"reference\", \"translation\"], inplace=True)\n",
        "print(dataset.shape)"
      ],
      "metadata": {
        "colab": {
          "base_uri": "https://localhost:8080/"
        },
        "id": "END-a-UCd4o4",
        "outputId": "8c206beb-8a26-4c1a-cfaf-46acc8539578"
      },
      "execution_count": 25,
      "outputs": [
        {
          "output_type": "stream",
          "name": "stdout",
          "text": [
            "(577777, 6)\n",
            "(558133, 6)\n"
          ]
        }
      ]
    },
    {
      "cell_type": "markdown",
      "metadata": {
        "id": "v820Khw-78kS"
      },
      "source": [
        "### Inconsistent Data Fixing\n",
        "\n",
        "Remove pairs where translation is more toxic than reference or reference is not toxic or translation is toxic (recall the insights from data description section)"
      ]
    },
    {
      "cell_type": "code",
      "source": [
        "print(dataset.shape)\n",
        "dataset.drop(dataset[dataset[\"trn_tox\"] > dataset[\"ref_tox\"]].index, inplace=True)\n",
        "print(dataset.shape)\n",
        "dataset.drop(dataset[dataset[\"ref_tox\"] < 0.5].index, inplace=True)\n",
        "print(dataset.shape)\n",
        "dataset.drop(dataset[dataset[\"trn_tox\"] > 0.5].index, inplace=True)\n",
        "print(dataset.shape)"
      ],
      "metadata": {
        "colab": {
          "base_uri": "https://localhost:8080/"
        },
        "id": "H8US1n8XVblA",
        "outputId": "440b36bc-c1ab-400b-836b-09bee4f181b9"
      },
      "execution_count": 26,
      "outputs": [
        {
          "output_type": "stream",
          "name": "stdout",
          "text": [
            "(558133, 6)\n",
            "(307725, 6)\n",
            "(307725, 6)\n",
            "(307725, 6)\n"
          ]
        }
      ]
    },
    {
      "cell_type": "markdown",
      "source": [
        "Experimental approach: flip more toxic translations (recall the insight from data description section)"
      ],
      "metadata": {
        "id": "u7KUdNhKVQLd"
      }
    },
    {
      "cell_type": "code",
      "source": [
        "# dataset = dataset.apply(lambda row: (row[1], row[0], row[2], row[3], row[5], row[4]) if row[4] < row[5] else row, axis=1)\n",
        "# dataset.loc[57809]"
      ],
      "metadata": {
        "id": "ktPZuEsQfcm-"
      },
      "execution_count": 27,
      "outputs": []
    }
  ]
}